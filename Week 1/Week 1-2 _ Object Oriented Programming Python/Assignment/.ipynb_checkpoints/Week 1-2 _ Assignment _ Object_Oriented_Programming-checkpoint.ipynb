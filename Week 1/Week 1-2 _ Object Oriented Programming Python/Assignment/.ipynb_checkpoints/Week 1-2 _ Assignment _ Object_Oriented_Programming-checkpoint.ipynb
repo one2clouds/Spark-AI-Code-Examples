{
 "cells": [
  {
   "cell_type": "markdown",
   "metadata": {
    "id": "eispJBJUKmjG"
   },
   "source": [
    "## Hello everybody 😃 😃 welcome back\n",
    "\n",
    "This assignment is for workshop_02 in Object_Oriented Programming (OOP) in python."
   ]
  },
  {
   "cell_type": "markdown",
   "metadata": {
    "id": "dDq4usPd48Hw"
   },
   "source": [
    "### Let's dive deeper 😁\n",
    "\n",
    "Object oriented programming is based on the idea of grouping data and functions together in what's called a class.\n"
   ]
  },
  {
   "cell_type": "markdown",
   "metadata": {
    "id": "Oh3kuN9XJz9m"
   },
   "source": [
    "## Let's see some main concepts 😃😃\n",
    "\n",
    "We can define a class by typing Class then the name of the class. we can also define variables inside the class and they could be only used within the class.\n",
    "\n",
    "The init function is where you add your variables. but this time we don't just declare the variables as before, but we add them as a self.variable_name to be accessible within all functions in the class.\n",
    "\n",
    "\n",
    "```\n",
    "class Person():\n",
    "  def __init__(name, age)\n",
    "    self.name = name\n",
    "    self.age = age\n",
    "\n",
    "  def check_age()\n",
    "    if self.age > 30:\n",
    "      print(True)\n",
    "\n",
    "\n",
    "\n",
    "  p = Person(\"Alice\" , 25)\n",
    "\n",
    "```\n",
    "\n",
    "So, here we created a class called person that we could define a name and age for.\n",
    "\n",
    "To use this class we create an instance from it which is called \"Object\" we just do as in the code. Name the object (in this case p) and give it the values needed by the init function.\n",
    "\n",
    "\n",
    "\n",
    "```\n",
    "print(p.check_age())\n",
    "\n",
    "False\n",
    "```\n",
    "\n",
    "We can also call functions from the class. Just like this ✅ ✅\n"
   ]
  },
  {
   "cell_type": "markdown",
   "metadata": {
    "id": "9EM_GIecNDCR"
   },
   "source": [
    "\n",
    "**Q1.**\n",
    " Consider the following example of a class of participants in a workshop. Add a variable 'pronoun' to the Participant class and make a method that can access to the pronoun of each partcipant and print it."
   ]
  },
  {
   "cell_type": "code",
   "execution_count": 3,
   "metadata": {
    "id": "ysLDm91jNg-c"
   },
   "outputs": [],
   "source": [
    "class Participant():\n",
    "    def __init__(self, name, job, country, age, pronoun):\n",
    "        self.name = name\n",
    "        self.job = job\n",
    "        self.country = country\n",
    "        self.age = age\n",
    "        self.pronoun = pronoun\n",
    "    def introduce(self):\n",
    "        intro = f'My name is {self.name}. I am from {self.country}.'\n",
    "        return (intro)\n",
    "    def get_pronouns(self):\n",
    "        my_pronoun = f\"My pronoun is {self.pronoun}\"\n",
    "        return my_pronoun\n",
    "    def career(self):\n",
    "        print(f'My job is {self.job}.')\n"
   ]
  },
  {
   "cell_type": "code",
   "execution_count": 7,
   "metadata": {},
   "outputs": [
    {
     "name": "stdout",
     "output_type": "stream",
     "text": [
      "My name is s-ach. I am from nep.\n",
      "My pronoun is him\n",
      "My job is intern.\n"
     ]
    }
   ],
   "source": [
    "participant = Participant(\"s-ach\", \"intern\",\"nep\",\"23\",\"him\" )\n",
    "intro = participant.introduce()\n",
    "pronoun = participant.get_pronouns()\n",
    "print(intro)\n",
    "print(pronoun)\n",
    "participant.career()"
   ]
  },
  {
   "cell_type": "markdown",
   "metadata": {
    "id": "pIdma5T4WSnW"
   },
   "source": [
    "**Q2.**\n",
    "Complete the Message class given below using the 'length' method to return the length of a message. Add an 'append' method that add the all tweets into the tweets list.\n",
    "\n",
    "Then try to make some objects based on the completed version of the class and apply the methods for them."
   ]
  },
  {
   "cell_type": "code",
   "execution_count": 10,
   "metadata": {
    "id": "SvgdwdQCZFLa"
   },
   "outputs": [],
   "source": [
    "import time\n",
    "class Message():\n",
    "  def __init__(self, owner, tweet):\n",
    "    self.owner = owner\n",
    "    self.tweet = tweet\n",
    "    self.time = time.time()\n",
    "    self.tweets = list()\n",
    "    self.tweets.append(tweet)\n",
    "    \n",
    "  def tweeter(self):\n",
    "    print(f'{self.owner} is the author of the: \\n{self.tweet}.')\n",
    "\n",
    "  def __len__(self):\n",
    "      return len(self.tweets)\n",
    "    #return the length and the owner of the tweet.\n",
    "\n"
   ]
  },
  {
   "cell_type": "code",
   "execution_count": 11,
   "metadata": {},
   "outputs": [
    {
     "name": "stdout",
     "output_type": "stream",
     "text": [
      "s-ach is the author of the \n",
      "ello ello ello.\n",
      "1\n"
     ]
    }
   ],
   "source": [
    "message = Message(\"s-ach\",\"ello ello ello\")\n",
    "message = Message(\"s-ach\",\"ello ello ello\")\n",
    "message = Message(\"s-ach\",\"ello ello ello\")\n",
    "\n",
    "message.tweeter()\n",
    "print(message.__len__())"
   ]
  },
  {
   "cell_type": "code",
   "execution_count": null,
   "metadata": {},
   "outputs": [],
   "source": []
  },
  {
   "cell_type": "markdown",
   "metadata": {
    "id": "yR8ccniB4rAk"
   },
   "source": [
    "**Q3.**\n",
    "Complete the Student class and implement the operator methods such as:\n",
    "1. \\__le__()\n",
    "2. \\__ge__()\n",
    "3. \\__eq__()\n",
    "4. \\__add__()\n",
    "5. \\__mul__()\n",
    "\n",
    "Then apply them over the objects of the class."
   ]
  },
  {
   "cell_type": "code",
   "execution_count": null,
   "metadata": {
    "id": "bAJ4GmbT72p0"
   },
   "outputs": [],
   "source": [
    "class Student():\n",
    "  def __init__(self, name, mark):\n",
    "    self.name = name\n",
    "    self.mark = mark\n",
    "\n",
    "  def __add__(self, other):\n",
    "    return self.mark + other.mark\n"
   ]
  }
 ],
 "metadata": {
  "colab": {
   "provenance": []
  },
  "kernelspec": {
   "display_name": "Python 3 (ipykernel)",
   "language": "python",
   "name": "python3"
  },
  "language_info": {
   "codemirror_mode": {
    "name": "ipython",
    "version": 3
   },
   "file_extension": ".py",
   "mimetype": "text/x-python",
   "name": "python",
   "nbconvert_exporter": "python",
   "pygments_lexer": "ipython3",
   "version": "3.10.12"
  }
 },
 "nbformat": 4,
 "nbformat_minor": 4
}
