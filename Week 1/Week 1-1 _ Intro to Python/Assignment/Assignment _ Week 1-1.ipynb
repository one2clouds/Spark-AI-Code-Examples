{
 "cells": [
  {
   "cell_type": "markdown",
   "metadata": {
    "id": "wMHWNg_H1k_M"
   },
   "source": [
    "For some questions there are TODOs that you need to complete. For others you need to write the whole program.\n",
    "\n",
    "\n",
    "Note: If you run the Code cells, you will get an error as they are partially incomplete. You need to first complete them and then run them."
   ]
  },
  {
   "cell_type": "markdown",
   "metadata": {
    "id": "Vk2VRjwfhtAy"
   },
   "source": [
    "# Introduction to python 💪\n",
    "Python is a popular programming language\n",
    "\n",
    "✅ ✅ A programming language is a system of notation for writing computer programs.\n",
    "### But why python ❗\n",
    "\n",
    "\n",
    "*   Python has a simple syntax similar to the English language\n",
    "*   Python has syntax that allows developers to write programs with fewer lines than some other programming languages.\n",
    "\n",
    "*   Python runs on an interpreter system, meaning that code can be executed as soon as it is written.\n",
    "\n",
    "\n",
    "### Let's try some simple python coding 💯\n",
    "\n"
   ]
  },
  {
   "cell_type": "markdown",
   "metadata": {
    "id": "QWcLYNXaL5n5"
   },
   "source": [
    "## variables"
   ]
  },
  {
   "cell_type": "markdown",
   "metadata": {
    "id": "4eXCxPR7viqw"
   },
   "source": [
    "**1. Write a a program to get the sum of two variables.**\n",
    "\n",
    "To do so, you need to define your variables first 🎯 (Don't forget to do that).\n",
    "\n",
    "Python will never undersatnd any variable unless you let it know what is it 😟\n",
    "\n",
    "The variables could contain different types of values such as an integer (which is a number) or even a string (which is text)\n",
    "\n",
    "✅ ✅ Variables are containers for storing data values.\n",
    "\n",
    "So, when you are writing that x = 5 you are assigning a value of 5 to the variable x. You can name the variable as you can and assign values as you can\n",
    "\n",
    "**What could be a variable name?**\n",
    "For now, any word or _ like doodle, x, y, _, hi1 all of those are acceptable. But naming your variables with meaningfull names will save your life later. So try to avoid ambiguous names like x\n",
    "\n"
   ]
  },
  {
   "cell_type": "code",
   "execution_count": 1,
   "metadata": {
    "id": "zQTIe3m-vgzk"
   },
   "outputs": [
    {
     "name": "stdout",
     "output_type": "stream",
     "text": [
      "14\n"
     ]
    }
   ],
   "source": [
    "x = 5\n",
    "y = 9    #TODO: Complete this line -- assign a value for y\n",
    "\n",
    "# to make sure that x and y are integer numbers let's force them to be\n",
    "x= int(x)\n",
    "y= int(y)\n",
    "\n",
    "print(x + y)  # this print function prints out your output so you can check if it's correct"
   ]
  },
  {
   "cell_type": "markdown",
   "metadata": {
    "id": "ONO8Ls_Ayntk"
   },
   "source": [
    "\n",
    "### Python supports the usual logical conditions from mathematics:\n",
    "\n",
    "* Equals: a == b\n",
    "* Not Equals: a != b\n",
    "* Less than: a < b\n",
    "* Less than or equal to: a <= b\n",
    "* Greater than: a > b\n",
    "* Greater than or equal to: a >= b\n",
    "\n",
    "if you would like to check for example if two variables are equal or if a variable is equal to a specific value, just ask if they are using the **if** statement 😮\n",
    "\n",
    "Let's try this:\n",
    "\n",
    "**2. Write a program to read the age of a candidate from the input and determine whether the candidate is eligible for casting vote or not.**\n"
   ]
  },
  {
   "cell_type": "code",
   "execution_count": 2,
   "metadata": {
    "id": "Q-65ao6Iwb-6"
   },
   "outputs": [
    {
     "name": "stdout",
     "output_type": "stream",
     "text": [
      "Eligible!\n"
     ]
    }
   ],
   "source": [
    "age = 18  #TODO: convert the variable to int\n",
    "\n",
    "if age >= 18:#TODO: Enter the right condition. Anyone older than 18 should be eligible.\n",
    "  print('Eligible!')\n",
    "else:\n",
    "  print('Not eligible!')"
   ]
  },
  {
   "cell_type": "markdown",
   "metadata": {
    "id": "PqZiN2Cx0UC4"
   },
   "source": [
    "**3. Write a program to get a character from the input and check whether it is a alphabet, digit or special character.**"
   ]
  },
  {
   "cell_type": "code",
   "execution_count": 3,
   "metadata": {
    "id": "4iU61LnW0xXL"
   },
   "outputs": [
    {
     "name": "stdout",
     "output_type": "stream",
     "text": [
      "Alphabet!\n"
     ]
    }
   ],
   "source": [
    "character = 'a'# choose a character\n",
    "\n",
    "if (character>='a'and character <= 'z') or (character>='A' and character <= 'Z'):\n",
    "    print('Alphabet!')\n",
    "elif character.isdigit() == True:#TODO: Enter the right condition. Anyone older than 18 should be eligible.\n",
    "    print('Digit!')\n",
    "else:\n",
    "    print('Special character!')\n",
    "#Hint: Read the list of methods introduced in the tutorial for working with strings"
   ]
  },
  {
   "cell_type": "markdown",
   "metadata": {
    "id": "47tS5-zm2CG4"
   },
   "source": [
    "**4. Write a program to read a month number in integer and print the month name.**\n",
    "\n",
    "The month name and numbers are as follwos:\n",
    "* 1: January\n",
    "* 2: February\n",
    "* 3: March\n",
    "* 4: April\n",
    "* 5: May\n",
    "* 6: June\n",
    "* 7: July\n",
    "* 8: August\n",
    "* 9: September\n",
    "* 10: October\n",
    "* 11: November12: December"
   ]
  },
  {
   "cell_type": "code",
   "execution_count": 4,
   "metadata": {
    "id": "cM-yfCkD0wHs"
   },
   "outputs": [
    {
     "name": "stdout",
     "output_type": "stream",
     "text": [
      "Jan\n"
     ]
    }
   ],
   "source": [
    "# 💎Extra: We (python programers) like to name variables with _ between the words in a variable name.\n",
    "# so we write month_number not monthnumber or monthNumber\n",
    "\n",
    "month_number = 1# test with different numbers\n",
    "if month_number == 1:\n",
    "    print(\"Jan\")\n",
    "elif month_number == 2:\n",
    "    print(\"Feb\")\n",
    "elif month_number == 3:\n",
    "    print(\"MAr\")\n",
    "elif month_number == 4:\n",
    "    print(\"April\")\n",
    "elif month_number == 5:\n",
    "    print(\"May\")\n",
    "elif month_number == 6:\n",
    "    print(\"Jun\")\n",
    "else:\n",
    "    print(\"Other month\")\n",
    "#TODO: Write the program here\n",
    "\n",
    "# 💪 Now use if elif else to make your logic"
   ]
  },
  {
   "cell_type": "markdown",
   "metadata": {
    "id": "iIhcCQiP3EnE"
   },
   "source": [
    "5. Write a program in to simulate a simple calculator."
   ]
  },
  {
   "cell_type": "code",
   "execution_count": 5,
   "metadata": {
    "id": "DURW9ZTj3DXG"
   },
   "outputs": [
    {
     "name": "stdout",
     "output_type": "stream",
     "text": [
      "The result is 20\n"
     ]
    }
   ],
   "source": [
    "operator = '*'# TODO: Enter the operator. Valid options include +,- *, abd /\n",
    "left_operand =5 # TODO: Enter the left operand\n",
    "right_operand = 4# TODO: Enter the right operand\n",
    "result = None\n",
    "if operator == '+':\n",
    "    result = left_operand + right_operand\n",
    "elif operator == '-':\n",
    "    result = left_operand - right_operand\n",
    "elif operator == '*':\n",
    "    result = left_operand * right_operand\n",
    "elif operator == '/':\n",
    "    result = left_operand / right_operand\n",
    "  #TODO: complete this line\n",
    "else:\n",
    "  print('Invalid operator')\n",
    "\n",
    "if result is not None:\n",
    "  print(f'The result is {result}')"
   ]
  },
  {
   "cell_type": "markdown",
   "metadata": {
    "id": "sgVaQttU7y0y"
   },
   "source": [
    "**5.  Write a program to display a pattern similar to the following. Here there is 4 lines but number of lines should be entered by user and could be a number between 3, 20.**\n",
    "\n",
    "\\*\n",
    "\n",
    "\\*\\*\n",
    "\n",
    "\\*\\*\\*\n",
    "\n",
    "\\*\\*\\*\\*\n",
    "\n",
    "\\*\\*\\*\\*\\*\n",
    "\n",
    "\\*\\*\\*\\*\\*\\*"
   ]
  },
  {
   "cell_type": "markdown",
   "metadata": {
    "id": "BAXiUCiSMGhq"
   },
   "source": [
    "## Loops"
   ]
  },
  {
   "cell_type": "markdown",
   "metadata": {
    "id": "_Nk0AU5RQ4uG"
   },
   "source": [
    "![ChessUrl](https://64.media.tumblr.com/tumblr_lrmfqzda1K1r1c6jgo2_400.gif \"chess\")"
   ]
  },
  {
   "cell_type": "markdown",
   "metadata": {
    "id": "OVRH218hQB00"
   },
   "source": [
    "\n",
    "src: https://64.media.tumblr.com/tumblr_lrmfqzda1K1r1c6jgo2_400.gif"
   ]
  },
  {
   "cell_type": "markdown",
   "metadata": {
    "id": "pU0KyWjnMOkE"
   },
   "source": [
    "Untill now you were able to make an operation once. Like if you want to increment x by 1, you write `x = x+1`. What if you wnat to add 1 to x 5 times. A simple solution is:<br>\n",
    "```\n",
    "x=x+1\n",
    "x=x+1\n",
    "x=x+1\n",
    "x=x+1\n",
    "x=x+1\n",
    "```\n",
    "\n",
    "What about if wanted to do it 100000 times? Or if you wnated to repeate it n times? loops could help you with that. The syntax is simple.\n",
    "\n",
    "\n",
    "Lets make a loop over numbers for 0 to 9 and sum them.\n",
    "\n",
    "```\n",
    "x=0 # declare the variable x and assigen it value 0\n",
    "for i in range(10):\n",
    "  x=x+i\n",
    "\n",
    "print(x)\n",
    "```\n",
    "\n",
    "range(10) this is a function that returns a list between 0 and the number we gave. In other words range(10) gives us a list [0,1,2,3,4,5,6,7,8,9] *note 10 is not included*.\n",
    "\n",
    "Want to make your own functions? Next section you will\n"
   ]
  },
  {
   "cell_type": "code",
   "execution_count": 6,
   "metadata": {
    "colab": {
     "base_uri": "https://localhost:8080/"
    },
    "id": "VeHS4xJm57K9",
    "outputId": "2bfd3764-f0a0-4963-bf69-d5b38bc5a493"
   },
   "outputs": [
    {
     "name": "stdout",
     "output_type": "stream",
     "text": [
      "*\n",
      "**\n",
      "***\n",
      "****\n",
      "*****\n",
      "******\n"
     ]
    }
   ],
   "source": [
    "num_lines = 6# TODO: Enter the number of lines\n",
    "for i in range(1, num_lines + 1):\n",
    "    s = ''\n",
    "    for j in range(i):\n",
    "      s += '*'\n",
    "    print(s)"
   ]
  },
  {
   "cell_type": "markdown",
   "metadata": {
    "id": "-P1Nb26d-YHW"
   },
   "source": [
    "6. Write a program to display the a patter similar to the following. Here there is 4 lines but number of lines should be entered by user and could be a number between 3 and 5\n",
    "\n",
    "<pre>\n",
    "   1\n",
    "  333\n",
    " 55555\n",
    "7777777\n",
    "</pre>"
   ]
  },
  {
   "cell_type": "code",
   "execution_count": 37,
   "metadata": {},
   "outputs": [
    {
     "name": "stdout",
     "output_type": "stream",
     "text": [
      "  1\n",
      " 333\n",
      "55555\n",
      "7777777\n"
     ]
    }
   ],
   "source": [
    "num_lines = 4\n",
    "number = 1\n",
    "for i in range(1,num_lines +1):\n",
    "    print(\" \" * (rows - i) + str(number) * (2*i - 1))\n",
    "    number += 2"
   ]
  },
  {
   "cell_type": "markdown",
   "metadata": {
    "id": "n-fuJGhdCXL4"
   },
   "source": [
    "7. A number is considered prime if it is larger than 1 and it is only divisible by 1 and itself. Write a program to check if a number is prime.\n"
   ]
  },
  {
   "cell_type": "code",
   "execution_count": 44,
   "metadata": {
    "colab": {
     "base_uri": "https://localhost:8080/"
    },
    "id": "Hg5iJ6rn-57h",
    "outputId": "5077208b-7a46-47bb-875f-ecc7c3a857e1"
   },
   "outputs": [
    {
     "name": "stdout",
     "output_type": "stream",
     "text": [
      "1000  is not prime!\n"
     ]
    }
   ],
   "source": [
    "number = 1000#TODO: Enter an integer number larger than 1\n",
    "is_prime = True\n",
    "for i in range (2, number):\n",
    "  if number % i == 0:\n",
    "      is_prime = False\n",
    "      break\n",
    "if is_prime ==True:#TODO: Complete this line\n",
    "  print(f'{number}  is prime!')\n",
    "else:\n",
    "  print(f'{number}  is not prime!')\n"
   ]
  },
  {
   "cell_type": "markdown",
   "metadata": {
    "id": "WeR6IoALMLKi"
   },
   "source": [
    "## Functions"
   ]
  },
  {
   "cell_type": "markdown",
   "metadata": {
    "id": "IlcZg6AqL08K"
   },
   "source": [
    "![image.png](data:image/png;base64,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)"
   ]
  },
  {
   "cell_type": "markdown",
   "metadata": {
    "id": "I6QukP6UENrs"
   },
   "source": [
    "✅ ✅ Functions are just like A function is a block of code which only runs when it is called.\n",
    "\n",
    "You can pass data, known as parameters, into a function.\n",
    "\n",
    "A function can return data as a result.\n",
    "\n",
    "let's apply this concept to our very first example. We will do a sum of two variabels but this time using functions\n",
    "```\n",
    "def sum (x, y):\n",
    "  return x + y\n",
    "\n",
    "s = sum(5, 6)\n",
    "```\n",
    "We start by defining our function by using \"def\" followed by a cool name of your choise that describes the functionality of the function, then we pass our input variables which could be any number of variables. We use \"return\" to get the output which is in our case is the sum.\n",
    "\n",
    "We call a function just by typing it's name and giving it  values for the variables and it will return the results which we stored in the new variable s\n",
    "\n",
    "the function could contain any logic before returning the final output.\n",
    "\n",
    "\n",
    "```\n",
    "def is_equal (x, y):\n",
    "  if x == y:\n",
    "    return True\n",
    "  else:\n",
    "    return False\n",
    "```\n",
    "\n",
    "**8. Organize the  program in the last exercise as a function.\n",
    "Note: You do not print any thing inside the function. Return True if the number is prime and False if it is not prime.**\n"
   ]
  },
  {
   "cell_type": "code",
   "execution_count": 50,
   "metadata": {
    "id": "QnHLtByGDdRE"
   },
   "outputs": [
    {
     "name": "stdin",
     "output_type": "stream",
     "text": [
      "Enter an integer number larger than 1:  5\n"
     ]
    },
    {
     "name": "stdout",
     "output_type": "stream",
     "text": [
      "5  is prime!\n"
     ]
    }
   ],
   "source": [
    "# Defining the function\n",
    "def prime(numebr):\n",
    "    is_prime = True\n",
    "    for i in range (2, number):\n",
    "        if number % i == 0:\n",
    "            is_prime = False\n",
    "            break\n",
    "  #TODO: Complete this part\n",
    "    return is_prime\n",
    "\n",
    "#Reading number from user\n",
    "number = int(input('Enter an integer number larger than 1: '))\n",
    "\n",
    "result = prime(number) #Calling function here\n",
    "\n",
    "if result is True:\n",
    "  print(f'{number}  is prime!')\n",
    "else:\n",
    "  print(f'{number}  is not prime!')"
   ]
  },
  {
   "cell_type": "markdown",
   "metadata": {
    "id": "WSpxSecsFW8u"
   },
   "source": [
    "**9. Given a list l, write a program that reverses the order of elements in the list. You should use the while loop here.**"
   ]
  },
  {
   "cell_type": "code",
   "execution_count": 81,
   "metadata": {
    "id": "UPMKkzNiFj-S"
   },
   "outputs": [
    {
     "name": "stdout",
     "output_type": "stream",
     "text": [
      "[98, 2, 34, 7, 6, 5, 40, 30, 12, 1]\n"
     ]
    }
   ],
   "source": [
    "l = [1, 12, 30, 40, 5, 6, 7, 34, 2, 98]\n",
    "#TODO: Write the program here\n",
    "reversed_list = []\n",
    "i = 0\n",
    "length_of_l = len(l)\n",
    "while i<length_of_l:\n",
    "    temp = l.pop(-1)\n",
    "    reversed_list.append(temp)\n",
    "    i += 1\n",
    "print(reversed_list)"
   ]
  },
  {
   "cell_type": "markdown",
   "metadata": {
    "id": "KFmFRiKtF1Lp"
   },
   "source": [
    "**10. Convert the program in the previous questions to a function.**"
   ]
  },
  {
   "cell_type": "code",
   "execution_count": 89,
   "metadata": {
    "id": "jFwE3T0TF9-G"
   },
   "outputs": [
    {
     "name": "stdout",
     "output_type": "stream",
     "text": [
      "[98, 2, 34, 7, 6, 5, 40, 30, 12, 1]\n"
     ]
    }
   ],
   "source": [
    "def reverse_list(l):\n",
    "    reversed_list = []\n",
    "    i = 0\n",
    "    length_of_l = len(l)\n",
    "    while i<length_of_l:\n",
    "        temp = l.pop(-1)\n",
    "        reversed_list.append(temp)\n",
    "        i += 1\n",
    "    return reversed_list\n",
    "  #TODO: Complete the rest of the funciton\n",
    "l = [1, 12, 30, 40, 5, 6, 7, 34, 2, 98]\n",
    "print(reverse_list(l))"
   ]
  },
  {
   "cell_type": "markdown",
   "metadata": {
    "id": "Mbf-gcZTGjWP"
   },
   "source": [
    "**11. Redo question 9, this time using for loop.**"
   ]
  },
  {
   "cell_type": "code",
   "execution_count": 91,
   "metadata": {
    "id": "RafJcLn-GPOI"
   },
   "outputs": [
    {
     "name": "stdout",
     "output_type": "stream",
     "text": [
      "[98, 2, 34, 7, 6, 5, 40, 30, 12, 1]\n"
     ]
    }
   ],
   "source": [
    "#TODO: Write the program here\n",
    "l = [1, 12, 30, 40, 5, 6, 7, 34, 2, 98]\n",
    "reversed_list = []\n",
    "length_of_l = len(l)\n",
    "\n",
    "for i in range(length_of_l):\n",
    "    temp = l.pop(-1)\n",
    "    reversed_list.append(temp)\n",
    "print(reversed_list)"
   ]
  },
  {
   "cell_type": "markdown",
   "metadata": {
    "id": "ZOo5HeKGVbuN"
   },
   "source": [
    "**12. Find the maximum of the list l am using a for loop.**\n",
    "\n",
    "\n"
   ]
  },
  {
   "cell_type": "code",
   "execution_count": 93,
   "metadata": {
    "id": "c1QTuC-pVg0Y"
   },
   "outputs": [
    {
     "name": "stdout",
     "output_type": "stream",
     "text": [
      "98\n"
     ]
    }
   ],
   "source": [
    "#TODO: Write the program here\n",
    "l = [1, 12, 30, 40, 5, 6, 7, 34, 2, 98]\n",
    "max = l[0]\n",
    "for i in range(1,len(l)): \n",
    "    if max < l[i]:\n",
    "        max = l[i]\n",
    "    else:\n",
    "        continue\n",
    "print(max)"
   ]
  },
  {
   "cell_type": "markdown",
   "metadata": {
    "id": "1LZTIa2ltA9Y"
   },
   "source": [
    "# Extra point\n",
    "\n",
    "**Do you remeber what month_number variable means?**\n",
    "\n",
    "🤩 Correct, it was used to store the number of the month.\n",
    "\n",
    "**What about the variable x?**\n",
    "\n",
    "Me neither I don't remember. That's why naming is very crucial. Building a habit of using best practices will pay well soon\n",
    "\n",
    "\n"
   ]
  },
  {
   "cell_type": "markdown",
   "metadata": {
    "id": "GRw52DWZjIik"
   },
   "source": [
    "# Did you notice ❗\n",
    "\n",
    "\n",
    "*   Remmber those green text in the code that are written after #. they are called comments. The program does not run them. they are just for you to add notes or explain your code\n",
    "\n",
    "*   When you define a function and give it a variable named x for example\n",
    "\n",
    "\n",
    "  ```\n",
    "  def prime(x)\n",
    "  ```\n",
    "  This variable x is only known for the function so you can not assume that the whole program will know what x is\n",
    "\n",
    "\n",
    "# **Now you are good to go** ⭐ ⭐\n"
   ]
  },
  {
   "cell_type": "code",
   "execution_count": null,
   "metadata": {
    "id": "J_EwsHsEuInU"
   },
   "outputs": [],
   "source": []
  }
 ],
 "metadata": {
  "colab": {
   "provenance": []
  },
  "kernelspec": {
   "display_name": "Python 3 (ipykernel)",
   "language": "python",
   "name": "python3"
  },
  "language_info": {
   "codemirror_mode": {
    "name": "ipython",
    "version": 3
   },
   "file_extension": ".py",
   "mimetype": "text/x-python",
   "name": "python",
   "nbconvert_exporter": "python",
   "pygments_lexer": "ipython3",
   "version": "3.10.12"
  }
 },
 "nbformat": 4,
 "nbformat_minor": 4
}
