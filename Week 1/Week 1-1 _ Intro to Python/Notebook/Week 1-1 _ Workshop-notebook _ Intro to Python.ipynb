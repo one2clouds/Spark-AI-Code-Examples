{
 "cells": [
  {
   "cell_type": "markdown",
   "metadata": {
    "id": "MWlbJg_H_1KL"
   },
   "source": [
    "# **Workshop 1: Intro to Python** \n",
    "### Instructors: Farhad Maleki\n",
    "### Acknoledgements: Yujing Zou, Luca Weishaupt, Hossein Jafarzadeh "
   ]
  },
  {
   "cell_type": "markdown",
   "metadata": {
    "id": "02NjwjC7jv7A"
   },
   "source": [
    "In the next 10 weeks, we will be using code demo in Google Colab during the workshops. \n",
    "\n",
    "If you would like to download Python and set it up on your own time, please visit our drop-in sessions during the week where our mentors can help you with that. "
   ]
  },
  {
   "cell_type": "markdown",
   "metadata": {
    "id": "iAJx7dIfGBqn"
   },
   "source": [
    "***Python*** is a beginner friendly programming language. It is a popular coding language whose syntax is similar to English which will be easy to pick up with some patience and practice! \n",
    "\n",
    "Our computers understand a limited number of instructions \n",
    "- varaibles = remember a number \n",
    "- operations = add, subtract, etc. values \n",
    "- comparison = compare 2 values i.e., equal, greater than, less than \n",
    "- loops = repeat a command \n",
    "- printing - write out a stored value \n",
    "- ...\n",
    "\n",
    "\n",
    "\n"
   ]
  },
  {
   "cell_type": "markdown",
   "metadata": {
    "id": "8v-iHnc9gM2T"
   },
   "source": [
    "The following resources have been heavily used to develop this tutorial\n",
    " - [Automate the Boring Stuff with Python](https://automatetheboringstuff.com/2e/)\n",
    " - [W3 School Python Tutorial](https://www.w3schools.com/python/)"
   ]
  },
  {
   "cell_type": "markdown",
   "metadata": {
    "id": "C-xK6zRZi24P"
   },
   "source": [
    "## First program in python\n",
    "```python\n",
    "print('This is my first program in Python!')\n",
    "```\n",
    "> **Reminder**: to execute a cell = Shift + Enter your current cell. This is useful for Google Colab and Jupyter Notebook usage. \n",
    "Execute the following line:\n"
   ]
  },
  {
   "cell_type": "code",
   "execution_count": null,
   "metadata": {
    "colab": {
     "base_uri": "https://localhost:8080/"
    },
    "executionInfo": {
     "elapsed": 5,
     "status": "ok",
     "timestamp": 1652712344176,
     "user": {
      "displayName": "Farhad Maleki",
      "userId": "01963699687472704305"
     },
     "user_tz": 360
    },
    "id": "-WBDDxXljNbQ",
    "outputId": "89df1888-d36a-40a6-e88e-30b765005dad"
   },
   "outputs": [
    {
     "name": "stdout",
     "output_type": "stream",
     "text": [
      "This is my first program in Python!\n"
     ]
    }
   ],
   "source": [
    "print('This is my first program in Python!')"
   ]
  },
  {
   "cell_type": "markdown",
   "metadata": {
    "id": "Ua6kB--ROQMr"
   },
   "source": [
    "## Variables and Data type"
   ]
  },
  {
   "cell_type": "markdown",
   "metadata": {
    "id": "pyXLT7o-U4YK"
   },
   "source": [
    "Let's draw an analogy between a variable and a box. \n",
    "A variable could be like a box where each box contains a single value.\n",
    "Let's start with boxes that only hold a single value of a specific type.\n",
    "\n",
    "Here I have a variable name **spam** that has value of **42**\n",
    "\n",
    "![Variables are like box](https://automatetheboringstuff.com/2e/images/000026.jpg)"
   ]
  },
  {
   "cell_type": "markdown",
   "metadata": {
    "id": "VNImg-aEcx30"
   },
   "source": [
    ">A variable can have a short name (like x and y) or a more descriptive name (age, carname, total_volume).\n",
    ">\n",
    ">Rules for Python variables:\n",
    ">\n",
    "> - A variable name must start with a letter or the underscore character\n",
    ">\n",
    "> - A variable name cannot start with a number\n",
    ">\n",
    "> - A variable name can only contain alpha-numeric characters and underscores (A-z, 0-9, and _ )\n",
    "> - Variable names are case-sensitive (age, Age and AGE are three different variables)\n",
    "\n",
    "[Reference](https://www.w3schools.com/python/gloss_python_variable_names.asp)"
   ]
  },
  {
   "cell_type": "markdown",
   "metadata": {
    "id": "Wzb0rTMHeWsK"
   },
   "source": [
    "Examples of **correct** names:\n",
    "- total\n",
    "- average\n",
    "- count\n",
    "- i\n",
    "- j\n",
    "- num_lines\n",
    "- _value"
   ]
  },
  {
   "cell_type": "markdown",
   "metadata": {
    "id": "4cPjGf_yfHlg"
   },
   "source": [
    "Examples of **incorrect** names:\n",
    "- 7total\n",
    "- -average\n",
    "- customer count\n",
    "- i@\n",
    "- j&\n",
    "- num%lines\n",
    "- value!"
   ]
  },
  {
   "cell_type": "markdown",
   "metadata": {
    "id": "-eJbdlaA1BLO"
   },
   "source": [
    "###String\n",
    "Strings have type **str**"
   ]
  },
  {
   "cell_type": "code",
   "execution_count": 1,
   "metadata": {
    "colab": {
     "base_uri": "https://localhost:8080/"
    },
    "executionInfo": {
     "elapsed": 124,
     "status": "ok",
     "timestamp": 1652712723124,
     "user": {
      "displayName": "Farhad Maleki",
      "userId": "01963699687472704305"
     },
     "user_tz": 360
    },
    "id": "J9jTX8gUf572",
    "outputId": "66db8fcf-d100-4551-fd29-a624ba695c4f"
   },
   "outputs": [
    {
     "name": "stdout",
     "output_type": "stream",
     "text": [
      "John said: \"He will go to school\"\n",
      "John said: \"He will go to school\"\n",
      "\n",
      "This is a multi line string.\n",
      "You can have a string containing several lines.\n",
      "\n",
      "\n",
      "This is another multiline string.\n",
      "You can have a string containing several lines.\n",
      "\n",
      "<class 'str'> <class 'str'> <class 'str'> <class 'str'> <class 'str'> <class 'str'>\n"
     ]
    }
   ],
   "source": [
    "# Assigning value to variables\n",
    "student_name = 'Jhone'\n",
    "teacher_name = \"Jane\"\n",
    "text_1 = \"John's book\"\n",
    "text_2 = 'John said: \"He will go to school\"'\n",
    "text_3 = \"John said: \\\"He will go to school\\\"\"\n",
    "\n",
    "print(text_2)\n",
    "print(text_3)\n",
    "message = '''\n",
    "This is a multi line string.\n",
    "You can have a string containing several lines.\n",
    "'''\n",
    "another_message = \"\"\"\n",
    "This is another multiline string.\n",
    "You can have a string containing several lines.\n",
    "\"\"\"\n",
    "print(message)\n",
    "print(another_message)\n",
    "\n",
    "print(\n",
    "    type(student_name), type(text_1), type(text_2), type(text_3),\n",
    "    type(message), type(another_message)\n",
    "      )\n",
    "\n"
   ]
  },
  {
   "cell_type": "markdown",
   "metadata": {
    "id": "M-qd09mfkilk"
   },
   "source": [
    "### Formatting strings:"
   ]
  },
  {
   "cell_type": "code",
   "execution_count": null,
   "metadata": {
    "colab": {
     "base_uri": "https://localhost:8080/"
    },
    "executionInfo": {
     "elapsed": 16,
     "status": "ok",
     "timestamp": 1652686396557,
     "user": {
      "displayName": "Farhad Maleki",
      "userId": "01963699687472704305"
     },
     "user_tz": 360
    },
    "id": "rditCztfc63L",
    "outputId": "63bbe90a-ad89-43ee-d143-b27f5f653ddc"
   },
   "outputs": [
    {
     "name": "stdout",
     "output_type": "stream",
     "text": [
      "This is the 2nd year that McMedHacks is being held.\n",
      "This is the 2nd year that McMedHacks is being held.\n",
      "\n",
      "\n",
      "This is one way to connect several strings.\n",
      "<class 'str'>\n"
     ]
    }
   ],
   "source": [
    "## inserting values into a string using the f-string syntax\n",
    "year = 2 \n",
    "name = 'McMedHacks'\n",
    "sentence1 = f\"This is the {year}nd year that {name} is being held.\"\n",
    "print(sentence1)\n",
    "\n",
    "## inserting values into a string using the format method\n",
    "sentence2 = \"This is the {}nd year that {} is being held.\".format(year, name)\n",
    "print(sentence2)\n",
    "\n",
    "# \\n in an string is the new line and \\t is the tab\n",
    "x = '\\n\\nThis ' + 'is ' + 'one ' + 'way ' + 'to connect several strings.'\n",
    "print(x)\n",
    "print(type(x))"
   ]
  },
  {
   "cell_type": "markdown",
   "metadata": {
    "id": "g9Vp5hc4bRvK"
   },
   "source": [
    "### String slicing\n",
    "\n",
    "> For an string variable ```s```, ```s[i:j]``` evaluates to the sub-string of ```s``` from the i-th character to (j-1)-th character\n",
    "\n",
    "> index starts at 0 in Python"
   ]
  },
  {
   "cell_type": "code",
   "execution_count": null,
   "metadata": {
    "colab": {
     "base_uri": "https://localhost:8080/"
    },
    "executionInfo": {
     "elapsed": 143,
     "status": "ok",
     "timestamp": 1652713193426,
     "user": {
      "displayName": "Farhad Maleki",
      "userId": "01963699687472704305"
     },
     "user_tz": 360
    },
    "id": "83ynE9l8Vrez",
    "outputId": "ae326f21-b7bd-42a6-b882-a983e0d0c40d"
   },
   "outputs": [
    {
     "name": "stdout",
     "output_type": "stream",
     "text": [
      "[\n",
      "[[I l\n",
      "c\n",
      "love Michael Jackson's music\n",
      "['[[I', 'love', 'Michael', \"Jackson's\", 'music']\n",
      "I love Michael Jackson's music\n",
      "of all fruits banana is my favorite\n"
     ]
    }
   ],
   "source": [
    "# parts of a string can be selected and found using \"slicing\"\n",
    "\n",
    "me = \"[[I love Michael Jackson's music\"\n",
    "print(me[0])   # The first index\n",
    "print(me[0:5]) # letters from the first (0th index) character to the 5th (4th index) character\n",
    "print(me[-1])  # the last character \n",
    "print(me[4:])  # the fifth character till the last character\n",
    "print(me.split()) # split the words \n",
    "print(me.strip('['))\n",
    "\n",
    "txt = \"     banana     \" \n",
    "x = txt.strip()\n",
    "print(\"of all fruits\", x, \"is my favorite\")"
   ]
  },
  {
   "cell_type": "markdown",
   "metadata": {
    "id": "TBkvb_Pky5D-"
   },
   "source": [
    "There are many operations that one can apply to a string. Here are some examples."
   ]
  },
  {
   "cell_type": "code",
   "execution_count": null,
   "metadata": {
    "colab": {
     "base_uri": "https://localhost:8080/"
    },
    "executionInfo": {
     "elapsed": 117,
     "status": "ok",
     "timestamp": 1652713567936,
     "user": {
      "displayName": "Farhad Maleki",
      "userId": "01963699687472704305"
     },
     "user_tz": 360
    },
    "id": "nXgcOti1zXXF",
    "outputId": "12c82861-3aef-4335-d7e5-505cd2a368ba"
   },
   "outputs": [
    {
     "name": "stdout",
     "output_type": "stream",
     "text": [
      "this is an example\n",
      "THIS IS AN EXAMPLE\n",
      "False\n",
      "False\n",
      "True\n",
      "True\n",
      "True\n",
      "True\n",
      "19\n",
      "This is an instance\n",
      "7\n",
      "True\n"
     ]
    }
   ],
   "source": [
    "print('This is an example'.lower()) # Convert a string to lower case\n",
    "print('This is an example'.upper()) # Convert a string to upper case\n",
    "print('This is an example'.islower()) # Check if a string to lower case\n",
    "print('This is an example'.isupper()) # Check if a string to upper case\n",
    "print('Hello'.isalpha()) # Check if a string is made of alphabet\n",
    "print('123'.isnumeric()) # Check if a string is made of numbers\n",
    "print('This is an example'.startswith('This')) # Check if a string starts with another string\n",
    "print('This is an example'.endswith('e')) # Check if a string ends with another string\n",
    "print(len('This is  an example')) # Return the length of a string\n",
    "print('This is an example'.replace('example', 'instance')) # Replace a substring with another string\n",
    "print('This is an example'.find(' an')) # find the index of the first occurance of a substring\n",
    "print('e' in 'This is an example') # Check 'example' is a substring of 'This is an example'"
   ]
  },
  {
   "cell_type": "markdown",
   "metadata": {
    "id": "hFb8oanCt_Sn"
   },
   "source": [
    "<font color='red'>**Resource**:</font> [Read more here](https://www.w3schools.com/python/python_strings.asp)"
   ]
  },
  {
   "cell_type": "markdown",
   "metadata": {
    "id": "zFjf-rEf1_3T"
   },
   "source": [
    "### Integer type\n",
    "\n",
    "Integers have type **int**. Here are several examples of integer values: \n",
    "- -10000\n",
    "- -4\n",
    "- -565\n",
    "- 0\n",
    "- 565\n",
    "- 10000"
   ]
  },
  {
   "cell_type": "code",
   "execution_count": 2,
   "metadata": {
    "colab": {
     "base_uri": "https://localhost:8080/"
    },
    "executionInfo": {
     "elapsed": 2,
     "status": "ok",
     "timestamp": 1652686397610,
     "user": {
      "displayName": "Farhad Maleki",
      "userId": "01963699687472704305"
     },
     "user_tz": 360
    },
    "id": "drKRBwVHy7FV",
    "outputId": "b733d756-a998-4a32-a2de-c55d44a2ada1"
   },
   "outputs": [
    {
     "name": "stdout",
     "output_type": "stream",
     "text": [
      "1000 20 36000000\n",
      "<class 'int'> <class 'int'> <class 'int'>\n"
     ]
    }
   ],
   "source": [
    "total = 1000\n",
    "number = 20\n",
    "population_size = 36000000\n",
    "print(total, number, population_size)\n",
    "print(type(total), type(number), type(population_size))"
   ]
  },
  {
   "cell_type": "markdown",
   "metadata": {
    "id": "cVVjyGwU4eRK"
   },
   "source": [
    "### Float type\n",
    "Float values have type **float**.\n",
    "Here are several examples of float values:\n",
    "- -3000.665\n",
    "- -0.0001\n",
    "- 0.0\n",
    "- 0.0001\n",
    "- 3000.665\n",
    "- 3E-4\n",
    "- -2.1e4\n",
    "\n"
   ]
  },
  {
   "cell_type": "code",
   "execution_count": 3,
   "metadata": {
    "colab": {
     "base_uri": "https://localhost:8080/"
    },
    "executionInfo": {
     "elapsed": 7,
     "status": "ok",
     "timestamp": 1652686399062,
     "user": {
      "displayName": "Farhad Maleki",
      "userId": "01963699687472704305"
     },
     "user_tz": 360
    },
    "id": "uAiJQiorRsyw",
    "outputId": "3b128ab2-cad0-403f-8d3e-00ee5572edc4"
   },
   "outputs": [
    {
     "name": "stdout",
     "output_type": "stream",
     "text": [
      "1002.3 <class 'float'>\n",
      "3.14 <class 'float'>\n"
     ]
    }
   ],
   "source": [
    "x = 1002.3\n",
    "print(x, type(x))\n",
    "\n",
    "y = 314e-2\n",
    "print(y, type(y))\n"
   ]
  },
  {
   "cell_type": "markdown",
   "metadata": {
    "id": "fEGxejWe7UmC"
   },
   "source": [
    "#### Note: If a float value is greater than 1.8 * 10^308, an output of 'inf' will be printed"
   ]
  },
  {
   "cell_type": "code",
   "execution_count": 8,
   "metadata": {
    "colab": {
     "base_uri": "https://localhost:8080/"
    },
    "executionInfo": {
     "elapsed": 6,
     "status": "ok",
     "timestamp": 1652686399388,
     "user": {
      "displayName": "Farhad Maleki",
      "userId": "01963699687472704305"
     },
     "user_tz": 360
    },
    "id": "BtrfyscS7SvZ",
    "outputId": "4219da40-edc5-4543-a9b7-429e6cb1a481"
   },
   "outputs": [
    {
     "name": "stdout",
     "output_type": "stream",
     "text": [
      "inf <class 'float'>\n"
     ]
    }
   ],
   "source": [
    "w = 1.8e308\n",
    "print(w, type(w))"
   ]
  },
  {
   "cell_type": "markdown",
   "metadata": {
    "id": "uTX0rEbUIx_6"
   },
   "source": [
    "### Boolean Type\n",
    "A boolean variable has one of two possible values **True** and **False**\n"
   ]
  },
  {
   "cell_type": "code",
   "execution_count": 9,
   "metadata": {
    "colab": {
     "base_uri": "https://localhost:8080/"
    },
    "executionInfo": {
     "elapsed": 8,
     "status": "ok",
     "timestamp": 1652686400462,
     "user": {
      "displayName": "Farhad Maleki",
      "userId": "01963699687472704305"
     },
     "user_tz": 360
    },
    "id": "4f4TwwL0JFse",
    "outputId": "fa589bda-1fa6-429d-d183-82d76b319a78"
   },
   "outputs": [
    {
     "name": "stdout",
     "output_type": "stream",
     "text": [
      "True\n",
      "<class 'bool'>\n"
     ]
    }
   ],
   "source": [
    "visited = True\n",
    "processed = False\n",
    "print(visited)\n",
    "print(type(visited))"
   ]
  },
  {
   "cell_type": "markdown",
   "metadata": {
    "id": "c_42DncBPMGQ"
   },
   "source": [
    "## None data type\n",
    "**None** is used to indicate a null value, or no value.\n"
   ]
  },
  {
   "cell_type": "code",
   "execution_count": 10,
   "metadata": {
    "colab": {
     "base_uri": "https://localhost:8080/"
    },
    "executionInfo": {
     "elapsed": 9,
     "status": "ok",
     "timestamp": 1652686401723,
     "user": {
      "displayName": "Farhad Maleki",
      "userId": "01963699687472704305"
     },
     "user_tz": 360
    },
    "id": "Vg3C4ix4PX8o",
    "outputId": "33a1448a-c553-4ef3-8f37-257b16cd83bc"
   },
   "outputs": [
    {
     "name": "stdout",
     "output_type": "stream",
     "text": [
      "None <class 'NoneType'>\n"
     ]
    }
   ],
   "source": [
    "x = None\n",
    "print(x, type(x))"
   ]
  },
  {
   "cell_type": "markdown",
   "metadata": {
    "id": "5Mfi0PJ3JZHk"
   },
   "source": [
    "## Converting data types\n",
    "Converting or casting a variable from a type to another type is possible in python."
   ]
  },
  {
   "cell_type": "markdown",
   "metadata": {
    "id": "Nh8f5pHkKWyc"
   },
   "source": [
    "### Converting **float** to **int**"
   ]
  },
  {
   "cell_type": "code",
   "execution_count": 11,
   "metadata": {
    "colab": {
     "base_uri": "https://localhost:8080/"
    },
    "executionInfo": {
     "elapsed": 7,
     "status": "ok",
     "timestamp": 1652686402776,
     "user": {
      "displayName": "Farhad Maleki",
      "userId": "01963699687472704305"
     },
     "user_tz": 360
    },
    "id": "T4x8IOhQJf8r",
    "outputId": "1db2bbef-a8a1-4307-92f9-9a85ba0250c7"
   },
   "outputs": [
    {
     "name": "stdout",
     "output_type": "stream",
     "text": [
      "12.6 is of type: <class 'float'>\n",
      "12 is of type: <class 'int'>\n"
     ]
    }
   ],
   "source": [
    "x = 12.6\n",
    "print(x, 'is of type:', type(x))\n",
    "y = int(x)\n",
    "print(y, 'is of type:', type(y))"
   ]
  },
  {
   "cell_type": "markdown",
   "metadata": {
    "id": "MrAmNvSMKdbe"
   },
   "source": [
    "### Converting **int** to **float**"
   ]
  },
  {
   "cell_type": "code",
   "execution_count": 12,
   "metadata": {
    "colab": {
     "base_uri": "https://localhost:8080/"
    },
    "executionInfo": {
     "elapsed": 2,
     "status": "ok",
     "timestamp": 1652686404130,
     "user": {
      "displayName": "Farhad Maleki",
      "userId": "01963699687472704305"
     },
     "user_tz": 360
    },
    "id": "nYEuQSh0KoSe",
    "outputId": "af03fbbe-c0a9-4d50-8369-8489bc690c20"
   },
   "outputs": [
    {
     "name": "stdout",
     "output_type": "stream",
     "text": [
      "12 is of type: <class 'int'>\n",
      "12.0 is of type: <class 'float'>\n"
     ]
    }
   ],
   "source": [
    "x = 12\n",
    "print(x, 'is of type:', type(x))\n",
    "y = float(x)\n",
    "print(y, 'is of type:', type(y))"
   ]
  },
  {
   "cell_type": "markdown",
   "metadata": {
    "id": "KRUEz3_cKvQn"
   },
   "source": [
    "### Converting numbers (**int** or **float**) to string"
   ]
  },
  {
   "cell_type": "code",
   "execution_count": 13,
   "metadata": {
    "colab": {
     "base_uri": "https://localhost:8080/"
    },
    "executionInfo": {
     "elapsed": 4,
     "status": "ok",
     "timestamp": 1652686404577,
     "user": {
      "displayName": "Farhad Maleki",
      "userId": "01963699687472704305"
     },
     "user_tz": 360
    },
    "id": "1BRcIvsEK9uZ",
    "outputId": "db121319-90d4-4a4b-d4cb-0a631039218f"
   },
   "outputs": [
    {
     "name": "stdout",
     "output_type": "stream",
     "text": [
      "x is of type: <class 'float'>\n",
      "y is of type: <class 'str'>\n"
     ]
    }
   ],
   "source": [
    "x = 12.5\n",
    "print('x is of type:', type(x))\n",
    "y = str(x)\n",
    "print('y is of type:', type(y))"
   ]
  },
  {
   "cell_type": "code",
   "execution_count": 14,
   "metadata": {
    "colab": {
     "base_uri": "https://localhost:8080/"
    },
    "executionInfo": {
     "elapsed": 3,
     "status": "ok",
     "timestamp": 1652686404577,
     "user": {
      "displayName": "Farhad Maleki",
      "userId": "01963699687472704305"
     },
     "user_tz": 360
    },
    "id": "Yeg7NYNTMCDm",
    "outputId": "b95320ae-d481-4d1e-db52-af48d455de42"
   },
   "outputs": [
    {
     "name": "stdout",
     "output_type": "stream",
     "text": [
      "x is of type: <class 'str'>\n",
      "y is of type:  <class 'float'>\n"
     ]
    }
   ],
   "source": [
    "x = '12.4'\n",
    "print('x is of type:', type(x))\n",
    "y = float(x)\n",
    "print('y is of type: ', type(y))"
   ]
  },
  {
   "cell_type": "code",
   "execution_count": 15,
   "metadata": {
    "colab": {
     "base_uri": "https://localhost:8080/"
    },
    "executionInfo": {
     "elapsed": 2,
     "status": "ok",
     "timestamp": 1652686404966,
     "user": {
      "displayName": "Farhad Maleki",
      "userId": "01963699687472704305"
     },
     "user_tz": 360
    },
    "id": "bOCjLt2vME3x",
    "outputId": "15deb1b2-2c3e-438b-b678-2e5c91fd98b1"
   },
   "outputs": [
    {
     "name": "stdout",
     "output_type": "stream",
     "text": [
      "x is of type: <class 'str'>\n",
      "y is of type: <class 'float'>\n"
     ]
    }
   ],
   "source": [
    "x = '12'\n",
    "print('x is of type:', type(x))\n",
    "y = float(x)\n",
    "print('y is of type:', type(y))"
   ]
  },
  {
   "cell_type": "markdown",
   "metadata": {
    "id": "kT6wDR81QaCB"
   },
   "source": [
    "### Conversion to boolean using bool\n",
    "- non-zero numbers convert to **True** and zero convert to **False**\n",
    "- non-empty strings convert to **True** and zero convert to **False** **bold text**"
   ]
  },
  {
   "cell_type": "code",
   "execution_count": 16,
   "metadata": {
    "colab": {
     "base_uri": "https://localhost:8080/"
    },
    "executionInfo": {
     "elapsed": 128,
     "status": "ok",
     "timestamp": 1652714330235,
     "user": {
      "displayName": "Farhad Maleki",
      "userId": "01963699687472704305"
     },
     "user_tz": 360
    },
    "id": "dnp3_lcBQ7VL",
    "outputId": "1f98196f-2f57-4ddb-b1e8-7db95a0c3db7"
   },
   "outputs": [
    {
     "name": "stdout",
     "output_type": "stream",
     "text": [
      "True\n"
     ]
    }
   ],
   "source": [
    "# Converting a non-empty string to boolean results in True\n",
    "x = 'False'\n",
    "print(bool(x))"
   ]
  },
  {
   "cell_type": "code",
   "execution_count": 17,
   "metadata": {
    "colab": {
     "base_uri": "https://localhost:8080/"
    },
    "executionInfo": {
     "elapsed": 135,
     "status": "ok",
     "timestamp": 1652714335366,
     "user": {
      "displayName": "Farhad Maleki",
      "userId": "01963699687472704305"
     },
     "user_tz": 360
    },
    "id": "zKAYPYeoReOI",
    "outputId": "41ec9cbe-f106-4a2f-befb-26b3555ebb0a"
   },
   "outputs": [
    {
     "name": "stdout",
     "output_type": "stream",
     "text": [
      "False\n"
     ]
    }
   ],
   "source": [
    "# Converting an empty string to boolean results in False\n",
    "x = ''\n",
    "print(bool(x))"
   ]
  },
  {
   "cell_type": "code",
   "execution_count": 18,
   "metadata": {
    "colab": {
     "base_uri": "https://localhost:8080/"
    },
    "executionInfo": {
     "elapsed": 157,
     "status": "ok",
     "timestamp": 1652714355644,
     "user": {
      "displayName": "Farhad Maleki",
      "userId": "01963699687472704305"
     },
     "user_tz": 360
    },
    "id": "9BOFCNstRgMh",
    "outputId": "61fcd2ec-dcb2-44ab-ced2-564d5f8fae35"
   },
   "outputs": [
    {
     "name": "stdout",
     "output_type": "stream",
     "text": [
      "True\n"
     ]
    }
   ],
   "source": [
    "# Converting a non-zero number to boolean results in True\n",
    "x = 12.3\n",
    "print(bool(x))"
   ]
  },
  {
   "cell_type": "code",
   "execution_count": 19,
   "metadata": {
    "colab": {
     "base_uri": "https://localhost:8080/"
    },
    "executionInfo": {
     "elapsed": 186,
     "status": "ok",
     "timestamp": 1652714363804,
     "user": {
      "displayName": "Farhad Maleki",
      "userId": "01963699687472704305"
     },
     "user_tz": 360
    },
    "id": "WsylBHTPRnVS",
    "outputId": "50fb2f0b-91ab-49aa-e691-a7329561693a"
   },
   "outputs": [
    {
     "name": "stdout",
     "output_type": "stream",
     "text": [
      "False\n"
     ]
    }
   ],
   "source": [
    "# Converting zero value number to boolean results in False\n",
    "x = 0.0\n",
    "print(bool(x))"
   ]
  },
  {
   "cell_type": "markdown",
   "metadata": {
    "id": "kUO6RiQmR4nj"
   },
   "source": [
    "### Converting boolean values"
   ]
  },
  {
   "cell_type": "code",
   "execution_count": 20,
   "metadata": {
    "colab": {
     "base_uri": "https://localhost:8080/"
    },
    "executionInfo": {
     "elapsed": 302,
     "status": "ok",
     "timestamp": 1652686406972,
     "user": {
      "displayName": "Farhad Maleki",
      "userId": "01963699687472704305"
     },
     "user_tz": 360
    },
    "id": "46fSMPBIRyHH",
    "outputId": "b58f2950-d1d7-4ad3-9efa-7adec550af78"
   },
   "outputs": [
    {
     "data": {
      "text/plain": [
       "1"
      ]
     },
     "execution_count": 20,
     "metadata": {},
     "output_type": "execute_result"
    }
   ],
   "source": [
    "int(True)"
   ]
  },
  {
   "cell_type": "code",
   "execution_count": 21,
   "metadata": {
    "colab": {
     "base_uri": "https://localhost:8080/"
    },
    "executionInfo": {
     "elapsed": 5,
     "status": "ok",
     "timestamp": 1652686406973,
     "user": {
      "displayName": "Farhad Maleki",
      "userId": "01963699687472704305"
     },
     "user_tz": 360
    },
    "id": "E7uy14JVT0UB",
    "outputId": "83b399a4-479a-406b-f97a-497b0c251881"
   },
   "outputs": [
    {
     "data": {
      "text/plain": [
       "0"
      ]
     },
     "execution_count": 21,
     "metadata": {},
     "output_type": "execute_result"
    }
   ],
   "source": [
    "int(False)"
   ]
  },
  {
   "cell_type": "code",
   "execution_count": 22,
   "metadata": {
    "colab": {
     "base_uri": "https://localhost:8080/"
    },
    "executionInfo": {
     "elapsed": 3,
     "status": "ok",
     "timestamp": 1652686406973,
     "user": {
      "displayName": "Farhad Maleki",
      "userId": "01963699687472704305"
     },
     "user_tz": 360
    },
    "id": "DBZY93YZT49Z",
    "outputId": "ed28e237-924e-438a-f9cf-df5e66365712"
   },
   "outputs": [
    {
     "data": {
      "text/plain": [
       "1.0"
      ]
     },
     "execution_count": 22,
     "metadata": {},
     "output_type": "execute_result"
    }
   ],
   "source": [
    "float(True)"
   ]
  },
  {
   "cell_type": "code",
   "execution_count": 23,
   "metadata": {
    "colab": {
     "base_uri": "https://localhost:8080/"
    },
    "executionInfo": {
     "elapsed": 5,
     "status": "ok",
     "timestamp": 1652686407255,
     "user": {
      "displayName": "Farhad Maleki",
      "userId": "01963699687472704305"
     },
     "user_tz": 360
    },
    "id": "1cLcSjPwT7ew",
    "outputId": "1b545310-2c9c-451d-aa85-257ed8393317"
   },
   "outputs": [
    {
     "data": {
      "text/plain": [
       "0.0"
      ]
     },
     "execution_count": 23,
     "metadata": {},
     "output_type": "execute_result"
    }
   ],
   "source": [
    "float(False)"
   ]
  },
  {
   "cell_type": "code",
   "execution_count": 24,
   "metadata": {
    "colab": {
     "base_uri": "https://localhost:8080/",
     "height": 35
    },
    "executionInfo": {
     "elapsed": 4,
     "status": "ok",
     "timestamp": 1652686407255,
     "user": {
      "displayName": "Farhad Maleki",
      "userId": "01963699687472704305"
     },
     "user_tz": 360
    },
    "id": "Tx3iGIg1T-XH",
    "outputId": "c83eca3e-9c86-4692-9848-82b5da650e9e"
   },
   "outputs": [
    {
     "data": {
      "text/plain": [
       "'True'"
      ]
     },
     "execution_count": 24,
     "metadata": {},
     "output_type": "execute_result"
    }
   ],
   "source": [
    "str(True)"
   ]
  },
  {
   "cell_type": "code",
   "execution_count": 25,
   "metadata": {
    "colab": {
     "base_uri": "https://localhost:8080/",
     "height": 35
    },
    "executionInfo": {
     "elapsed": 3,
     "status": "ok",
     "timestamp": 1652686407553,
     "user": {
      "displayName": "Farhad Maleki",
      "userId": "01963699687472704305"
     },
     "user_tz": 360
    },
    "id": "S9G-RQuQUAWQ",
    "outputId": "27d0adc8-1ad5-44f5-dbad-caf19824dc78"
   },
   "outputs": [
    {
     "data": {
      "text/plain": [
       "'False'"
      ]
     },
     "execution_count": 25,
     "metadata": {},
     "output_type": "execute_result"
    }
   ],
   "source": [
    "str(False)"
   ]
  },
  {
   "cell_type": "markdown",
   "metadata": {
    "id": "rq8RsVAzNJdS"
   },
   "source": [
    "<font color='red'>**Note**: </font> Conversion from one data type to another data type should make sense. You cannot convert 'Hello' to a integer.\n"
   ]
  },
  {
   "cell_type": "markdown",
   "metadata": {
    "id": "9FnfecrJIAl1"
   },
   "source": [
    "### <font color='red'>**Tip**:</font> when things go wrong, you can ask [Stackoverflow](https://stackoverflow.com/), or simply [Google](www.google.com). "
   ]
  },
  {
   "cell_type": "markdown",
   "metadata": {
    "id": "v1WFSySyPAlf"
   },
   "source": [
    "Here, I demonstrate an error resulting from an incorrect converstion and how Google Colab will automatically suggest a StackOverflow link to help you find solutions."
   ]
  },
  {
   "cell_type": "code",
   "execution_count": 30,
   "metadata": {
    "colab": {
     "base_uri": "https://localhost:8080/",
     "height": 207
    },
    "executionInfo": {
     "elapsed": 127,
     "status": "error",
     "timestamp": 1652714462449,
     "user": {
      "displayName": "Farhad Maleki",
      "userId": "01963699687472704305"
     },
     "user_tz": 360
    },
    "id": "6xFab0RYM6So",
    "outputId": "3d6c6308-acc4-47e3-c706-9b1c96b0dbc9"
   },
   "outputs": [
    {
     "ename": "ValueError",
     "evalue": "invalid literal for int() with base 10: '2.3'",
     "output_type": "error",
     "traceback": [
      "\u001b[0;31m---------------------------------------------------------------------------\u001b[0m",
      "\u001b[0;31mValueError\u001b[0m                                Traceback (most recent call last)",
      "Cell \u001b[0;32mIn[30], line 3\u001b[0m\n\u001b[1;32m      1\u001b[0m \u001b[38;5;66;03m# An\u001b[39;00m\n\u001b[1;32m      2\u001b[0m x \u001b[38;5;241m=\u001b[39m \u001b[38;5;124m'\u001b[39m\u001b[38;5;124m2.3\u001b[39m\u001b[38;5;124m'\u001b[39m\n\u001b[0;32m----> 3\u001b[0m y \u001b[38;5;241m=\u001b[39m \u001b[38;5;28;43mint\u001b[39;49m\u001b[43m(\u001b[49m\u001b[43mx\u001b[49m\u001b[43m)\u001b[49m   \u001b[38;5;66;03m#int(float(x))\u001b[39;00m\n",
      "\u001b[0;31mValueError\u001b[0m: invalid literal for int() with base 10: '2.3'"
     ]
    }
   ],
   "source": [
    "# An\n",
    "x = '2.3'\n",
    "y = int(x)   #int(float(x))"
   ]
  },
  {
   "cell_type": "markdown",
   "metadata": {
    "id": "WEjQvCzCzV64"
   },
   "source": [
    "### <font color='red'>**Tip**: </font> To make your code clear and more readable use comments alongside your code\n",
    "\n",
    "The special symbol **#** tells Python to not *not execute* that line. Hence it is used for commenting code. "
   ]
  },
  {
   "cell_type": "code",
   "execution_count": 31,
   "metadata": {
    "id": "s_auAyXxVjAo"
   },
   "outputs": [],
   "source": [
    "# This is a comment and will not be executed."
   ]
  },
  {
   "cell_type": "markdown",
   "metadata": {
    "id": "Y-0fCERGZ-s5"
   },
   "source": [
    "##  Operators"
   ]
  },
  {
   "cell_type": "markdown",
   "metadata": {
    "id": "4a9QoDWaaYy9"
   },
   "source": [
    "### Arithmetic operation\n",
    "- **+** used for Addition \n",
    "- **-** used for Subtraction\n",
    "- _*_ used for Multiplication\n",
    "- **/** used for Division\n",
    "- **//** used for Integer division\t\n",
    "- **%** used for Remainder\n",
    "- ****** used for Exponent\n"
   ]
  },
  {
   "cell_type": "code",
   "execution_count": 32,
   "metadata": {
    "colab": {
     "base_uri": "https://localhost:8080/"
    },
    "executionInfo": {
     "elapsed": 143,
     "status": "ok",
     "timestamp": 1652714702540,
     "user": {
      "displayName": "Farhad Maleki",
      "userId": "01963699687472704305"
     },
     "user_tz": 360
    },
    "id": "iOw1kQw5bGu3",
    "outputId": "d7144ce3-ae33-40bf-e562-be67e4033fee"
   },
   "outputs": [
    {
     "name": "stdout",
     "output_type": "stream",
     "text": [
      "x + y =  13\n",
      "x - y =  9\n",
      "x * y =  22\n",
      "x / y =  5.5\n",
      "x // y =  5\n",
      "x ** y =  121\n"
     ]
    }
   ],
   "source": [
    "x = 11\n",
    "y = 2\n",
    "print('x + y = ', x + y)\n",
    "print('x - y = ', x - y)\n",
    "print('x * y = ', x * y)\n",
    "print('x / y = ', x / y)\n",
    "print('x // y = ', x // y)\n",
    "print(r'x ** y = ', x ** y)"
   ]
  },
  {
   "cell_type": "markdown",
   "metadata": {
    "id": "bQNWHA7IdzEq"
   },
   "source": [
    "### Relational operators\n",
    "Relational operators are used for comparing values. They either return **True** or **False** \n",
    "\n",
    "- **==** for Equivalence\n",
    "- **<** for Less than\t\n",
    "- **<=** for Less than or equal to\t\n",
    "- **>** for Greater than\t\n",
    "- **>=** for Greater than or equal to\t\n",
    "- **!=** for Does not equal"
   ]
  },
  {
   "cell_type": "code",
   "execution_count": 33,
   "metadata": {
    "colab": {
     "base_uri": "https://localhost:8080/"
    },
    "executionInfo": {
     "elapsed": 162,
     "status": "ok",
     "timestamp": 1652714777702,
     "user": {
      "displayName": "Farhad Maleki",
      "userId": "01963699687472704305"
     },
     "user_tz": 360
    },
    "id": "JvzrP6w_e80C",
    "outputId": "f297aa9b-fd63-4367-e279-c223cf2c752e"
   },
   "outputs": [
    {
     "name": "stdout",
     "output_type": "stream",
     "text": [
      "x == y results in:  False\n",
      "x < y results in:  False\n",
      "x <= y results in:  False\n",
      "x > y results in:  True\n",
      "x >= y results in:  True\n",
      "x != y results in:  True\n"
     ]
    }
   ],
   "source": [
    "x = 11\n",
    "y = 2\n",
    "print('x == y results in: ', x == y)\n",
    "print('x < y results in: ', x < y)\n",
    "print('x <= y results in: ', x <= y)\n",
    "print('x > y results in: ', x > y)\n",
    "print('x >= y results in: ', x >= y)\n",
    "print('x != y results in: ', x != y)"
   ]
  },
  {
   "cell_type": "markdown",
   "metadata": {
    "id": "UXpX6TWqf7km"
   },
   "source": [
    "### Logical operators\n",
    "- **or** is the *logical or*. It results in **True** if either of the operands are true; otherwise, it results in **False**\n",
    "- **and** for *logical and*. It results in **True** if both the operands are true; otherwise, it results in **False**\n",
    "- **not** is the *logical not*. It results in **True** if operand is false; otherwise, it results in **False**\n",
    "\n",
    "\n"
   ]
  },
  {
   "cell_type": "code",
   "execution_count": 34,
   "metadata": {
    "colab": {
     "base_uri": "https://localhost:8080/"
    },
    "executionInfo": {
     "elapsed": 6,
     "status": "ok",
     "timestamp": 1652686409898,
     "user": {
      "displayName": "Farhad Maleki",
      "userId": "01963699687472704305"
     },
     "user_tz": 360
    },
    "id": "JGxypAnygmma",
    "outputId": "4644aec4-60dc-43b9-8959-df6f04894107"
   },
   "outputs": [
    {
     "name": "stdout",
     "output_type": "stream",
     "text": [
      "x > 200 or y > 200 results in:  True\n",
      "x > 201 and y > 200 results in:  False\n",
      "not(x > 200 and y > 200) results in:  True\n"
     ]
    }
   ],
   "source": [
    "x = 120\n",
    "y = 239.2\n",
    "print( 'x > 200 or y > 200 results in: ', x > 200 or y > 200)\n",
    "print( 'x > 201 and y > 200 results in: ', x > 200 and y > 200)\n",
    "print( 'not(x > 200 and y > 200) results in: ', not(x > 200 and y > 200))\n"
   ]
  },
  {
   "cell_type": "markdown",
   "metadata": {
    "id": "nUMZU3cMj-yc"
   },
   "source": [
    "### <font color='red'>**Note**: </font>: [The order of operators in an expression matter](https://www.mathcs.emory.edu/~valerie/courses/fall10/155/resources/op_precedence.html#:~:text=Highest%20precedence%20at%20top%2C%20lowest,box%20evaluate%20left%20to%20right.)"
   ]
  },
  {
   "cell_type": "markdown",
   "metadata": {
    "id": "4nOPqFRBOhnj"
   },
   "source": [
    "# <font color='red'>**Activity 1**: </font>\n",
    "\n",
    "1. Which of the following are operators, and which are values?\n",
    "    - *\n",
    "    - 'hello'\n",
    "    - -88.8\n",
    "    - -\n",
    "    - /\n",
    "    - +\n",
    "    - 5\n",
    "\n",
    "2. Which of the following is a variable, and which is a string?\n",
    "    - spam\n",
    "    - 'spam'\n",
    "3. Name three data types.\n",
    "\n",
    "4. What is an expression made up of? What do all expressions do?\n",
    "\n",
    "5. This chapter introduced assignment statements, like spam = 10. What is the difference between an expression and a statement?\n",
    "\n",
    "6. What does the variable bacon contain after the following code runs?\n",
    ">bacon = 20\n",
    ">\n",
    ">bacon + 1\n",
    "\n",
    "7. What should the following two expressions evaluate to?\n",
    ">'spam' + 'spamspam'\n",
    ">\n",
    ">'spam' * 3\n",
    "\n",
    "8. Why is eggs a valid variable name while 100 is invalid?\n",
    "\n",
    "9. What three functions can be used to get the integer, floating-point number, or string version of a value?\n",
    "\n",
    "10. Why does this expression cause an error? How can you fix it?\n",
    ">'I have eaten ' + 99 + ' burritos.'\n",
    "\n",
    "\n",
    "[Reference](https://automatetheboringstuff.com/2e/chapter1/)"
   ]
  },
  {
   "cell_type": "markdown",
   "metadata": {
    "id": "cmhXiDKk1PaP"
   },
   "source": [
    "# Part 2\n",
    "\n",
    "##If / elif / else statements\n",
    "Often we take action under a specific condition. For example, if it is rainy, we take an umbrella. In python, we use if/elif/else statements for such situations. The syntax of the if/elif/else statement is as follows. You have one ```if``` and at most one ```else``` and you can have several ```elif``` in the middle. Starting from ```if`` statement, if a condition is evaluated as True, its statement is run and the rest of elifs or the final else will be skipped. \n",
    "\n",
    "``` python\n",
    "if condition_1:\n",
    "    statement_1\n",
    "elif condition_2:\n",
    "    statement_2\n",
    "elif condition_3:\n",
    "    statement_3\n",
    "    ...\n",
    "else:\n",
    "    statement_n\n",
    "```\n",
    "- the program can make decisions based on the conditions defined in the if / elif / else statements \n",
    "- You must write **:** at the end of the ```if```, ```elif```, and ```else``` lines\n",
    "- Once you hit enter, after the **:**, the next line will be automatically indented. Be consistent with the indentation (2 or 4 space is commonly used). \n",
    "- The ```if```, ```elif```, ```else``` lines must start at the same indentation\n",
    "- ```elif``` always comes after an ```if``` or another ```elif``` and ```else``` must be the last statement\n",
    "\n",
    "#### Note: ```if```, ```elif```, and ```else``` statements cannot be empty, but if you for some reason have an statement with no content, put in the pass statement to avoid getting an error.\n",
    "\n"
   ]
  },
  {
   "cell_type": "markdown",
   "metadata": {
    "id": "hb_KAygD5gOL"
   },
   "source": [
    "### Convert a grade from 100 to letter grade"
   ]
  },
  {
   "cell_type": "code",
   "execution_count": 35,
   "metadata": {
    "colab": {
     "base_uri": "https://localhost:8080/"
    },
    "executionInfo": {
     "elapsed": 10052,
     "status": "ok",
     "timestamp": 1652715161027,
     "user": {
      "displayName": "Farhad Maleki",
      "userId": "01963699687472704305"
     },
     "user_tz": 360
    },
    "id": "wzwtwBJl5db-",
    "outputId": "e9e48e05-eeae-47b8-c813-7279f580e4ae"
   },
   "outputs": [
    {
     "name": "stdin",
     "output_type": "stream",
     "text": [
      "Enter your grade:  98\n"
     ]
    },
    {
     "name": "stdout",
     "output_type": "stream",
     "text": [
      "Your letter grade is A+\n"
     ]
    }
   ],
   "source": [
    "grade = input('Enter your grade: ')\n",
    "grade = float(grade)\n",
    "if grade >= 97.5:\n",
    "  result = 'A+'\n",
    "elif grade >= 92.5:\n",
    "  result = 'A'\n",
    "elif grade >= 90.0:\n",
    "  result = 'A-'\n",
    "elif grade >= 87.5:\n",
    "  result = 'B+'\n",
    "elif grade >= 82.5:\n",
    "  result = 'B'\n",
    "elif grade >= 80.0:\n",
    "  result = 'B-'\n",
    "elif grade >= 77.5:\n",
    "  result = 'C+'\n",
    "elif grade >= 72.5:\n",
    "  result = 'C'\n",
    "elif grade >= 70.0:\n",
    "  result = 'C-'\n",
    "elif grade >= 67.5:\n",
    "  result = 'D+'\n",
    "elif grade >= 62.5:\n",
    "  result = 'D'\n",
    "elif grade >= 60.0:\n",
    "  result = 'D-'\n",
    "else:\n",
    "  result = 'E'\n",
    "\n",
    "print(f'Your letter grade is {result}')"
   ]
  },
  {
   "cell_type": "markdown",
   "metadata": {
    "id": "SQzW2lXZ9C6f"
   },
   "source": [
    "### Another example:"
   ]
  },
  {
   "cell_type": "code",
   "execution_count": 36,
   "metadata": {
    "colab": {
     "base_uri": "https://localhost:8080/"
    },
    "executionInfo": {
     "elapsed": 7508,
     "status": "ok",
     "timestamp": 1652715308227,
     "user": {
      "displayName": "Farhad Maleki",
      "userId": "01963699687472704305"
     },
     "user_tz": 360
    },
    "id": "q1NxsTw44QFE",
    "outputId": "1e05d4e1-9861-4237-ea7d-012c2660a00d"
   },
   "outputs": [
    {
     "name": "stdin",
     "output_type": "stream",
     "text": [
      "Please type a number:  3\n"
     ]
    },
    {
     "name": "stdout",
     "output_type": "stream",
     "text": [
      "the number is less than 5.\n"
     ]
    }
   ],
   "source": [
    "number = float(input(\"Please type a number: \"))\n",
    "\n",
    "if number < 5:\n",
    "    print(\"the number is less than 5.\")\n",
    "elif number < 10:\n",
    "    print(\"the number is greater than or equal to 5 and less than 10.\")\n",
    "elif number < 15:\n",
    "    print(\"the number is greater than or equal to 10 and less than 15.\")\n",
    "else:\n",
    "    print(\"the number is greater than or equal to 15.\")\n",
    "\n",
    "\n",
    "# You can re-run this cell and input different values to see the different outputs "
   ]
  },
  {
   "cell_type": "markdown",
   "metadata": {
    "id": "ISICHhg490IJ"
   },
   "source": [
    "### <font color='red'>**Note**: </font> ```elif``` and ```else``` statments are optional. You can have a conditional statement only with ```if```"
   ]
  },
  {
   "cell_type": "code",
   "execution_count": 37,
   "metadata": {
    "colab": {
     "base_uri": "https://localhost:8080/"
    },
    "executionInfo": {
     "elapsed": 19880,
     "status": "ok",
     "timestamp": 1652715355604,
     "user": {
      "displayName": "Farhad Maleki",
      "userId": "01963699687472704305"
     },
     "user_tz": 360
    },
    "id": "Hl3JSECl-R-O",
    "outputId": "f0f7d07b-a6a9-4c52-b7a9-8c0d700e1478"
   },
   "outputs": [
    {
     "name": "stdin",
     "output_type": "stream",
     "text": [
      "Enter a valid number for age 99\n"
     ]
    }
   ],
   "source": [
    "age = int(input('Enter a valid number for age'))\n",
    "if age < 1 or age > 120:\n",
    "  print(' The provided value for age is not valid!')"
   ]
  },
  {
   "cell_type": "markdown",
   "metadata": {
    "id": "hsiI1IRH-_aV"
   },
   "source": [
    "### You can have nested if/elif/else conditions"
   ]
  },
  {
   "cell_type": "code",
   "execution_count": 38,
   "metadata": {
    "colab": {
     "base_uri": "https://localhost:8080/"
    },
    "executionInfo": {
     "elapsed": 6560,
     "status": "ok",
     "timestamp": 1652686513400,
     "user": {
      "displayName": "Farhad Maleki",
      "userId": "01963699687472704305"
     },
     "user_tz": 360
    },
    "id": "wJfN5oJS4gic",
    "outputId": "b0f7af7d-b84a-49f0-eb42-fc30567687e4"
   },
   "outputs": [
    {
     "name": "stdin",
     "output_type": "stream",
     "text": [
      "What do you study? Physics\n",
      "Do you study Medical Physics? Yes\n"
     ]
    },
    {
     "name": "stdout",
     "output_type": "stream",
     "text": [
      "Oh cool, me too!\n"
     ]
    }
   ],
   "source": [
    "# Nested statements \n",
    "\n",
    "answer = input (\"What do you study?\")\n",
    "\n",
    "if str(answer) == \"Physics\":\n",
    "  answer = input(\"Do you study Medical Physics?\")\n",
    "  if answer == \"Yes\":\n",
    "    print(\"Oh cool, me too!\")\n",
    "  elif answer == \"No\":\n",
    "    answer = input(\"What kind of Physics?\")\n",
    "    if answer == \"Astrophysics\":\n",
    "      print(\"Nice!\")\n",
    "    else:\n",
    "      print(\"That's also nice!\")\n",
    "\n",
    "else:\n",
    "  print(\"that is cool!\")"
   ]
  },
  {
   "cell_type": "markdown",
   "metadata": {
    "id": "nLqmG4yvArqd"
   },
   "source": [
    "# <font color='red'>**Activity 2**: </font>\n",
    "Write a if/elif/else statement that calculates the letter grade as follows:\n",
    "- grade $\\geq 90$      --> A\n",
    "- 80 $\\leq$ grade < 90 --> B\n",
    "- 70 $\\leq$ grade < 80 --> C\n",
    "- 60 $\\leq$ grade < 70 --> D\n",
    "- grade < 60           --> E"
   ]
  },
  {
   "cell_type": "code",
   "execution_count": 39,
   "metadata": {
    "colab": {
     "base_uri": "https://localhost:8080/"
    },
    "executionInfo": {
     "elapsed": 2314,
     "status": "ok",
     "timestamp": 1652715908875,
     "user": {
      "displayName": "Farhad Maleki",
      "userId": "01963699687472704305"
     },
     "user_tz": 360
    },
    "id": "7GHdkXm7B5iH",
    "outputId": "8f92b0da-bfaa-4052-843b-a05b49399209"
   },
   "outputs": [
    {
     "name": "stdin",
     "output_type": "stream",
     "text": [
      "Enter your grade:  91\n"
     ]
    },
    {
     "name": "stdout",
     "output_type": "stream",
     "text": [
      "Your grade is A\n"
     ]
    }
   ],
   "source": [
    "grade = input('Enter your grade: ')\n",
    "grade = float(grade)\n",
    "if grade >= 90:\n",
    "  result = 'A'\n",
    "elif grade >= 80:\n",
    "  result = 'B'\n",
    "elif grade >= 70:\n",
    "  result = 'C'\n",
    "elif grade >= 60:\n",
    "  result = 'D'\n",
    "else:\n",
    "  result = 'E'\n",
    "\n",
    "print(f'Your grade is {result}')"
   ]
  },
  {
   "cell_type": "markdown",
   "metadata": {
    "id": "A6hJj6n7kx-D"
   },
   "source": [
    "# Part 3\n",
    "So far we worked with data types that could contain only one value. Let's introduce data types that can handel a large number of values. To make an analogy these are similar to boxes that could hold many objects. We will cover Lists, Tuples, Sets, and Dictionaries.\n",
    "## Lists and tuples\n",
    "List and tuples could be used for ordered sequence of values.\n",
    "- each element of a sequence is assigned an index, which reflect its position\n",
    "- for a list or tuple of length n, these indices start from 0 and end at n-1\n",
    "\n",
    "\n",
    "The difference betwen lists and tuples:\n",
    "  - Lists: dynamic in size and mutable \n",
    "  - Tuples: fixed size and immutable \n",
    "\n",
    "##### PS:\n",
    "- mutable: they can be altered \n",
    "- immutable: they cannot be altered"
   ]
  },
  {
   "cell_type": "markdown",
   "metadata": {
    "id": "GFQpOUAMH0R-"
   },
   "source": [
    "Examples of lists:\n",
    "\n",
    "```python\n",
    "list1 = [\"apple\", \"banana\", \"cherry\"]\n",
    "list2 = [1, 5, 7, 9, 3]\n",
    "list3 = [True, False, False]\n",
    "list1 = [\"abc\", 34, True, 40, \"male\", [1, 2]]\n",
    "```"
   ]
  },
  {
   "cell_type": "code",
   "execution_count": 40,
   "metadata": {
    "colab": {
     "base_uri": "https://localhost:8080/"
    },
    "executionInfo": {
     "elapsed": 680,
     "status": "ok",
     "timestamp": 1652716339702,
     "user": {
      "displayName": "Farhad Maleki",
      "userId": "01963699687472704305"
     },
     "user_tz": 360
    },
    "id": "46RIfqlI-57u",
    "outputId": "082b8eab-4a9a-4b17-d079-42b0f5e80418"
   },
   "outputs": [
    {
     "name": "stdout",
     "output_type": "stream",
     "text": [
      "['cat', 'bat', 'rat', 'elephant']\n",
      "<class 'list'>\n",
      "cat\n",
      "elephant\n",
      "elephant\n",
      "['bat', 'rat', 'elephant']\n",
      "['bat', 'rat', 'elephant']\n",
      "['bat', 'rat', 'elephant']\n"
     ]
    }
   ],
   "source": [
    "# Creating a list \n",
    "animals = [] # empty list\n",
    "animals = ['cat', 'bat', 'rat', 'elephant']\n",
    "print(animals)\n",
    "print(type(animals))\n",
    "print(animals[0])\n",
    "print(animals[3])\n",
    "print(animals[-1])\n",
    "print(animals[1:4])\n",
    "print(animals[1:])\n",
    "print(animals[-3:])"
   ]
  },
  {
   "cell_type": "code",
   "execution_count": 43,
   "metadata": {
    "colab": {
     "base_uri": "https://localhost:8080/"
    },
    "executionInfo": {
     "elapsed": 2,
     "status": "ok",
     "timestamp": 1652716339840,
     "user": {
      "displayName": "Farhad Maleki",
      "userId": "01963699687472704305"
     },
     "user_tz": 360
    },
    "id": "n8zhN53fGEu5",
    "outputId": "75ed5f4f-ff56-4d68-f78d-d62b03e0e48e"
   },
   "outputs": [
    {
     "name": "stdout",
     "output_type": "stream",
     "text": [
      "5\n",
      "6\n",
      "bat\n",
      "['cat', 'bat', 'rat', 'elephant', 'bat', 'bat']\n"
     ]
    }
   ],
   "source": [
    "print(len(animals))\n",
    "animals.append('bat')\n",
    "print(len(animals))\n",
    "print(animals[-1])\n",
    "print(animals)"
   ]
  },
  {
   "cell_type": "code",
   "execution_count": 44,
   "metadata": {
    "colab": {
     "base_uri": "https://localhost:8080/"
    },
    "executionInfo": {
     "elapsed": 160,
     "status": "ok",
     "timestamp": 1652716340602,
     "user": {
      "displayName": "Farhad Maleki",
      "userId": "01963699687472704305"
     },
     "user_tz": 360
    },
    "id": "lXGwAKmgGHT3",
    "outputId": "81ed2f3a-c8f1-4ee2-ff6c-4aebcaeb999f"
   },
   "outputs": [
    {
     "name": "stdout",
     "output_type": "stream",
     "text": [
      "8\n"
     ]
    }
   ],
   "source": [
    "animals.extend(['sparrow', 'parot'])\n",
    "print(len(animals))"
   ]
  },
  {
   "cell_type": "code",
   "execution_count": 45,
   "metadata": {
    "colab": {
     "base_uri": "https://localhost:8080/"
    },
    "executionInfo": {
     "elapsed": 152,
     "status": "ok",
     "timestamp": 1652716395229,
     "user": {
      "displayName": "Farhad Maleki",
      "userId": "01963699687472704305"
     },
     "user_tz": 360
    },
    "id": "0O5f8JnNGa4l",
    "outputId": "3f701fd3-eabd-483d-e987-398ac593bbb1"
   },
   "outputs": [
    {
     "name": "stdout",
     "output_type": "stream",
     "text": [
      "False\n",
      "True\n",
      "True\n",
      "False\n"
     ]
    }
   ],
   "source": [
    "print('caw' in animals)\n",
    "print('cow' not in animals)\n",
    "print('bat' in animals)\n",
    "print('bat' not in animals)"
   ]
  },
  {
   "cell_type": "code",
   "execution_count": 46,
   "metadata": {
    "colab": {
     "base_uri": "https://localhost:8080/"
    },
    "executionInfo": {
     "elapsed": 118,
     "status": "ok",
     "timestamp": 1652716406125,
     "user": {
      "displayName": "Farhad Maleki",
      "userId": "01963699687472704305"
     },
     "user_tz": 360
    },
    "id": "eQ5cNDp6IMsT",
    "outputId": "168b2ef4-b379-415f-9e25-f27b57d72d2f"
   },
   "outputs": [
    {
     "name": "stdout",
     "output_type": "stream",
     "text": [
      "['cat', 'bat', 'rat', 'elephant', 'bat', 'bat', 'sparrow', 'parot']\n",
      "['cat', 'bat', 'elk', 'elephant', 'bat', 'bat', 'sparrow', 'parot']\n"
     ]
    }
   ],
   "source": [
    "print(animals)\n",
    "animals[2]= 'elk'\n",
    "print(animals)"
   ]
  },
  {
   "cell_type": "code",
   "execution_count": 47,
   "metadata": {
    "colab": {
     "base_uri": "https://localhost:8080/"
    },
    "executionInfo": {
     "elapsed": 373,
     "status": "ok",
     "timestamp": 1652716440776,
     "user": {
      "displayName": "Farhad Maleki",
      "userId": "01963699687472704305"
     },
     "user_tz": 360
    },
    "id": "PQjRldgKImU1",
    "outputId": "a8dfbbee-6c67-44d2-946f-3a4d78136518"
   },
   "outputs": [
    {
     "name": "stdout",
     "output_type": "stream",
     "text": [
      "['cat', 'bat', 'elk', 'elephant', 'bat', 'bat', 'sparrow', 'parot']\n",
      "['cat', 'bat', 'lion', 'elk', 'elephant', 'bat', 'bat', 'sparrow', 'parot']\n"
     ]
    }
   ],
   "source": [
    "print(animals)\n",
    "animals.insert(2, 'lion')\n",
    "print(animals)"
   ]
  },
  {
   "cell_type": "code",
   "execution_count": 48,
   "metadata": {
    "colab": {
     "base_uri": "https://localhost:8080/"
    },
    "executionInfo": {
     "elapsed": 137,
     "status": "ok",
     "timestamp": 1652716456039,
     "user": {
      "displayName": "Farhad Maleki",
      "userId": "01963699687472704305"
     },
     "user_tz": 360
    },
    "id": "8th7eHkMJbCb",
    "outputId": "3a2b0d4c-bae2-41d8-b7f3-06a4ff05f306"
   },
   "outputs": [
    {
     "name": "stdout",
     "output_type": "stream",
     "text": [
      "['cat', 'bat', 'lion', 'elk', 'elephant', 'bat', 'bat', 'sparrow', 'parot', 'cat']\n"
     ]
    }
   ],
   "source": [
    "animals.append('cat')\n",
    "print(animals)"
   ]
  },
  {
   "cell_type": "code",
   "execution_count": 49,
   "metadata": {
    "colab": {
     "base_uri": "https://localhost:8080/"
    },
    "executionInfo": {
     "elapsed": 113,
     "status": "ok",
     "timestamp": 1652716471755,
     "user": {
      "displayName": "Farhad Maleki",
      "userId": "01963699687472704305"
     },
     "user_tz": 360
    },
    "id": "7WAeZA6bKWfg",
    "outputId": "9f2023cd-4cbe-40ae-a59a-0feb28b9ca19"
   },
   "outputs": [
    {
     "name": "stdout",
     "output_type": "stream",
     "text": [
      "0\n"
     ]
    }
   ],
   "source": [
    "print(animals.index('cat'))"
   ]
  },
  {
   "cell_type": "code",
   "execution_count": 50,
   "metadata": {
    "colab": {
     "base_uri": "https://localhost:8080/"
    },
    "executionInfo": {
     "elapsed": 155,
     "status": "ok",
     "timestamp": 1652716495112,
     "user": {
      "displayName": "Farhad Maleki",
      "userId": "01963699687472704305"
     },
     "user_tz": 360
    },
    "id": "F9MqirO9KtBY",
    "outputId": "f70f4628-793e-46e4-a69c-1798184fae82"
   },
   "outputs": [
    {
     "name": "stdout",
     "output_type": "stream",
     "text": [
      "9\n"
     ]
    }
   ],
   "source": [
    "print(animals.index('cat', 1, len(animals)))"
   ]
  },
  {
   "cell_type": "code",
   "execution_count": 52,
   "metadata": {},
   "outputs": [
    {
     "data": {
      "text/plain": [
       "['bat', 'lion', 'elk', 'elephant', 'bat', 'bat', 'sparrow', 'parot', 'cat']"
      ]
     },
     "execution_count": 52,
     "metadata": {},
     "output_type": "execute_result"
    }
   ],
   "source": [
    "animals"
   ]
  },
  {
   "cell_type": "code",
   "execution_count": 53,
   "metadata": {
    "colab": {
     "base_uri": "https://localhost:8080/"
    },
    "executionInfo": {
     "elapsed": 123,
     "status": "ok",
     "timestamp": 1652716511257,
     "user": {
      "displayName": "Farhad Maleki",
      "userId": "01963699687472704305"
     },
     "user_tz": 360
    },
    "id": "i6n8BqwjJlJm",
    "outputId": "cbc5142c-605b-4b84-a5a8-1c2fb2a19171"
   },
   "outputs": [
    {
     "name": "stdout",
     "output_type": "stream",
     "text": [
      "['bat', 'lion', 'elk', 'elephant', 'bat', 'bat', 'sparrow', 'parot']\n"
     ]
    }
   ],
   "source": [
    "animals.remove('cat')\n",
    "print(animals)"
   ]
  },
  {
   "cell_type": "code",
   "execution_count": 54,
   "metadata": {
    "colab": {
     "base_uri": "https://localhost:8080/"
    },
    "executionInfo": {
     "elapsed": 252,
     "status": "ok",
     "timestamp": 1652716534420,
     "user": {
      "displayName": "Farhad Maleki",
      "userId": "01963699687472704305"
     },
     "user_tz": 360
    },
    "id": "JLobva5LJyUi",
    "outputId": "8c75e6a6-14ae-4582-f1d9-34c3b036d60e"
   },
   "outputs": [
    {
     "name": "stdout",
     "output_type": "stream",
     "text": [
      "['bat', 'elk', 'elephant', 'bat', 'bat', 'sparrow', 'parot']\n"
     ]
    }
   ],
   "source": [
    "animals.pop(1)\n",
    "print(animals)"
   ]
  },
  {
   "cell_type": "code",
   "execution_count": 55,
   "metadata": {
    "colab": {
     "base_uri": "https://localhost:8080/"
    },
    "executionInfo": {
     "elapsed": 129,
     "status": "ok",
     "timestamp": 1652716553919,
     "user": {
      "displayName": "Farhad Maleki",
      "userId": "01963699687472704305"
     },
     "user_tz": 360
    },
    "id": "oL6e2hTTJ-fR",
    "outputId": "18388455-a6d7-4a58-f634-21a9201eede9"
   },
   "outputs": [
    {
     "name": "stdout",
     "output_type": "stream",
     "text": [
      "['bat', 'elk', 'bat', 'bat', 'sparrow', 'parot']\n"
     ]
    }
   ],
   "source": [
    "del animals[2]\n",
    "print(animals)"
   ]
  },
  {
   "cell_type": "code",
   "execution_count": 56,
   "metadata": {
    "colab": {
     "base_uri": "https://localhost:8080/"
    },
    "executionInfo": {
     "elapsed": 124,
     "status": "ok",
     "timestamp": 1652716578363,
     "user": {
      "displayName": "Farhad Maleki",
      "userId": "01963699687472704305"
     },
     "user_tz": 360
    },
    "id": "vX0fX9-QNSQn",
    "outputId": "4a5ef673-bde1-45a6-f0f7-73b1453dcfb1"
   },
   "outputs": [
    {
     "name": "stdout",
     "output_type": "stream",
     "text": [
      "['bat', 'bat', 'bat', 'elk', 'parot', 'sparrow']\n"
     ]
    }
   ],
   "source": [
    "animals.sort()\n",
    "print(animals)"
   ]
  },
  {
   "cell_type": "code",
   "execution_count": 57,
   "metadata": {
    "colab": {
     "base_uri": "https://localhost:8080/"
    },
    "executionInfo": {
     "elapsed": 149,
     "status": "ok",
     "timestamp": 1652716585395,
     "user": {
      "displayName": "Farhad Maleki",
      "userId": "01963699687472704305"
     },
     "user_tz": 360
    },
    "id": "5sHG6ZMGKJcY",
    "outputId": "75753c0b-9d87-4305-a82d-4559ab5156ca"
   },
   "outputs": [
    {
     "name": "stdout",
     "output_type": "stream",
     "text": [
      "[]\n"
     ]
    }
   ],
   "source": [
    "animals.clear()\n",
    "print(animals)"
   ]
  },
  {
   "cell_type": "code",
   "execution_count": 58,
   "metadata": {
    "colab": {
     "base_uri": "https://localhost:8080/"
    },
    "executionInfo": {
     "elapsed": 123,
     "status": "ok",
     "timestamp": 1652716602270,
     "user": {
      "displayName": "Farhad Maleki",
      "userId": "01963699687472704305"
     },
     "user_tz": 360
    },
    "id": "Wv2v2Tz2K_3T",
    "outputId": "986bda27-151e-430f-f5cc-d8157f067402"
   },
   "outputs": [
    {
     "name": "stdout",
     "output_type": "stream",
     "text": [
      "True\n",
      "False\n"
     ]
    }
   ],
   "source": [
    "l1 = ['A', 'B', 'C']\n",
    "l2 = ['A', 'B', 'C']\n",
    "print(l1 == l2)\n",
    "l2.append('D')\n",
    "print(l1 == l2)"
   ]
  },
  {
   "cell_type": "code",
   "execution_count": 59,
   "metadata": {
    "colab": {
     "base_uri": "https://localhost:8080/"
    },
    "executionInfo": {
     "elapsed": 130,
     "status": "ok",
     "timestamp": 1652716639863,
     "user": {
      "displayName": "Farhad Maleki",
      "userId": "01963699687472704305"
     },
     "user_tz": 360
    },
    "id": "PhL8xkrgLzO-",
    "outputId": "5b50b440-2ed3-4678-ccce-2a22a70d2082"
   },
   "outputs": [
    {
     "name": "stdout",
     "output_type": "stream",
     "text": [
      "height: 185, weight: 185.3, name: john\n"
     ]
    }
   ],
   "source": [
    "l = [185, 185.3, 'john']\n",
    "height, weight, name = l\n",
    "print(f'height: {height}, weight: {weight}, name: {name}')"
   ]
  },
  {
   "cell_type": "markdown",
   "metadata": {
    "id": "JZ5Ri1G_NsUy"
   },
   "source": [
    "### [Read more here](https://automatetheboringstuff.com/2e/chapter4/)"
   ]
  },
  {
   "cell_type": "markdown",
   "metadata": {
    "id": "ZsWAJL72OQpc"
   },
   "source": [
    "### *Tuples*\n",
    "```python\n",
    "tuple1 = (\"apple\", \"banana\", \"cherry\")\n",
    "tuple2 = (1, 5, 7, 9, 3)\n",
    "tuple3 = (True, False, False)\n",
    "```"
   ]
  },
  {
   "cell_type": "code",
   "execution_count": 61,
   "metadata": {
    "colab": {
     "base_uri": "https://localhost:8080/"
    },
    "executionInfo": {
     "elapsed": 115,
     "status": "ok",
     "timestamp": 1652716702399,
     "user": {
      "displayName": "Farhad Maleki",
      "userId": "01963699687472704305"
     },
     "user_tz": 360
    },
    "id": "v3k1jCqSOy9x",
    "outputId": "b7c3347b-11a9-4c15-9d8b-39492222f2d5"
   },
   "outputs": [
    {
     "name": "stdout",
     "output_type": "stream",
     "text": [
      "('apple', 'banana', 'cherry', 'apple', 'cherry')\n",
      "<class 'tuple'>\n",
      "5\n",
      "2\n",
      "1\n"
     ]
    }
   ],
   "source": [
    "fruits = (\"apple\", \"banana\", \"cherry\", \"apple\", \"cherry\")\n",
    "print(fruits)\n",
    "print(type(fruits))\n",
    "print(len(fruits))\n",
    "print(fruits.count('apple'))\n",
    "print(fruits.index('banana'))"
   ]
  },
  {
   "cell_type": "code",
   "execution_count": 62,
   "metadata": {
    "colab": {
     "base_uri": "https://localhost:8080/"
    },
    "executionInfo": {
     "elapsed": 120,
     "status": "ok",
     "timestamp": 1652716705744,
     "user": {
      "displayName": "Farhad Maleki",
      "userId": "01963699687472704305"
     },
     "user_tz": 360
    },
    "id": "Tag_m8SYQGf9",
    "outputId": "24ded618-d787-4aa5-aa92-afffd7fa2efc"
   },
   "outputs": [
    {
     "name": "stdout",
     "output_type": "stream",
     "text": [
      "height: 185, weight: 185.3, name: john\n"
     ]
    }
   ],
   "source": [
    "t = (185, 185.3, 'john')\n",
    "height, weight, name = t\n",
    "print(f'height: {height}, weight: {weight}, name: {name}')"
   ]
  },
  {
   "cell_type": "code",
   "execution_count": 63,
   "metadata": {
    "colab": {
     "base_uri": "https://localhost:8080/"
    },
    "executionInfo": {
     "elapsed": 119,
     "status": "ok",
     "timestamp": 1652716735911,
     "user": {
      "displayName": "Farhad Maleki",
      "userId": "01963699687472704305"
     },
     "user_tz": 360
    },
    "id": "gyCT9aenQK7M",
    "outputId": "dd77bd30-8169-47ec-82ad-50dbd4516a9d"
   },
   "outputs": [
    {
     "name": "stdout",
     "output_type": "stream",
     "text": [
      "height: 185, weight: 185.3, name: john, age: 22\n"
     ]
    }
   ],
   "source": [
    "l = list(t)\n",
    "l.append(22)\n",
    "t = tuple(l)\n",
    "height, weight, name, age = t\n",
    "print(f'height: {height}, weight: {weight}, name: {name}, age: {age}')"
   ]
  },
  {
   "cell_type": "code",
   "execution_count": 64,
   "metadata": {
    "colab": {
     "base_uri": "https://localhost:8080/"
    },
    "executionInfo": {
     "elapsed": 140,
     "status": "ok",
     "timestamp": 1652716752370,
     "user": {
      "displayName": "Farhad Maleki",
      "userId": "01963699687472704305"
     },
     "user_tz": 360
    },
    "id": "ppk1L4umPFb_",
    "outputId": "c265f19d-e028-461d-d3aa-2c47ae2675d6"
   },
   "outputs": [
    {
     "name": "stdout",
     "output_type": "stream",
     "text": [
      "<class 'tuple'>\n",
      "<class 'str'>\n"
     ]
    }
   ],
   "source": [
    "# For one item tuples, remember the comma\n",
    "thistuple = (\"apple\",)\n",
    "print(type(thistuple))\n",
    "\n",
    "#NOT a tuple\n",
    "thistuple = (\"apple\")\n",
    "print(type(thistuple))"
   ]
  },
  {
   "cell_type": "markdown",
   "metadata": {
    "id": "QGRpzz_hQ657"
   },
   "source": [
    "## Sets\n",
    "Sets are immutable collections of data with not repetition and no order.\n",
    "```python\n",
    "set1 = {\"apple\", \"banana\", \"cherry\"}\n",
    "set2 = {1, 5, 7, 9, 3}\n",
    "set3 = {True, False, False}\n",
    "set1 = {\"abc\", 34, True, 40, \"male\"}\n",
    "```"
   ]
  },
  {
   "cell_type": "code",
   "execution_count": 65,
   "metadata": {
    "colab": {
     "base_uri": "https://localhost:8080/"
    },
    "executionInfo": {
     "elapsed": 129,
     "status": "ok",
     "timestamp": 1652716795571,
     "user": {
      "displayName": "Farhad Maleki",
      "userId": "01963699687472704305"
     },
     "user_tz": 360
    },
    "id": "8QlrUlc_RHCA",
    "outputId": "7f398b39-58c3-4784-dad9-3ea8627c6740"
   },
   "outputs": [
    {
     "name": "stdout",
     "output_type": "stream",
     "text": [
      "{'cherry', 'banana', 'apple'}\n",
      "<class 'set'>\n",
      "3\n",
      "True\n",
      "True\n"
     ]
    }
   ],
   "source": [
    "thisset = {\"apple\", \"banana\", \"cherry\", \"apple\"}\n",
    "print(thisset)\n",
    "print(type(thisset))\n",
    "print(len(thisset))\n",
    "print('banana' in thisset)\n",
    "print('orange' not in thisset)"
   ]
  },
  {
   "cell_type": "code",
   "execution_count": 66,
   "metadata": {
    "colab": {
     "base_uri": "https://localhost:8080/"
    },
    "executionInfo": {
     "elapsed": 2,
     "status": "ok",
     "timestamp": 1652686596657,
     "user": {
      "displayName": "Farhad Maleki",
      "userId": "01963699687472704305"
     },
     "user_tz": 360
    },
    "id": "fauDqhmiQ4py",
    "outputId": "72ca5d78-62c6-4631-f285-6bb568ccba7b"
   },
   "outputs": [
    {
     "name": "stdout",
     "output_type": "stream",
     "text": [
      "{1, 2, 4}\n",
      "True\n"
     ]
    }
   ],
   "source": [
    "# Creat from list or tuple\n",
    "s1 = set([1, 2, 4, 1, 2, 1])\n",
    "s2 = set((1, 2, 4))\n",
    "print(s1)\n",
    "print(s1 == s2)"
   ]
  },
  {
   "cell_type": "code",
   "execution_count": 67,
   "metadata": {
    "colab": {
     "base_uri": "https://localhost:8080/"
    },
    "executionInfo": {
     "elapsed": 670,
     "status": "ok",
     "timestamp": 1652716807622,
     "user": {
      "displayName": "Farhad Maleki",
      "userId": "01963699687472704305"
     },
     "user_tz": 360
    },
    "id": "4izctCrFSPD0",
    "outputId": "fcb01860-68dc-4f96-f2ef-a482ff2f8c12"
   },
   "outputs": [
    {
     "name": "stdout",
     "output_type": "stream",
     "text": [
      "{'cherry', 'orange', 'banana', 'apple'}\n"
     ]
    }
   ],
   "source": [
    "# Add Items\n",
    "thisset = {\"apple\", \"banana\", \"cherry\"}\n",
    "thisset.add(\"orange\")\n",
    "print(thisset)"
   ]
  },
  {
   "cell_type": "code",
   "execution_count": 68,
   "metadata": {
    "colab": {
     "base_uri": "https://localhost:8080/"
    },
    "executionInfo": {
     "elapsed": 124,
     "status": "ok",
     "timestamp": 1652716852381,
     "user": {
      "displayName": "Farhad Maleki",
      "userId": "01963699687472704305"
     },
     "user_tz": 360
    },
    "id": "6flkF-P9SaAj",
    "outputId": "fd08b306-3254-43da-b4a9-2257271662ec"
   },
   "outputs": [
    {
     "name": "stdout",
     "output_type": "stream",
     "text": [
      "{'papaya', 'cherry', 'apple', 'pineapple', 'banana', 'mango'}\n",
      "{'papaya', 'cherry', 'apple', 'pineapple', 'mango'}\n"
     ]
    }
   ],
   "source": [
    "# Add Sets\n",
    "thisset = {\"apple\", \"banana\", \"cherry\"}\n",
    "tropical = {\"pineapple\", \"mango\", \"papaya\"}\n",
    "\n",
    "thisset.update(tropical)\n",
    "\n",
    "print(thisset)\n",
    "thisset.remove(\"banana\") # Note: If the item to remove does not exist, remove() will raise an error.\n",
    "print(thisset)\n",
    "thisset.discard(\"date\") # Note: If the item to remove does not exist, discard() will NOT raise an error.\n",
    "\n"
   ]
  },
  {
   "cell_type": "code",
   "execution_count": 69,
   "metadata": {
    "colab": {
     "base_uri": "https://localhost:8080/"
    },
    "executionInfo": {
     "elapsed": 129,
     "status": "ok",
     "timestamp": 1652716889436,
     "user": {
      "displayName": "Farhad Maleki",
      "userId": "01963699687472704305"
     },
     "user_tz": 360
    },
    "id": "eQUNtEO6Ta9M",
    "outputId": "e8e35c73-a69f-4cb7-f879-e1a826c73c56"
   },
   "outputs": [
    {
     "name": "stdout",
     "output_type": "stream",
     "text": [
      "cherry\n",
      "{'banana', 'apple'}\n"
     ]
    }
   ],
   "source": [
    "thisset = {\"apple\", \"banana\", \"cherry\"}\n",
    "x = thisset.pop()# Note: Sets are unordered, so when using the pop() method, you do not know which item gets removed.\n",
    "print(x)\n",
    "print(thisset)"
   ]
  },
  {
   "cell_type": "code",
   "execution_count": 71,
   "metadata": {
    "colab": {
     "base_uri": "https://localhost:8080/"
    },
    "executionInfo": {
     "elapsed": 131,
     "status": "ok",
     "timestamp": 1652716901497,
     "user": {
      "displayName": "Farhad Maleki",
      "userId": "01963699687472704305"
     },
     "user_tz": 360
    },
    "id": "SawvYasbUdxP",
    "outputId": "fae6de5b-9849-4ae3-c7c5-817b0707c71a"
   },
   "outputs": [
    {
     "name": "stdout",
     "output_type": "stream",
     "text": [
      "{1, 2, 3}\n",
      "{1}\n",
      "True\n",
      "{2}\n"
     ]
    }
   ],
   "source": [
    "s1 = {1, 2}\n",
    "s2 = {1, 3}\n",
    "s3 = {1, 2, 3, 4, 5}\n",
    "print(s1.union(s2))\n",
    "print(s1.intersection(s2))\n",
    "print(s1.issubset(s3))\n",
    "print(s1.difference(s2))"
   ]
  },
  {
   "cell_type": "markdown",
   "metadata": {
    "id": "4IXc0CpjTw8s"
   },
   "source": [
    "###Note: for empty set use ```set()``. ```{}``` is not an empty *set*\n",
    "```python\n",
    "s = set()\n",
    "```\n",
    "\n",
    "[Read more about sets here](https://www.w3schools.com/python/python_sets_methods.asp)"
   ]
  },
  {
   "cell_type": "markdown",
   "metadata": {
    "id": "W1yQ3K5_VAB0"
   },
   "source": [
    "## Dictionaries\n",
    "Dictionaries are used to store data values in key:value pairs. Dictionaries are mutable. However, they cannot have two items with the same key.\n",
    "\n",
    "Note: As of Python version 3.7, dictionaries are ordered. In Python 3.6 and earlier, dictionaries are unordered.\n",
    "\n",
    "\n"
   ]
  },
  {
   "cell_type": "code",
   "execution_count": 74,
   "metadata": {
    "colab": {
     "base_uri": "https://localhost:8080/"
    },
    "executionInfo": {
     "elapsed": 130,
     "status": "ok",
     "timestamp": 1652717203170,
     "user": {
      "displayName": "Farhad Maleki",
      "userId": "01963699687472704305"
     },
     "user_tz": 360
    },
    "id": "vMO0QzK6WFPe",
    "outputId": "90aea45d-8fee-4149-9678-a483e89075ee"
   },
   "outputs": [
    {
     "name": "stdout",
     "output_type": "stream",
     "text": [
      "{'brand': 'Ford', 'model': 'Mustang', 'year': 1964}\n",
      "Ford\n",
      "<class 'dict'>\n",
      "3\n",
      "{'brand': 'Ford', 'model': 'Mustang', 'year': 2020}\n",
      "{'brand': 'Ford', 'model': 'Mustang', 'year': 2020, 'color': 'red'}\n"
     ]
    }
   ],
   "source": [
    "thisdict = {\n",
    "  \"brand\": \"Ford\",\n",
    "  \"model\": \"Mustang\",\n",
    "  \"year\": 1964\n",
    "}\n",
    "print(thisdict)\n",
    "print(thisdict['brand'])\n",
    "print(type(thisdict))\n",
    "print(len(thisdict))\n",
    "thisdict[\"year\"] = 2020\n",
    "print(thisdict)\n",
    "thisdict['color'] = 'red'\n",
    "print(thisdict)"
   ]
  },
  {
   "cell_type": "code",
   "execution_count": 75,
   "metadata": {
    "colab": {
     "base_uri": "https://localhost:8080/"
    },
    "executionInfo": {
     "elapsed": 9,
     "status": "ok",
     "timestamp": 1652717204409,
     "user": {
      "displayName": "Farhad Maleki",
      "userId": "01963699687472704305"
     },
     "user_tz": 360
    },
    "id": "2ArKP0dZXVF9",
    "outputId": "6fb53779-657b-4cd6-975b-83631878711a"
   },
   "outputs": [
    {
     "name": "stdout",
     "output_type": "stream",
     "text": [
      "dict_values(['Ford', 'Mustang', 2020, 'red'])\n"
     ]
    }
   ],
   "source": [
    "print(thisdict.values())"
   ]
  },
  {
   "cell_type": "code",
   "execution_count": 76,
   "metadata": {
    "colab": {
     "base_uri": "https://localhost:8080/"
    },
    "executionInfo": {
     "elapsed": 4,
     "status": "ok",
     "timestamp": 1652717204410,
     "user": {
      "displayName": "Farhad Maleki",
      "userId": "01963699687472704305"
     },
     "user_tz": 360
    },
    "id": "_rquRFfDXY32",
    "outputId": "cf26e611-b4e2-4527-baf4-b79b8a101eaa"
   },
   "outputs": [
    {
     "name": "stdout",
     "output_type": "stream",
     "text": [
      "dict_items([('brand', 'Ford'), ('model', 'Mustang'), ('year', 2020), ('color', 'red')])\n"
     ]
    }
   ],
   "source": [
    "print(thisdict.items())"
   ]
  },
  {
   "cell_type": "code",
   "execution_count": 77,
   "metadata": {
    "colab": {
     "base_uri": "https://localhost:8080/"
    },
    "executionInfo": {
     "elapsed": 3,
     "status": "ok",
     "timestamp": 1652717204600,
     "user": {
      "displayName": "Farhad Maleki",
      "userId": "01963699687472704305"
     },
     "user_tz": 360
    },
    "id": "2I6WtL8KWlYC",
    "outputId": "28dfa60e-75d4-4cc4-f0bf-39ca50facf0d"
   },
   "outputs": [
    {
     "name": "stdout",
     "output_type": "stream",
     "text": [
      "dict_keys(['brand', 'model', 'year', 'color'])\n"
     ]
    }
   ],
   "source": [
    "x = thisdict.get(\"model\")\n",
    "l = thisdict.keys()\n",
    "print(l)"
   ]
  },
  {
   "cell_type": "code",
   "execution_count": 78,
   "metadata": {
    "colab": {
     "base_uri": "https://localhost:8080/"
    },
    "executionInfo": {
     "elapsed": 114,
     "status": "ok",
     "timestamp": 1652717208247,
     "user": {
      "displayName": "Farhad Maleki",
      "userId": "01963699687472704305"
     },
     "user_tz": 360
    },
    "id": "q2ejuQ1hXkuD",
    "outputId": "5903fa88-e46e-49bf-f385-61fe5a35658c"
   },
   "outputs": [
    {
     "name": "stdout",
     "output_type": "stream",
     "text": [
      "Yes, 'model' is one of the keys in the thisdict dictionary\n"
     ]
    }
   ],
   "source": [
    "# Check if Key Exists\n",
    "if 'model' in thisdict:\n",
    "  print(\"Yes, 'model' is one of the keys in the thisdict dictionary\")"
   ]
  },
  {
   "cell_type": "code",
   "execution_count": 79,
   "metadata": {
    "colab": {
     "base_uri": "https://localhost:8080/"
    },
    "executionInfo": {
     "elapsed": 373,
     "status": "ok",
     "timestamp": 1652717235653,
     "user": {
      "displayName": "Farhad Maleki",
      "userId": "01963699687472704305"
     },
     "user_tz": 360
    },
    "id": "qE7lmsHlYR-R",
    "outputId": "74289dd4-efe5-4953-c79b-d8f54589b5b7"
   },
   "outputs": [
    {
     "name": "stdout",
     "output_type": "stream",
     "text": [
      "{'brand': 'Ford', 'year': 2020, 'color': 'red'}\n"
     ]
    }
   ],
   "source": [
    "del thisdict[\"model\"]\n",
    "print(thisdict)"
   ]
  },
  {
   "cell_type": "markdown",
   "metadata": {
    "id": "gJlgunpQY_2h"
   },
   "source": [
    "# <font color='red'>**Activity 3**: </font>\n",
    "Print numbers 1 to 10\n",
    "Solution 1:"
   ]
  },
  {
   "cell_type": "code",
   "execution_count": 80,
   "metadata": {
    "colab": {
     "base_uri": "https://localhost:8080/"
    },
    "executionInfo": {
     "elapsed": 8,
     "status": "ok",
     "timestamp": 1652686599679,
     "user": {
      "displayName": "Farhad Maleki",
      "userId": "01963699687472704305"
     },
     "user_tz": 360
    },
    "id": "XbbMw4fPZ_hD",
    "outputId": "e3399acb-db75-4e50-bc79-f058d90ec529"
   },
   "outputs": [
    {
     "name": "stdout",
     "output_type": "stream",
     "text": [
      "1\n",
      "2\n",
      "3\n",
      "4\n",
      "5\n",
      "6\n",
      "7\n",
      "8\n",
      "9\n",
      "10\n"
     ]
    }
   ],
   "source": [
    "print(1)\n",
    "print(2)\n",
    "print(3)\n",
    "print(4)\n",
    "print(5)\n",
    "print(6)\n",
    "print(7)\n",
    "print(8)\n",
    "print(9)\n",
    "print(10)"
   ]
  },
  {
   "cell_type": "markdown",
   "metadata": {
    "id": "9Yj0yuIQaRqC"
   },
   "source": [
    "### What if you need to repeat a command a million times?\n",
    "The solution is loops. Loops allow us to convinently perform repatetive tasks.\n",
    "A solution for the task mentioned above would be:\n"
   ]
  },
  {
   "cell_type": "code",
   "execution_count": 81,
   "metadata": {
    "colab": {
     "base_uri": "https://localhost:8080/"
    },
    "executionInfo": {
     "elapsed": 2,
     "status": "ok",
     "timestamp": 1652686600000,
     "user": {
      "displayName": "Farhad Maleki",
      "userId": "01963699687472704305"
     },
     "user_tz": 360
    },
    "id": "NzxioQksa-1J",
    "outputId": "2265a9d9-26ac-483a-b348-dce5d1cf66f9"
   },
   "outputs": [
    {
     "name": "stdout",
     "output_type": "stream",
     "text": [
      "1\n",
      "2\n",
      "3\n",
      "4\n",
      "5\n",
      "6\n",
      "7\n",
      "8\n",
      "9\n",
      "10\n"
     ]
    }
   ],
   "source": [
    "for i in range(1, 11):\n",
    "  print(i)"
   ]
  },
  {
   "cell_type": "markdown",
   "metadata": {
    "id": "4oMCVr8bFWuQ"
   },
   "source": [
    "#### For loops \n",
    "\n",
    "- the point of a for-loops is to repeatedly do something instead of doing it manually \n",
    "- for example if you need to count to 10, a loop can help you do that if you define the range; or if you want to display all letters of a word, a loop can also do that \n",
    "- A loop will continue running or looping as long as a certain defiend condition is satisfied \n",
    "- We can define how many times or how we want it to loop \n",
    "\n",
    "> We use **for** to declare a loop is being created \n",
    "\n",
    "> we define a variable *x* to *count* our numbers \n",
    "\n",
    "> you must also write **in** prior to the thing you want to iterate over \n",
    "\n",
    "> **Range** is a built in Python function to start anumber and count up to a certain number while increasing by any interval we want with the syntax \n",
    "\n",
    "\n",
    "\n",
    "```\n",
    "range(start,stop,step)\n",
    "range(10)  # When only one number is in the function it means we start at 0 \n",
    "# increase by one each time and stop when our variable hits 10\n",
    "\n",
    "range(5,10)  # When two numbers are in the function it means to start at the first number (in this case 5) \n",
    "# increase by one each time and stop when our variable hits the second number (in this case 10)\n",
    "\n",
    "range(1,5,2)  # when three numbers are in the function it means to start at the first number (1)\n",
    "# stop at the second number (5)\n",
    "# and increase by the last number (2) \n",
    "\n",
    "```\n",
    "\n"
   ]
  },
  {
   "cell_type": "code",
   "execution_count": 82,
   "metadata": {
    "colab": {
     "base_uri": "https://localhost:8080/"
    },
    "executionInfo": {
     "elapsed": 117,
     "status": "ok",
     "timestamp": 1652717329684,
     "user": {
      "displayName": "Farhad Maleki",
      "userId": "01963699687472704305"
     },
     "user_tz": 360
    },
    "id": "8r-ICoRcb2Rp",
    "outputId": "30b8da1e-cb84-406d-c5c8-df1253d45f29"
   },
   "outputs": [
    {
     "name": "stdout",
     "output_type": "stream",
     "text": [
      "-571 -571\n"
     ]
    }
   ],
   "source": [
    "# Calculate the summation of numbers in a list\n",
    "l = [2, 23, -5, 7, 8, -456, 34, 89, -97, 43, 12, -8, 43, -345, 23, 1, 43, 5, 7]\n",
    "total = 0\n",
    "for x in l:\n",
    "  total = total + x# This line can be written as total += x\n",
    "print(total, sum(l))# sum is a method that return summation of all elements in a list\n",
    "assert total == sum(l) "
   ]
  },
  {
   "cell_type": "code",
   "execution_count": 83,
   "metadata": {
    "colab": {
     "base_uri": "https://localhost:8080/"
    },
    "executionInfo": {
     "elapsed": 7,
     "status": "ok",
     "timestamp": 1652686601600,
     "user": {
      "displayName": "Farhad Maleki",
      "userId": "01963699687472704305"
     },
     "user_tz": 360
    },
    "id": "wurPZoVGczYs",
    "outputId": "c1def58b-9d35-4715-c553-69a67a841e94"
   },
   "outputs": [
    {
     "name": "stdout",
     "output_type": "stream",
     "text": [
      "340\n"
     ]
    }
   ],
   "source": [
    "# Calculate the summation of all non-negative numbers in a list\n",
    "l = [2, 23, -5, 7, 8, -456, 34, 89, -97, 43, 12, -8, 43, -345, 23, 1, 43, 5, 7]\n",
    "total = 0\n",
    "for x in l:\n",
    "  if x > 0:\n",
    "    total = total + x # This line can be written as total += x\n",
    "print(total)\n"
   ]
  },
  {
   "cell_type": "markdown",
   "metadata": {
    "id": "Vq3E7G7XESSV"
   },
   "source": [
    "#### Iterables \n",
    "- In Python, we say that an object is an iterable when your program\n",
    "can iterate over it\n",
    "  - an iterable is an object that represents a sequence of one\n",
    "or more values\n",
    "  - all instances of Python's sequence types are iterables \n",
    "    - Lists\n",
    "    - Strings \n",
    "    - Tuples "
   ]
  },
  {
   "cell_type": "markdown",
   "metadata": {
    "id": "VO0bXy-oF0XS"
   },
   "source": [
    "#### While loops \n",
    "\n",
    "- typically used when the number of iterations is unknown, so we loop it while a given condition is true. "
   ]
  },
  {
   "cell_type": "code",
   "execution_count": 84,
   "metadata": {
    "colab": {
     "base_uri": "https://localhost:8080/"
    },
    "executionInfo": {
     "elapsed": 7,
     "status": "ok",
     "timestamp": 1652686602416,
     "user": {
      "displayName": "Farhad Maleki",
      "userId": "01963699687472704305"
     },
     "user_tz": 360
    },
    "id": "5aW20NM9P1BM",
    "outputId": "61a07ea3-a622-4716-a056-d65e478c370e"
   },
   "outputs": [
    {
     "name": "stdout",
     "output_type": "stream",
     "text": [
      "55\n"
     ]
    }
   ],
   "source": [
    "# Calculate summation of numbers between 1 and 10 (both included)\n",
    "i = 1\n",
    "total = 0\n",
    "while i <= 10:\n",
    "  total += i\n",
    "  i += 1\n",
    "print(total)"
   ]
  },
  {
   "cell_type": "markdown",
   "metadata": {
    "id": "j4PNVriSd8Qp"
   },
   "source": [
    "For both for and while loops\n",
    "\n",
    "- the \"break\" command can be used to break the loop if a certain condition is satisfied\n",
    "- the \"continue\" command can be used to skip the statments inside a loop if a certain condition is satisfied\n",
    "\n",
    "[Read more here](https://automatetheboringstuff.com/2e/chapter2/)"
   ]
  },
  {
   "cell_type": "markdown",
   "metadata": {
    "id": "7G6lctTlFaeb"
   },
   "source": [
    "### Functions \n",
    "\n",
    "- A function applies a set of defined rules to the input to obtain an output.\n",
    "- It makes code more reusable. You can define a function and call it several times."
   ]
  },
  {
   "cell_type": "code",
   "execution_count": 85,
   "metadata": {
    "colab": {
     "base_uri": "https://localhost:8080/"
    },
    "executionInfo": {
     "elapsed": 3,
     "status": "ok",
     "timestamp": 1652686604633,
     "user": {
      "displayName": "Farhad Maleki",
      "userId": "01963699687472704305"
     },
     "user_tz": 360
    },
    "id": "H07f3FXGSa4A",
    "outputId": "fe894142-42c7-4ff6-d38e-10eed4c0b6d6"
   },
   "outputs": [
    {
     "name": "stdout",
     "output_type": "stream",
     "text": [
      "{1: 5, 2: 3, 3: 4, 4: 3}\n",
      "{'b': 1, 'a': 3, 'n': 2}\n",
      "{1: 5, 2: 3, 3: 4, 4: 3}\n",
      "{(1, 2): 3, (3, 2): 1, (3, 1): 2, (4, 1): 2, (2, 3): 1}\n"
     ]
    }
   ],
   "source": [
    "def frequency(l):\n",
    "  \"\"\" Calculate frequency of elements in a sequence.\n",
    "\n",
    "  Args:\n",
    "    l: A iterable of immutable items\n",
    "  Returen:\n",
    "    A dictionary key: value, where a key represents an elements of l and its value represents the frequency of k \n",
    "  \"\"\"\n",
    "  freq = {}# An empty dictionary\n",
    "  for x in l:\n",
    "    freq[x] = freq.get(x, 0) + 1\n",
    "  return freq\n",
    "\n",
    "l = [1, 2, 3, 2, 1, 1, 3, 4, 1, 4, 3, 1, 2, 3, 4]\n",
    "print(frequency(l)) \n",
    "\n",
    "s = 'banana'\n",
    "print(frequency(s))\n",
    "\n",
    "t = (1, 2, 3, 2, 1, 1, 3, 4, 1, 4, 3, 1, 2, 3, 4)\n",
    "print(frequency(t))\n",
    "\n",
    "l = [(1, 2), (3, 2), (1, 2), (3, 1),  (4, 1), (1, 2), (3, 1), (2, 3), (4, 1)]\n",
    "print(frequency(l)) # A set has"
   ]
  },
  {
   "cell_type": "code",
   "execution_count": 86,
   "metadata": {
    "id": "icD0ZCL2u9Kp"
   },
   "outputs": [],
   "source": [
    "def write(l, file_path):\n",
    "  \"\"\" Write an iterable to a file.\n",
    "\n",
    "  Args:\n",
    "      l: An iterable.\n",
    "      file_path: an string representing a file path.\n",
    "  \"\"\"\n",
    "  with open(file_path, 'w') as fout:\n",
    "    for x in l:\n",
    "      fout.write(str(x))\n",
    "      fout.write('\\n')# Go to the next line"
   ]
  },
  {
   "cell_type": "code",
   "execution_count": 87,
   "metadata": {
    "id": "SFSQm-4qwYr7"
   },
   "outputs": [],
   "source": [
    "def read(file_path):\n",
    "  \"\"\" Read an file to a list.\n",
    "\n",
    "  Args:\n",
    "      file_path: an string representing a file path.\n",
    "  Returns:\n",
    "      A list where each element is a line of the file.\n",
    "  \"\"\"\n",
    "  l = []\n",
    "  with open(file_path, 'r') as fin:\n",
    "    for line in fin:\n",
    "      line = line.strip()\n",
    "      l.append(line)\n",
    "  return l "
   ]
  },
  {
   "cell_type": "code",
   "execution_count": 88,
   "metadata": {
    "colab": {
     "base_uri": "https://localhost:8080/"
    },
    "executionInfo": {
     "elapsed": 8,
     "status": "ok",
     "timestamp": 1652686605769,
     "user": {
      "displayName": "Farhad Maleki",
      "userId": "01963699687472704305"
     },
     "user_tz": 360
    },
    "id": "fqLF9v4kxZUH",
    "outputId": "c1def25d-8f1e-4d48-b929-3aed21a8eecf"
   },
   "outputs": [
    {
     "data": {
      "text/plain": [
       "['1', '2', '3']"
      ]
     },
     "execution_count": 88,
     "metadata": {},
     "output_type": "execute_result"
    }
   ],
   "source": [
    "write(['1', '2' , '3'], 'file_path.txt') # Write to file\n",
    "read('file_path.txt') # Read from the same file"
   ]
  },
  {
   "cell_type": "markdown",
   "metadata": {
    "id": "rkeCqvooKf4r"
   },
   "source": [
    "### Modular Porgramming \n",
    "\n",
    ">Python has a way to put definitions in a file and use them in a script or in an interactive instance of the interpreter. Such a file is called a module; definitions from a module can be imported into other modules or into the main module (the collection of variables that you have access to in a script executed at the top level and in calculator mode).\n",
    ">[Reference](https://docs.python.org/3/tutorial/modules.html)\n",
    "\n",
    "\n",
    "\n",
    "```\n",
    "# File name: myModule.py\n",
    "\n",
    "def func(x):\n",
    "    return x + 2\n",
    "\n",
    "def func2(y):\n",
    "    return y * 78\n",
    "```\n",
    "\n",
    "\n",
    "```\n",
    "# File name: main.py\n",
    "\n",
    "import myModule\n",
    "\n",
    "value = myModule.func(5)  # this will call the func function from myModule\n",
    "\n",
    "print(value)  # this prints 7\n",
    "```\n",
    "\n",
    "- We can use the **import** keyword to import modules that are built into python or that we've created.\n",
    "- Note: To import our own modules they must be in the same directory as the file we are importing from.\n",
    "\n",
    "- To avoid the use of \"myModule\" we can import specific functions from our modules using a combination of keywords \"import\" and \"from\".\n",
    "\n"
   ]
  },
  {
   "cell_type": "markdown",
   "metadata": {
    "id": "gPJROL9asTAz"
   },
   "source": [
    "## Common modules that you should consider\n",
    "```python\n",
    "import math\n",
    "math.exp(2) #Return e raised to the power x, where e = 2.718281\n",
    "```\n",
    "[See](https://docs.python.org/3/library/math.html)\n",
    "\n",
    "```python\n",
    "import collections\n",
    "l = 'banana'\n",
    "count = collections.Counter(l)\n",
    "print(count)\n",
    "```\n",
    "[See more here](https://docs.python.org/3/library/collections.html)"
   ]
  },
  {
   "cell_type": "markdown",
   "metadata": {
    "id": "bEmAU-I0t1IU"
   },
   "source": [
    "Some other useful modules\n",
    "- Scikit-Learn\n",
    "- numpy\n",
    "- pytorch\n",
    "- scipy\n",
    "- pandas\n",
    "- matplotlib\n",
    "- random\n",
    "- opencv-python\n",
    "- itertools\n",
    "- logging\n",
    "- json"
   ]
  },
  {
   "cell_type": "code",
   "execution_count": null,
   "metadata": {
    "id": "dXLS2ZJss6e4"
   },
   "outputs": [],
   "source": []
  }
 ],
 "metadata": {
  "colab": {
   "provenance": []
  },
  "kernelspec": {
   "display_name": "Python 3 (ipykernel)",
   "language": "python",
   "name": "python3"
  },
  "language_info": {
   "codemirror_mode": {
    "name": "ipython",
    "version": 3
   },
   "file_extension": ".py",
   "mimetype": "text/x-python",
   "name": "python",
   "nbconvert_exporter": "python",
   "pygments_lexer": "ipython3",
   "version": "3.10.12"
  }
 },
 "nbformat": 4,
 "nbformat_minor": 4
}
