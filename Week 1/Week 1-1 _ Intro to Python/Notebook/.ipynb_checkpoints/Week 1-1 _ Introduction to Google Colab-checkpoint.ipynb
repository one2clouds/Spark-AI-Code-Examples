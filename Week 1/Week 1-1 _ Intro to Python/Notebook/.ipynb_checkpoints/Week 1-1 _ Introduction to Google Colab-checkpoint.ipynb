{
 "cells": [
  {
   "cell_type": "markdown",
   "metadata": {
    "id": "MWlbJg_H_1KL"
   },
   "source": [
    "# **Workshop 0: Intro to Google Collab**\n",
    "### Instructors: Yujing Zou, Luca Weishaupt\n"
   ]
  },
  {
   "cell_type": "markdown",
   "metadata": {
    "colab_type": "toc",
    "id": "AF19EOYil1Qs"
   },
   "source": [
    "\n",
    ">[A Google Colab Tour](#scrollTo=h82fzYfUz--m)\n",
    "\n",
    ">>[google colab fastai](#scrollTo=h82fzYfUz--m)\n",
    "\n",
    ">>[What is Google Colab](#scrollTo=wvi6x1filbIA)\n",
    "\n",
    ">>[Why are we using Google Colab](#scrollTo=s-mQSqIoJwVG)\n",
    "\n",
    ">>[How to use Colab?](#scrollTo=s32e73JlgJRl)\n",
    "\n",
    ">>>>[Keyboard shortcuts](#scrollTo=hp7moMXDrGz4)\n",
    "\n",
    ">>>>[Mount your google drive to colab](#scrollTo=gwCui7MktCAx)\n",
    "\n",
    ">>>>[A brief introduction to IPython and Shell Commands in Google Colab:](#scrollTo=8iTPriKfT9Ld)\n",
    "\n",
    ">>>[How to manage files in Google Colab?](#scrollTo=pgvvbC6A3WYi)\n",
    "\n",
    ">>>>[A disadvantge of Google Colab!](#scrollTo=-AZ4xpGaC6t0)\n",
    "\n",
    ">>>>>[How to stop Google Colab from disconnecting](#scrollTo=MPg1P8zPNUrh)\n",
    "\n",
    ">>[Resources to learn more about Google Colab](#scrollTo=40-eWTgzJzal)\n",
    "\n",
    "\n"
   ]
  },
  {
   "cell_type": "markdown",
   "metadata": {
    "id": "h82fzYfUz--m"
   },
   "source": [
    "# **A Google Colab Tour**\n",
    "\n",
    "## [google colab fastai](https://course.fast.ai/start_colab)\n",
    "\n",
    "\n",
    "\n",
    "---\n",
    "\n",
    "\n",
    "\n",
    "---\n",
    "\n"
   ]
  },
  {
   "cell_type": "markdown",
   "metadata": {
    "id": "02NjwjC7jv7A"
   },
   "source": [
    "In the next 8 weeks, we will be using run code demo in Google Colab during the workshops. If you would like to download Python and set it up on your own time, please visit our drop-in sessions during the week where our mentors could help you with that."
   ]
  },
  {
   "cell_type": "markdown",
   "metadata": {
    "id": "wvi6x1filbIA"
   },
   "source": [
    "* [How to open a Colab notebook Slides](https://docs.google.com/presentation/d/1uhx7J7mvTAt8WxLFxryzMuiGKVMSR0iekgJMVDJM8oo/edit?usp=sharing)\n",
    "\n",
    "## What is Google Colab\n",
    "\n",
    "* Google Colab is a cloud computing platform. It can be thought of as a Jupyter notebook (.ipynb) run and stored on Google Drive.\n",
    "* It supports Python 3.7 coding language without needing to have already installed Python on your computer. (Note: Python has officially dropped support for Python 2 as of Jan 1st, 2020)\n",
    "\n",
    "\n"
   ]
  },
  {
   "cell_type": "markdown",
   "metadata": {
    "id": "s-mQSqIoJwVG"
   },
   "source": [
    "## Why are we using Google Colab\n",
    "\n",
    "* Free access to GPUs! This will be useful when training machine learning / deep learning models in later workshops.\n",
    "* The notebook code is easily sharable, edittable, and commentable like a Google Doc. You can also upload (directly from Github, Google Drive, or your personal computer), and create your own Google Colab Jupyter Notebook.\n",
    "* It functions / runs exactly like a Jupyter Notebook, we will go into more details.\n",
    "* It also supports deep learning libraries such as **Pytorch**, **Keras**, **TensorFlow**, and **OpenCV**.\n",
    "\n",
    "\n",
    "\n"
   ]
  },
  {
   "cell_type": "markdown",
   "metadata": {
    "id": "s32e73JlgJRl"
   },
   "source": [
    "## How to use Colab?\n",
    "* We are currently in a **Cell**, more specifically, ***text cell***. A Colab notebook is a list or series of these *Cells* that can contain either *text* or *code*.\n",
    "* You may click on *+Code* or *+Text* at the top of the screen to add a cell of code or a cell of text. Or you may hover your mouse over the bottom of a cell and click on *+Code* or *+Test*.\n",
    "* The *+Code* shortcut is ***Ctl+M B***.\n",
    "---\n",
    "* Double clicking a cell allows you to edit the cell.\n",
    "![editcell.PNG](data:image/png;base64,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)\n",
    "\n",
    "\n",
    "The following cell is a ***code cell***. To execute a code cell,\n",
    "* Click the **Play icon** in the left gutter of the cell;\n",
    "* Type **Cmd/Ctrl+Enter** to run the cell in place;\n",
    "* Type **Shift+Enter** to run the cell and move focus to the next cell (adding one if none exists); or\n",
    "* Type **Alt+Enter** to run the cell and insert a new code cell immediately below it.\n",
    "\n",
    "There are additional options for running some or all cells in the **Runtime** menu.\n",
    "\n",
    "For example:"
   ]
  },
  {
   "cell_type": "code",
   "execution_count": 1,
   "metadata": {
    "colab": {
     "base_uri": "https://localhost:8080/"
    },
    "executionInfo": {
     "elapsed": 29,
     "status": "ok",
     "timestamp": 1711915864750,
     "user": {
      "displayName": "CAMERA Africa",
      "userId": "18158021450573823106"
     },
     "user_tz": 240
    },
    "id": "Apl9ijQ8c2tU",
    "outputId": "c733f65f-76d8-4150-fbb5-0ae0be1f1545"
   },
   "outputs": [
    {
     "name": "stdout",
     "output_type": "stream",
     "text": [
      "McGill\n"
     ]
    }
   ],
   "source": [
    "name = 'McGill'\n",
    "print(name)"
   ]
  },
  {
   "cell_type": "code",
   "execution_count": 2,
   "metadata": {
    "colab": {
     "base_uri": "https://localhost:8080/"
    },
    "executionInfo": {
     "elapsed": 22,
     "status": "ok",
     "timestamp": 1711915864751,
     "user": {
      "displayName": "CAMERA Africa",
      "userId": "18158021450573823106"
     },
     "user_tz": 240
    },
    "id": "az2bIO0clX68",
    "outputId": "a880802d-ea92-4b6b-ecac-e53267f0b9bd"
   },
   "outputs": [
    {
     "name": "stdout",
     "output_type": "stream",
     "text": [
      "0\n",
      "1\n",
      "2\n",
      "3\n",
      "4\n"
     ]
    }
   ],
   "source": [
    "x = range (5)\n",
    "# execute a simple for-loopo\n",
    "for i in x:\n",
    "  print(i)"
   ]
  },
  {
   "cell_type": "markdown",
   "metadata": {
    "id": "hp7moMXDrGz4"
   },
   "source": [
    "#### Keyboard shortcuts\n",
    "\n",
    "> Tools --> Keyboard shortcuts\n",
    "- find default shortcuts\n",
    "- can also custumize shortcuts\n",
    "  - for example,\n",
    "    - adding a *text cell* does not have a default shortcut, you may define it inside of Keyboard shortcut\n",
    "\n",
    "> Undo last action (inside a cell): ctrl + m + z\n",
    "\n",
    "> Find and replace: ctrl + m + h\n",
    "\n",
    "> Insert code cell above: ctrl + m + a\n",
    "\n",
    "> Insert code cell below: ctrl + m + b\n",
    "\n",
    "> Delete cell: ctrl + m + d\n"
   ]
  },
  {
   "cell_type": "markdown",
   "metadata": {
    "id": "gwCui7MktCAx"
   },
   "source": [
    "#### Mount your google drive to colab\n",
    "- in case you want to upload a file from your google drive to your google colab\n",
    "\n",
    "- after executing the next line of code,\n",
    "  - click on the URL browser prompted\n",
    "  - allow access to your google drive\n",
    "  - copy and paste the authorization code\n",
    "  - your google drive folders will be seen and can be navigated through here on the left \"files\" icon."
   ]
  },
  {
   "cell_type": "code",
   "execution_count": 3,
   "metadata": {
    "colab": {
     "base_uri": "https://localhost:8080/"
    },
    "executionInfo": {
     "elapsed": 36401,
     "status": "ok",
     "timestamp": 1711915901135,
     "user": {
      "displayName": "CAMERA Africa",
      "userId": "18158021450573823106"
     },
     "user_tz": 240
    },
    "id": "ncUgPgEfz3Wx",
    "outputId": "7a31c531-c63b-417f-82a7-8b406fc65f89"
   },
   "outputs": [
    {
     "name": "stdout",
     "output_type": "stream",
     "text": [
      "Mounted at /content/gdrive\n"
     ]
    }
   ],
   "source": [
    "from google.colab import drive\n",
    "drive.mount('/content/gdrive')"
   ]
  },
  {
   "cell_type": "markdown",
   "metadata": {
    "id": "8iTPriKfT9Ld"
   },
   "source": [
    "#### **A brief introduction to IPython and Shell Commands in Google Colab:**\n",
    "\n",
    ">\n",
    "\n",
    "**In[1]** tells you the files in your current folder\n",
    "```\n",
    "In [1]: !ls\n",
    "```\n",
    "**ln [2]** tells you the path to your current folder\n",
    "\n",
    "```\n",
    "In [2]: !pwd\n",
    "```\n",
    "**In [3]** prints directly from the shell\n",
    "\n",
    "\n",
    "```\n",
    "In [3]: !echo \"I am a shell!\"\n",
    "```\n",
    "**In [4]** change directory:\n",
    "\n",
    "**..** is the path you want to change to. Its path could be found by going to the File system on the left of Google Colab, right click on the folder, then select *Copy path*.\n",
    "\n",
    "\n",
    "```\n",
    "In [4] %cd..\n",
    "```\n",
    "- Learn more about [Ipython and Shell Commands in Google Colab](https://colab.research.google.com/github/jakevdp/PythonDataScienceHandbook/blob/master/notebooks/01.05-IPython-And-Shell-Commands.ipynb#scrollTo=Kpdznj96Jrx2)\n",
    "\n",
    "- Learn more about [The Unix Shell](http://swcarpentry.github.io/shell-novice/)\n",
    "\n",
    "\n"
   ]
  },
  {
   "cell_type": "code",
   "execution_count": 1,
   "metadata": {},
   "outputs": [
    {
     "name": "stdout",
     "output_type": "stream",
     "text": [
      "The history saving thread hit an unexpected error (OperationalError('attempt to write a readonly database')).History will not be written to the database.\n",
      " file_path.txt\n",
      "'Week 1-1 _ Introduction to Google Colab.ipynb'\n",
      "'Week 1-1 _ Workshop-notebook _ Intro to Python.ipynb'\n"
     ]
    }
   ],
   "source": [
    "!ls"
   ]
  },
  {
   "cell_type": "code",
   "execution_count": 4,
   "metadata": {
    "colab": {
     "base_uri": "https://localhost:8080/"
    },
    "executionInfo": {
     "elapsed": 16,
     "status": "ok",
     "timestamp": 1711915901136,
     "user": {
      "displayName": "CAMERA Africa",
      "userId": "18158021450573823106"
     },
     "user_tz": 240
    },
    "id": "nAXp91f1D17T",
    "outputId": "5ebfe7f6-75e1-45b7-8b1e-b8da3366746f"
   },
   "outputs": [
    {
     "name": "stdout",
     "output_type": "stream",
     "text": [
      "/content\n"
     ]
    }
   ],
   "source": [
    "!pwd"
   ]
  },
  {
   "cell_type": "code",
   "execution_count": 2,
   "metadata": {},
   "outputs": [
    {
     "name": "stdout",
     "output_type": "stream",
     "text": [
      "I am shell\n"
     ]
    }
   ],
   "source": [
    "!echo \"I am shell\""
   ]
  },
  {
   "cell_type": "markdown",
   "metadata": {
    "id": "w3AYS9K5KyDP"
   },
   "source": []
  },
  {
   "cell_type": "code",
   "execution_count": 5,
   "metadata": {
    "colab": {
     "base_uri": "https://localhost:8080/"
    },
    "executionInfo": {
     "elapsed": 354,
     "status": "ok",
     "timestamp": 1711915901483,
     "user": {
      "displayName": "CAMERA Africa",
      "userId": "18158021450573823106"
     },
     "user_tz": 240
    },
    "id": "qu5mwydLchAW",
    "outputId": "578ea1ab-9789-4805-e844-467e5716249a"
   },
   "outputs": [
    {
     "name": "stdout",
     "output_type": "stream",
     "text": [
      "['/home/shirshak']\n",
      "/home/shirshak\n",
      "['/home/shirshak']\n",
      "/home/shirshak/0 0 0 0SPARK AI academy/Week 1/Week 1-1 _ Intro to Python\n",
      "['/home/shirshak/0 0 0 0SPARK AI academy/Week 1/Week 1-1 _ Intro to Python']\n"
     ]
    }
   ],
   "source": [
    "# Now I change my directory to the folder I would like to work in.\n",
    "path = !pwd\n",
    "print(path)\n",
    "%cd '/home/shirshak/'\n",
    "path = !pwd\n",
    "print(path)\n",
    "%cd '/home/shirshak/0 0 0 0SPARK AI academy/Week 1/Week 1-1 _ Intro to Python/'\n",
    "path = !pwd\n",
    "print(path)\n",
    "# this line won't work for you, because it is a local path to your google drive that has been \"mounted\" here.\n",
    "# You must change it to your local path."
   ]
  },
  {
   "cell_type": "code",
   "execution_count": 7,
   "metadata": {
    "colab": {
     "base_uri": "https://localhost:8080/"
    },
    "executionInfo": {
     "elapsed": 206,
     "status": "ok",
     "timestamp": 1711915901684,
     "user": {
      "displayName": "CAMERA Africa",
      "userId": "18158021450573823106"
     },
     "user_tz": 240
    },
    "id": "PiJw1tcRbZWv",
    "outputId": "e561d4a9-e988-43ab-d35e-38338af6bef1"
   },
   "outputs": [
    {
     "name": "stdout",
     "output_type": "stream",
     "text": [
      "Assignment  Notebook\n"
     ]
    }
   ],
   "source": [
    "!ls"
   ]
  },
  {
   "cell_type": "markdown",
   "metadata": {
    "id": "y-Ckt9rm2mIJ"
   },
   "source": [
    "**Download** dataset from a website with an url\n",
    "```\n",
    "In [5]: !wget <ENTER URL>\n",
    "```\n",
    "See [here](https://towardsdatascience.com/4-awesome-ways-of-loading-ml-data-in-google-colab-9a5264c61966) to learn more about ways to upload or scrape data from the web! This will be useful for later weeks when medical imaging data are loaded in Google Colab"
   ]
  },
  {
   "cell_type": "markdown",
   "metadata": {
    "id": "dU1ePjYMA_8q"
   },
   "source": [
    "**Run** an existing .py script\n",
    "\n",
    "\n",
    "```\n",
    "In [6] !python script.py\n",
    "```\n",
    "**Clone** a git repository with\n",
    "\n",
    "\n",
    "```\n",
    "!git clone <REPOSITORY URL>\n",
    "```\n",
    "\n",
    "\n",
    "\n"
   ]
  },
  {
   "cell_type": "markdown",
   "metadata": {
    "id": "pgvvbC6A3WYi"
   },
   "source": [
    "### How to manage files in Google Colab?\n",
    "\n",
    "> **1. Manually uploading files from local computer through file explorer (the fourth file icon --> \"upload\" files. The files will be uploaded in the Colab parent folder. Let's try displaying an uploaded image.**\n",
    "\n",
    "\n",
    "\n",
    "\n",
    "\n",
    "\n"
   ]
  },
  {
   "cell_type": "code",
   "execution_count": 8,
   "metadata": {
    "colab": {
     "base_uri": "https://localhost:8080/"
    },
    "executionInfo": {
     "elapsed": 614,
     "status": "ok",
     "timestamp": 1711915902294,
     "user": {
      "displayName": "CAMERA Africa",
      "userId": "18158021450573823106"
     },
     "user_tz": 240
    },
    "id": "2CylQxnKLZXf",
    "outputId": "82a31177-b7b7-41f9-8cfd-21e9028c426e"
   },
   "outputs": [
    {
     "name": "stdout",
     "output_type": "stream",
     "text": [
      "  % Total    % Received % Xferd  Average Speed   Time    Time     Time  Current\n",
      "                                 Dload  Upload   Total   Spent    Left  Speed\n",
      "100 31154  100 31154    0     0  67258      0 --:--:-- --:--:-- --:--:-- 67287\n"
     ]
    }
   ],
   "source": [
    "!curl -o mcmedhackslogo.png  'https://i0.wp.com/mcmedhacks.com/wp-content/uploads/2021/05/coloredmedhackslogo.png?resize=750%2C750&ssl=1'"
   ]
  },
  {
   "cell_type": "code",
   "execution_count": 10,
   "metadata": {},
   "outputs": [
    {
     "name": "stdout",
     "output_type": "stream",
     "text": [
      "Defaulting to user installation because normal site-packages is not writeable\n",
      "Collecting opencv-python\n",
      "  Downloading opencv_python-4.9.0.80-cp37-abi3-manylinux_2_17_x86_64.manylinux2014_x86_64.whl (62.2 MB)\n",
      "\u001b[2K     \u001b[38;2;114;156;31m━━━━━━━━━━━━━━━━━━━━━━━━━━━━━━━━━━━━━━━━\u001b[0m \u001b[32m62.2/62.2 MB\u001b[0m \u001b[31m1.1 MB/s\u001b[0m eta \u001b[36m0:00:00\u001b[0mm eta \u001b[36m0:00:01\u001b[0m[36m0:00:02\u001b[0mm\n",
      "\u001b[?25hRequirement already satisfied: numpy>=1.19.3 in /usr/lib/python3/dist-packages (from opencv-python) (1.21.5)\n",
      "Installing collected packages: opencv-python\n",
      "Successfully installed opencv-python-4.9.0.80\n"
     ]
    }
   ],
   "source": [
    "!pip install opencv-python"
   ]
  },
  {
   "cell_type": "code",
   "execution_count": 11,
   "metadata": {},
   "outputs": [
    {
     "name": "stdout",
     "output_type": "stream",
     "text": [
      "/home/shirshak/0 0 0 0SPARK AI academy/Week 1/Week 1-1 _ Intro to Python\n"
     ]
    }
   ],
   "source": [
    "!pwd"
   ]
  },
  {
   "cell_type": "code",
   "execution_count": 12,
   "metadata": {},
   "outputs": [
    {
     "name": "stdout",
     "output_type": "stream",
     "text": [
      "\u001b[0m\u001b[01;34mAssignment\u001b[0m/  \u001b[01;35mmcmedhackslogo.png\u001b[0m  \u001b[01;34mNotebook\u001b[0m/\n"
     ]
    }
   ],
   "source": [
    "ls"
   ]
  },
  {
   "cell_type": "code",
   "execution_count": 13,
   "metadata": {
    "colab": {
     "base_uri": "https://localhost:8080/",
     "height": 767
    },
    "executionInfo": {
     "elapsed": 685,
     "status": "ok",
     "timestamp": 1711915902977,
     "user": {
      "displayName": "CAMERA Africa",
      "userId": "18158021450573823106"
     },
     "user_tz": 240
    },
    "id": "9zGe9GduGqcs",
    "outputId": "41abdb4b-7365-4f05-bd7e-bae86fbb047f"
   },
   "outputs": [
    {
     "ename": "ModuleNotFoundError",
     "evalue": "No module named 'google.colab'",
     "output_type": "error",
     "traceback": [
      "\u001b[0;31m---------------------------------------------------------------------------\u001b[0m",
      "\u001b[0;31mModuleNotFoundError\u001b[0m                       Traceback (most recent call last)",
      "Cell \u001b[0;32mIn[13], line 3\u001b[0m\n\u001b[1;32m      1\u001b[0m \u001b[38;5;28;01mimport\u001b[39;00m \u001b[38;5;21;01mnumpy\u001b[39;00m \u001b[38;5;28;01mas\u001b[39;00m \u001b[38;5;21;01mnp\u001b[39;00m\n\u001b[1;32m      2\u001b[0m \u001b[38;5;28;01mimport\u001b[39;00m \u001b[38;5;21;01mcv2\u001b[39;00m\n\u001b[0;32m----> 3\u001b[0m \u001b[38;5;28;01mfrom\u001b[39;00m \u001b[38;5;21;01mgoogle\u001b[39;00m\u001b[38;5;21;01m.\u001b[39;00m\u001b[38;5;21;01mcolab\u001b[39;00m\u001b[38;5;21;01m.\u001b[39;00m\u001b[38;5;21;01mpatches\u001b[39;00m \u001b[38;5;28;01mimport\u001b[39;00m cv2_imshow\n\u001b[1;32m      4\u001b[0m \u001b[38;5;66;03m# now manually upload an image to your Google Colab folder from the \"Upload to session storage\" icon in the Files icon on the left hand side\u001b[39;00m\n\u001b[1;32m      5\u001b[0m img \u001b[38;5;241m=\u001b[39m cv2\u001b[38;5;241m.\u001b[39mimread(\u001b[38;5;124m'\u001b[39m\u001b[38;5;124m/home/shirshak/0 0 0 0SPARK AI academy/Week 1/Week 1-1 _ Intro to Python/mcmedhackslogo.png\u001b[39m\u001b[38;5;124m'\u001b[39m)\n",
      "\u001b[0;31mModuleNotFoundError\u001b[0m: No module named 'google.colab'"
     ]
    }
   ],
   "source": [
    "import numpy as np\n",
    "import cv2\n",
    "from google.colab.patches import cv2_imshow\n",
    "# now manually upload an image to your Google Colab folder from the \"Upload to session storage\" icon in the Files icon on the left hand side\n",
    "img = cv2.imread('/home/shirshak/0 0 0 0SPARK AI academy/Week 1/Week 1-1 _ Intro to Python/mcmedhackslogo.png')\n",
    "cv2_imshow(img)"
   ]
  },
  {
   "cell_type": "code",
   "execution_count": 9,
   "metadata": {
    "colab": {
     "base_uri": "https://localhost:8080/",
     "height": 644
    },
    "executionInfo": {
     "elapsed": 382,
     "status": "ok",
     "timestamp": 1711915903353,
     "user": {
      "displayName": "CAMERA Africa",
      "userId": "18158021450573823106"
     },
     "user_tz": 240
    },
    "id": "kUbuy7NAE6mB",
    "outputId": "ed1e1a48-4120-4e8a-a679-9f49c435e218"
   },
   "outputs": [
    {
     "name": "stdout",
     "output_type": "stream",
     "text": [
      "  % Total    % Received % Xferd  Average Speed   Time    Time     Time  Current\n",
      "                                 Dload  Upload   Total   Spent    Left  Speed\n",
      "\r",
      "  0     0    0     0    0     0      0      0 --:--:-- --:--:-- --:--:--     0\r",
      "100  4534  100  4534    0     0  56932      0 --:--:-- --:--:-- --:--:-- 57392\n"
     ]
    },
    {
     "data": {
      "image/png": "[encoded data removed]",
      "text/plain": [
       "<PIL.Image.Image image mode=RGBA size=260x260>"
      ]
     },
     "metadata": {},
     "output_type": "display_data"
    },
    {
     "name": "stdout",
     "output_type": "stream",
     "text": [
      "  % Total    % Received % Xferd  Average Speed   Time    Time     Time  Current\n",
      "                                 Dload  Upload   Total   Spent    Left  Speed\n",
      "\r",
      "  0     0    0     0    0     0      0      0 --:--:-- --:--:-- --:--:--     0\r",
      "  0     0    0     0    0     0      0      0 --:--:-- --:--:-- --:--:--     0\r",
      "100  4534  100  4534    0     0  62736      0 --:--:-- --:--:-- --:--:-- 62109\n"
     ]
    },
    {
     "data": {
      "image/png": "[encoded data removed]",
      "text/plain": [
       "<PIL.Image.Image image mode=L size=260x260>"
      ]
     },
     "metadata": {},
     "output_type": "display_data"
    }
   ],
   "source": [
    "\n",
    "!curl -o logo.png https://colab.research.google.com/img/colab_favicon_256px.png\n",
    "import cv2\n",
    "img = cv2.imread('logo.png', cv2.IMREAD_UNCHANGED)\n",
    "cv2_imshow(img)\n",
    "\n",
    "!curl -o logo.png https://colab.research.google.com/img/colab_favicon_256px.png\n",
    "img2 = cv2.imread('/content/logo.png',0) # reading the greyscale 'editcell.PNG' image\n",
    "cv2_imshow(img2)                           # display the 'editcell.PNG' image\n"
   ]
  },
  {
   "cell_type": "markdown",
   "metadata": {
    "id": "nUr81mfGcgdk"
   },
   "source": [
    "> **Uploading files using Python code in Google Colab**\n",
    "\n",
    "`files.upload` returns a dictionary of the files which were uploaded.\n",
    "The dictionary is keyed by the file name and values are the data which were uploaded."
   ]
  },
  {
   "cell_type": "code",
   "execution_count": null,
   "metadata": {
    "colab": {
     "base_uri": "https://localhost:8080/",
     "height": 38
    },
    "id": "4zmnQaOUVvvM",
    "outputId": "907b64d2-bf7e-4ff3-b2de-fcce954f88b1"
   },
   "outputs": [
    {
     "data": {
      "text/html": [
       "\n",
       "     <input type=\"file\" id=\"files-46a5ff3a-2a26-4374-a21a-631319ff6f8d\" name=\"files[]\" multiple disabled\n",
       "        style=\"border:none\" />\n",
       "     <output id=\"result-46a5ff3a-2a26-4374-a21a-631319ff6f8d\">\n",
       "      Upload widget is only available when the cell has been executed in the\n",
       "      current browser session. Please rerun this cell to enable.\n",
       "      </output>\n",
       "      <script>// Copyright 2017 Google LLC\n",
       "//\n",
       "// Licensed under the Apache License, Version 2.0 (the \"License\");\n",
       "// you may not use this file except in compliance with the License.\n",
       "// You may obtain a copy of the License at\n",
       "//\n",
       "//      http://www.apache.org/licenses/LICENSE-2.0\n",
       "//\n",
       "// Unless required by applicable law or agreed to in writing, software\n",
       "// distributed under the License is distributed on an \"AS IS\" BASIS,\n",
       "// WITHOUT WARRANTIES OR CONDITIONS OF ANY KIND, either express or implied.\n",
       "// See the License for the specific language governing permissions and\n",
       "// limitations under the License.\n",
       "\n",
       "/**\n",
       " * @fileoverview Helpers for google.colab Python module.\n",
       " */\n",
       "(function(scope) {\n",
       "function span(text, styleAttributes = {}) {\n",
       "  const element = document.createElement('span');\n",
       "  element.textContent = text;\n",
       "  for (const key of Object.keys(styleAttributes)) {\n",
       "    element.style[key] = styleAttributes[key];\n",
       "  }\n",
       "  return element;\n",
       "}\n",
       "\n",
       "// Max number of bytes which will be uploaded at a time.\n",
       "const MAX_PAYLOAD_SIZE = 100 * 1024;\n",
       "\n",
       "function _uploadFiles(inputId, outputId) {\n",
       "  const steps = uploadFilesStep(inputId, outputId);\n",
       "  const outputElement = document.getElementById(outputId);\n",
       "  // Cache steps on the outputElement to make it available for the next call\n",
       "  // to uploadFilesContinue from Python.\n",
       "  outputElement.steps = steps;\n",
       "\n",
       "  return _uploadFilesContinue(outputId);\n",
       "}\n",
       "\n",
       "// This is roughly an async generator (not supported in the browser yet),\n",
       "// where there are multiple asynchronous steps and the Python side is going\n",
       "// to poll for completion of each step.\n",
       "// This uses a Promise to block the python side on completion of each step,\n",
       "// then passes the result of the previous step as the input to the next step.\n",
       "function _uploadFilesContinue(outputId) {\n",
       "  const outputElement = document.getElementById(outputId);\n",
       "  const steps = outputElement.steps;\n",
       "\n",
       "  const next = steps.next(outputElement.lastPromiseValue);\n",
       "  return Promise.resolve(next.value.promise).then((value) => {\n",
       "    // Cache the last promise value to make it available to the next\n",
       "    // step of the generator.\n",
       "    outputElement.lastPromiseValue = value;\n",
       "    return next.value.response;\n",
       "  });\n",
       "}\n",
       "\n",
       "/**\n",
       " * Generator function which is called between each async step of the upload\n",
       " * process.\n",
       " * @param {string} inputId Element ID of the input file picker element.\n",
       " * @param {string} outputId Element ID of the output display.\n",
       " * @return {!Iterable<!Object>} Iterable of next steps.\n",
       " */\n",
       "function* uploadFilesStep(inputId, outputId) {\n",
       "  const inputElement = document.getElementById(inputId);\n",
       "  inputElement.disabled = false;\n",
       "\n",
       "  const outputElement = document.getElementById(outputId);\n",
       "  outputElement.innerHTML = '';\n",
       "\n",
       "  const pickedPromise = new Promise((resolve) => {\n",
       "    inputElement.addEventListener('change', (e) => {\n",
       "      resolve(e.target.files);\n",
       "    });\n",
       "  });\n",
       "\n",
       "  const cancel = document.createElement('button');\n",
       "  inputElement.parentElement.appendChild(cancel);\n",
       "  cancel.textContent = 'Cancel upload';\n",
       "  const cancelPromise = new Promise((resolve) => {\n",
       "    cancel.onclick = () => {\n",
       "      resolve(null);\n",
       "    };\n",
       "  });\n",
       "\n",
       "  // Wait for the user to pick the files.\n",
       "  const files = yield {\n",
       "    promise: Promise.race([pickedPromise, cancelPromise]),\n",
       "    response: {\n",
       "      action: 'starting',\n",
       "    }\n",
       "  };\n",
       "\n",
       "  cancel.remove();\n",
       "\n",
       "  // Disable the input element since further picks are not allowed.\n",
       "  inputElement.disabled = true;\n",
       "\n",
       "  if (!files) {\n",
       "    return {\n",
       "      response: {\n",
       "        action: 'complete',\n",
       "      }\n",
       "    };\n",
       "  }\n",
       "\n",
       "  for (const file of files) {\n",
       "    const li = document.createElement('li');\n",
       "    li.append(span(file.name, {fontWeight: 'bold'}));\n",
       "    li.append(span(\n",
       "        `(${file.type || 'n/a'}) - ${file.size} bytes, ` +\n",
       "        `last modified: ${\n",
       "            file.lastModifiedDate ? file.lastModifiedDate.toLocaleDateString() :\n",
       "                                    'n/a'} - `));\n",
       "    const percent = span('0% done');\n",
       "    li.appendChild(percent);\n",
       "\n",
       "    outputElement.appendChild(li);\n",
       "\n",
       "    const fileDataPromise = new Promise((resolve) => {\n",
       "      const reader = new FileReader();\n",
       "      reader.onload = (e) => {\n",
       "        resolve(e.target.result);\n",
       "      };\n",
       "      reader.readAsArrayBuffer(file);\n",
       "    });\n",
       "    // Wait for the data to be ready.\n",
       "    let fileData = yield {\n",
       "      promise: fileDataPromise,\n",
       "      response: {\n",
       "        action: 'continue',\n",
       "      }\n",
       "    };\n",
       "\n",
       "    // Use a chunked sending to avoid message size limits. See b/62115660.\n",
       "    let position = 0;\n",
       "    do {\n",
       "      const length = Math.min(fileData.byteLength - position, MAX_PAYLOAD_SIZE);\n",
       "      const chunk = new Uint8Array(fileData, position, length);\n",
       "      position += length;\n",
       "\n",
       "      const base64 = btoa(String.fromCharCode.apply(null, chunk));\n",
       "      yield {\n",
       "        response: {\n",
       "          action: 'append',\n",
       "          file: file.name,\n",
       "          data: base64,\n",
       "        },\n",
       "      };\n",
       "\n",
       "      let percentDone = fileData.byteLength === 0 ?\n",
       "          100 :\n",
       "          Math.round((position / fileData.byteLength) * 100);\n",
       "      percent.textContent = `${percentDone}% done`;\n",
       "\n",
       "    } while (position < fileData.byteLength);\n",
       "  }\n",
       "\n",
       "  // All done.\n",
       "  yield {\n",
       "    response: {\n",
       "      action: 'complete',\n",
       "    }\n",
       "  };\n",
       "}\n",
       "\n",
       "scope.google = scope.google || {};\n",
       "scope.google.colab = scope.google.colab || {};\n",
       "scope.google.colab._files = {\n",
       "  _uploadFiles,\n",
       "  _uploadFilesContinue,\n",
       "};\n",
       "})(self);\n",
       "</script> "
      ],
      "text/plain": [
       "<IPython.core.display.HTML object>"
      ]
     },
     "metadata": {},
     "output_type": "display_data"
    }
   ],
   "source": [
    "from google.colab import files\n",
    "\n",
    "# uploading files from local computer\n",
    "uploaded = files.upload() # execute this line --> Choose Files --> click on a png file you'd like to upload.\n",
    "# the variable \"uploaded\" is the read png file now. It has been uploaded to the folder you are currently in.\n",
    "\n"
   ]
  },
  {
   "cell_type": "markdown",
   "metadata": {
    "id": "OP_sHb7mCNMv"
   },
   "source": [
    "> **Downloading files using python code in Google Colab**\n",
    "\n",
    "\n",
    "```\n",
    "from google.colab import files\n",
    "files.download('path/to/your/file')\n",
    "```\n",
    "\n"
   ]
  },
  {
   "cell_type": "code",
   "execution_count": null,
   "metadata": {
    "id": "DZMlkr6CCaN4"
   },
   "outputs": [],
   "source": [
    "from google.colab import files\n",
    "files.download('/content/sample_data/README.md') # there is a \"sample_data\" folder always in the Google Colab folder whenever you log in."
   ]
  },
  {
   "cell_type": "markdown",
   "metadata": {
    "id": "-AZ4xpGaC6t0"
   },
   "source": [
    "#### **A disadvantge of Google Colab!**\n",
    "- Files that you have uploaded and the Google Drive you have \"mounted\" will disappear after you leave Google Colab!\n",
    "- However, when you come back and re-run the code where you have uploaded or downloaded the files, they will come back.\n",
    "- Therefore, it is more efficient to manage files using code than manuallly dealing with it as you may re-run the code every time the files disappear.\n"
   ]
  },
  {
   "cell_type": "markdown",
   "metadata": {
    "id": "MPg1P8zPNUrh"
   },
   "source": [
    "[link text](https://)##### **How to stop Google Colab from disconnecting**\n",
    "\n",
    "\n",
    "\n",
    "- You may also notice that your Colab disconnects when you are away for > 30 minutes. This is a Google Colab drawback despite its many advantages\n",
    "\n",
    "- see [this article point 7](https://towardsdatascience.com/10-tips-for-a-better-google-colab-experience-33f8fe721b82) to learn how to stop your google colab from disconnecting"
   ]
  },
  {
   "cell_type": "markdown",
   "metadata": {
    "id": "dNNIHxJk26SX"
   },
   "source": [
    "Learn more about [External data: Local Files, Drive, Sheets, and Cloud Storage](https://colab.research.google.com/notebooks/io.ipynb#scrollTo=vz-jH8T_Uk2c)"
   ]
  },
  {
   "cell_type": "markdown",
   "metadata": {
    "id": "bA5-xYwh3oj1"
   },
   "source": [
    "> **Learn** how to use Code Snippets\n",
    "\n",
    "Go to the **<>** icon on the left, search for 'dataset'"
   ]
  },
  {
   "cell_type": "code",
   "execution_count": null,
   "metadata": {
    "id": "bQOWayREpkDY"
   },
   "outputs": [],
   "source": [
    "\n",
    "# load an example dataset\n",
    "from vega_datasets import data\n",
    "cars = data.cars()\n",
    "\n",
    "# plot the dataset, referencing dataframe column names\n",
    "import altair as alt\n",
    "alt.Chart(cars).mark_point().encode(\n",
    "  x='Horsepower',\n",
    "  y='Miles_per_Gallon',\n",
    "  color='Origin'\n",
    ").interactive()"
   ]
  },
  {
   "cell_type": "code",
   "execution_count": null,
   "metadata": {
    "id": "hOvnIdbPyaRP"
   },
   "outputs": [],
   "source": [
    "# load an example dataset\n",
    "from vega_datasets import data\n",
    "cars = data.cars()\n",
    "\n",
    "# plot the dataset, referencing dataframe column names\n",
    "import altair as alt\n",
    "alt.Chart(cars).mark_bar().encode(\n",
    "  x=alt.X('Miles_per_Gallon', bin=True),\n",
    "  y='count()',\n",
    ")"
   ]
  },
  {
   "cell_type": "markdown",
   "metadata": {
    "id": "40-eWTgzJzal"
   },
   "source": [
    "## **Resources to learn more about Google Colab**\n",
    "\n",
    "- [About Colab Text cells syntax](https://towardsdatascience.com/cheat-sheet-for-google-colab-63853778c093)\n",
    "- [Another beginner's guide](https://medium.com/lean-in-women-in-tech-india/google-colab-the-beginners-guide-5ad3b417dfa)\n",
    "- [10 tips for a better google colab experience](https://towardsdatascience.com/10-tips-for-a-better-google-colab-experience-33f8fe721b82)\n",
    "- [Welcome to Colaboratory authored by Google Colab research](https://colab.research.google.com/notebooks/intro.ipynb?utm_source=scs-index#scrollTo=P-H6Lw1vyNNd)\n",
    "- [Overview of Colaboratory Features](https://colab.research.google.com/notebooks/basic_features_overview.ipynb#scrollTo=Id6tDF1HQSHD)\n",
    "\n"
   ]
  },
  {
   "cell_type": "code",
   "execution_count": null,
   "metadata": {
    "id": "-XrnxXKwc3Op"
   },
   "outputs": [],
   "source": []
  }
 ],
 "metadata": {
  "colab": {
   "provenance": []
  },
  "kernelspec": {
   "display_name": "Python 3 (ipykernel)",
   "language": "python",
   "name": "python3"
  },
  "language_info": {
   "codemirror_mode": {
    "name": "ipython",
    "version": 3
   },
   "file_extension": ".py",
   "mimetype": "text/x-python",
   "name": "python",
   "nbconvert_exporter": "python",
   "pygments_lexer": "ipython3",
   "version": "3.10.12"
  }
 },
 "nbformat": 4,
 "nbformat_minor": 4
}
