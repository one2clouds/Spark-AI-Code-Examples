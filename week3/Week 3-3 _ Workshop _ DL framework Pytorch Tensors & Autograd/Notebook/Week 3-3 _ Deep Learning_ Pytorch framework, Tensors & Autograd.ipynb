{
 "cells": [
  {
   "cell_type": "markdown",
   "metadata": {
    "id": "2_2LSpo9gXQC"
   },
   "source": [
    "# **Pytorch Tensors & Autograd**\n",
    "Author: **Sebastien Quetin**\n",
    "## Why do we need Tensors and Autograd in Deep Learning?\n",
    "\n",
    "## What is a tensor ? \n",
    "*   Tensor definition\n",
    "*   Difference between tensors and classical numpy arrays\n",
    "\n",
    "\n",
    "---\n",
    "\n",
    "\n",
    "---\n",
    "\n",
    "\n",
    "\n",
    "## What is Autograd ? \n",
    "\n",
    "*   What does it do? \n",
    "*   How do we make use of it?  \n",
    "*   Why is it so powerful?\n"
   ]
  },
  {
   "cell_type": "markdown",
   "metadata": {
    "id": "hGXrLrO6vDrx"
   },
   "source": [
    "Please **copy this notebook** on your own drive before running it!\n",
    "Also, this google colab needs to have GPU accelerator available. You can go to Edit -> Notebook settings and select GPU as hardware accelerator."
   ]
  },
  {
   "cell_type": "markdown",
   "metadata": {
    "id": "xgZTtiS8NL8w"
   },
   "source": [
    "Installing torchviz since it is not installed by default like torch."
   ]
  },
  {
   "cell_type": "code",
   "execution_count": null,
   "metadata": {
    "colab": {
     "base_uri": "https://localhost:8080/"
    },
    "executionInfo": {
     "elapsed": 8805,
     "status": "ok",
     "timestamp": 1656513763353,
     "user": {
      "displayName": "McGill McMedHacks",
      "userId": "14621413533534576587"
     },
     "user_tz": 240
    },
    "id": "AQOmur-uNIzz",
    "outputId": "755f6f93-3d72-4755-e106-c688f3a6041f"
   },
   "outputs": [
    {
     "name": "stdout",
     "output_type": "stream",
     "text": [
      "Looking in indexes: https://pypi.org/simple, https://us-python.pkg.dev/colab-wheels/public/simple/\n",
      "Collecting torchviz\n",
      "  Downloading torchviz-0.0.2.tar.gz (4.9 kB)\n",
      "Requirement already satisfied: torch in /usr/local/lib/python3.7/dist-packages (from torchviz) (1.11.0+cu113)\n",
      "Requirement already satisfied: graphviz in /usr/local/lib/python3.7/dist-packages (from torchviz) (0.10.1)\n",
      "Requirement already satisfied: typing-extensions in /usr/local/lib/python3.7/dist-packages (from torch->torchviz) (4.1.1)\n",
      "Building wheels for collected packages: torchviz\n",
      "  Building wheel for torchviz (setup.py) ... \u001b[?25l\u001b[?25hdone\n",
      "  Created wheel for torchviz: filename=torchviz-0.0.2-py3-none-any.whl size=4150 sha256=f70ddd2607e62d91c0530c1cce0cd465e93aa481f7aec848b686f2305d583fa9\n",
      "  Stored in directory: /root/.cache/pip/wheels/04/38/f5/dc4f85c3909051823df49901e72015d2d750bd26b086480ec2\n",
      "Successfully built torchviz\n",
      "Installing collected packages: torchviz\n",
      "Successfully installed torchviz-0.0.2\n"
     ]
    }
   ],
   "source": [
    "!pip install torchviz "
   ]
  },
  {
   "cell_type": "markdown",
   "metadata": {
    "id": "8xHcrwiVhSuG"
   },
   "source": [
    "## Tensors"
   ]
  },
  {
   "cell_type": "markdown",
   "metadata": {
    "id": "h-qs4BC1a_bh"
   },
   "source": [
    "### What is a Tensor? "
   ]
  },
  {
   "cell_type": "markdown",
   "metadata": {
    "id": "HU5FU3N0RigT"
   },
   "source": [
    "[Torch definition](https://pytorch.org/docs/stable/tensors.html): A torch.Tensor is a multi-dimensional matrix containing elements of a **single** data type. \\\n",
    "\n",
    "[Tensorflow definition](https://www.tensorflow.org/api_docs/python/tf/Tensor): A tf.Tensor represents a multidimensional array of elements.\n"
   ]
  },
  {
   "cell_type": "markdown",
   "metadata": {
    "id": "qCuEMFgZcecI"
   },
   "source": [
    "A tensor (tensorflow or pytorch) can be assimilated to an enhanced version of a Numpy array. The two main things tensors have that numpy arrays don't are :\n",
    "\n",
    "*   Graph  \n",
    "*   Device\n",
    "\n",
    "Graphs will keep track of all the composed functions for derivatives/gradients computations and devices can be manually set by the programmer to accelerate his/her Deep Learning training.\n",
    "\n"
   ]
  },
  {
   "cell_type": "code",
   "execution_count": null,
   "metadata": {
    "colab": {
     "base_uri": "https://localhost:8080/"
    },
    "executionInfo": {
     "elapsed": 3038,
     "status": "ok",
     "timestamp": 1656513835189,
     "user": {
      "displayName": "McGill McMedHacks",
      "userId": "14621413533534576587"
     },
     "user_tz": 240
    },
    "id": "9DOmcLeXRktS",
    "outputId": "6d6c6ad4-ec36-4eb5-ada8-f357f811e27d"
   },
   "outputs": [
    {
     "name": "stdout",
     "output_type": "stream",
     "text": [
      "1.11.0+cu113\n"
     ]
    }
   ],
   "source": [
    "import torch \n",
    "import numpy as np\n",
    "print(torch.__version__)"
   ]
  },
  {
   "cell_type": "markdown",
   "metadata": {
    "id": "4OUSy8ZiNqUA"
   },
   "source": [
    "You can create a tensor for a list or list of lists. "
   ]
  },
  {
   "cell_type": "code",
   "execution_count": null,
   "metadata": {
    "colab": {
     "base_uri": "https://localhost:8080/"
    },
    "executionInfo": {
     "elapsed": 130,
     "status": "ok",
     "timestamp": 1656513885397,
     "user": {
      "displayName": "McGill McMedHacks",
      "userId": "14621413533534576587"
     },
     "user_tz": 240
    },
    "id": "6AwwatedicQs",
    "outputId": "fd71b11b-3847-43fe-a605-db1fde8db283"
   },
   "outputs": [
    {
     "name": "stdout",
     "output_type": "stream",
     "text": [
      "tensor([[ 1., -1.],\n",
      "        [ 1., -1.]])\n"
     ]
    }
   ],
   "source": [
    "x = torch.tensor([[1., -1.], [1., -1.]])\n",
    "print(x)"
   ]
  },
  {
   "cell_type": "markdown",
   "metadata": {
    "id": "VbVWhK0UNxnj"
   },
   "source": [
    "You can create a Tensor from a Numpy array. "
   ]
  },
  {
   "cell_type": "code",
   "execution_count": null,
   "metadata": {
    "colab": {
     "base_uri": "https://localhost:8080/"
    },
    "executionInfo": {
     "elapsed": 186,
     "status": "ok",
     "timestamp": 1656513922303,
     "user": {
      "displayName": "McGill McMedHacks",
      "userId": "14621413533534576587"
     },
     "user_tz": 240
    },
    "id": "OdBWwNc0i0cO",
    "outputId": "c118f86c-63ee-4a7b-9abf-df4e1eb6e629"
   },
   "outputs": [
    {
     "name": "stdout",
     "output_type": "stream",
     "text": [
      "tensor([[1, 2, 3],\n",
      "        [4, 5, 6]])\n"
     ]
    }
   ],
   "source": [
    "x= torch.tensor(np.array([[1, 2, 3], [4, 5, 6]]))\n",
    "print(x)\n"
   ]
  },
  {
   "cell_type": "code",
   "execution_count": null,
   "metadata": {
    "colab": {
     "base_uri": "https://localhost:8080/"
    },
    "executionInfo": {
     "elapsed": 446,
     "status": "ok",
     "timestamp": 1656513935851,
     "user": {
      "displayName": "McGill McMedHacks",
      "userId": "14621413533534576587"
     },
     "user_tz": 240
    },
    "id": "5CD7urV9O1A5",
    "outputId": "bf361cf9-1f68-4a73-e793-5aa2c1afdd46"
   },
   "outputs": [
    {
     "name": "stdout",
     "output_type": "stream",
     "text": [
      "The object x is of type :  <class 'torch.Tensor'>\n",
      "Its type on the CPU is :  torch.LongTensor\n",
      "On the GPU in general you would just add the cuda keyword, it would be :  torch.cuda.LongTensor\n",
      "It contains elemnts of type :  torch.int64\n"
     ]
    }
   ],
   "source": [
    "print(\"The object x is of type : \",type(x))\n",
    "print(\"Its type on the CPU is : \",x.type())\n",
    "print(\"On the GPU in general you would just add the cuda keyword, it would be : \",x.type().split('.')[0]+'.cuda.'+x.type().split('.')[1])\n",
    "print(\"It contains elemnts of type : \",x.dtype)"
   ]
  },
  {
   "cell_type": "markdown",
   "metadata": {
    "id": "rmVfd3pnQuok"
   },
   "source": [
    "You can create torch tensor of numerical types like signed, unsigned integer, float, of any precision, complex numbers and boolean. You can not create a tensor of strings. You can see the available datatypes [here](https://pytorch.org/docs/stable/tensors.html)"
   ]
  },
  {
   "cell_type": "markdown",
   "metadata": {
    "id": "439efZr5N-h0"
   },
   "source": [
    "You can specify its type. If not specified, it reads the type of the input and builds a 64 digits precision version of it : "
   ]
  },
  {
   "cell_type": "code",
   "execution_count": null,
   "metadata": {
    "colab": {
     "base_uri": "https://localhost:8080/"
    },
    "executionInfo": {
     "elapsed": 130,
     "status": "ok",
     "timestamp": 1656514062114,
     "user": {
      "displayName": "McGill McMedHacks",
      "userId": "14621413533534576587"
     },
     "user_tz": 240
    },
    "id": "gb8vW83ajNu0",
    "outputId": "acec4cc8-e5d2-4858-f88b-ea99037ed3b9"
   },
   "outputs": [
    {
     "name": "stdout",
     "output_type": "stream",
     "text": [
      "tensor([[1., 2., 3.],\n",
      "        [4., 5., 6.]], dtype=torch.float64)\n"
     ]
    }
   ],
   "source": [
    "x = torch.tensor([[1, 2, 3], [4, 5, 6]], dtype=float)\n",
    "print(x)"
   ]
  },
  {
   "cell_type": "markdown",
   "metadata": {
    "id": "nSRrd_CVaRlE"
   },
   "source": [
    "You can also get a specific index of your tensors like for arrays and it is still going to be a tensor."
   ]
  },
  {
   "cell_type": "code",
   "execution_count": null,
   "metadata": {
    "colab": {
     "base_uri": "https://localhost:8080/"
    },
    "executionInfo": {
     "elapsed": 127,
     "status": "ok",
     "timestamp": 1656514080853,
     "user": {
      "displayName": "McGill McMedHacks",
      "userId": "14621413533534576587"
     },
     "user_tz": 240
    },
    "id": "P9F5x_oVRkll",
    "outputId": "d3fe2ecb-59b3-4ace-91ba-c21073e95df6"
   },
   "outputs": [
    {
     "name": "stdout",
     "output_type": "stream",
     "text": [
      "tensor(6.)\n",
      "torch.float32\n"
     ]
    }
   ],
   "source": [
    "x = torch.tensor([[1, 2, 3], [4, 5, 6]], dtype=torch.float32)\n",
    "print(x[1][2])\n",
    "\n",
    "print(x[1][2].dtype)"
   ]
  },
  {
   "cell_type": "markdown",
   "metadata": {
    "id": "k3ehTrGDhGQr"
   },
   "source": [
    "### Common torch functions"
   ]
  },
  {
   "cell_type": "markdown",
   "metadata": {
    "id": "E94IQjpublZ5"
   },
   "source": [
    "There is a strong link with numpy. You can transfer very easily between these two libraries."
   ]
  },
  {
   "cell_type": "code",
   "execution_count": null,
   "metadata": {
    "colab": {
     "base_uri": "https://localhost:8080/"
    },
    "executionInfo": {
     "elapsed": 5,
     "status": "ok",
     "timestamp": 1656514174883,
     "user": {
      "displayName": "McGill McMedHacks",
      "userId": "14621413533534576587"
     },
     "user_tz": 240
    },
    "id": "hcu5LcFQbkwi",
    "outputId": "f4a80cb1-5150-4b09-a444-369f2da65ae4"
   },
   "outputs": [
    {
     "name": "stdout",
     "output_type": "stream",
     "text": [
      "Here is my numpy array :  [[1. 2. 3.]\n",
      " [4. 5. 6.]]  of type  <class 'numpy.ndarray'>\n",
      "=====================================\n",
      "Here is my tensor created from a numpy object :  tensor([[ 2, 89],\n",
      "        [66, 13]])\n"
     ]
    }
   ],
   "source": [
    "numpy_x = x.numpy()\n",
    "print(\"Here is my numpy array : \", numpy_x, \" of type \" , type(numpy_x))\n",
    "print(\"=====================================\")\n",
    "npy_array = np.array([[2,89],[66,13]])\n",
    "tsr = torch.from_numpy(npy_array)\n",
    "print(\"Here is my tensor created from a numpy object : \", tsr)"
   ]
  },
  {
   "cell_type": "code",
   "execution_count": null,
   "metadata": {
    "colab": {
     "base_uri": "https://localhost:8080/"
    },
    "executionInfo": {
     "elapsed": 151,
     "status": "ok",
     "timestamp": 1656514188519,
     "user": {
      "displayName": "McGill McMedHacks",
      "userId": "14621413533534576587"
     },
     "user_tz": 240
    },
    "id": "uyMZLpFjSLJ9",
    "outputId": "de1c7298-cbd0-4461-806e-8ae02ee63c25"
   },
   "outputs": [
    {
     "name": "stdout",
     "output_type": "stream",
     "text": [
      "max value of the tensor :  tensor(6.)\n",
      "min value of the tensor :  tensor(1.)\n",
      "mean value of the tensor :  tensor(3.5000)\n",
      "standard deviation value of the tensor :  tensor(1.8708)\n",
      "Sum of the values of the tensor :  tensor(21.)\n"
     ]
    }
   ],
   "source": [
    "print(\"max value of the tensor : \", x.max())\n",
    "print(\"min value of the tensor : \", x.min())\n",
    "print(\"mean value of the tensor : \", x.mean())\n",
    "print(\"standard deviation value of the tensor : \", x.std())\n",
    "print(\"Sum of the values of the tensor : \", x.sum())"
   ]
  },
  {
   "cell_type": "code",
   "execution_count": null,
   "metadata": {
    "colab": {
     "base_uri": "https://localhost:8080/"
    },
    "executionInfo": {
     "elapsed": 130,
     "status": "ok",
     "timestamp": 1656514225015,
     "user": {
      "displayName": "McGill McMedHacks",
      "userId": "14621413533534576587"
     },
     "user_tz": 240
    },
    "id": "4w9Ku8QoePxA",
    "outputId": "3bf30316-4475-40b6-9b1c-75898ed35715"
   },
   "outputs": [
    {
     "data": {
      "text/plain": [
       "tensor([[2., 3., 4.],\n",
       "        [5., 6., 7.]])"
      ]
     },
     "execution_count": 11,
     "metadata": {},
     "output_type": "execute_result"
    }
   ],
   "source": [
    "x + 1"
   ]
  },
  {
   "cell_type": "code",
   "execution_count": null,
   "metadata": {
    "colab": {
     "base_uri": "https://localhost:8080/"
    },
    "executionInfo": {
     "elapsed": 143,
     "status": "ok",
     "timestamp": 1656514288715,
     "user": {
      "displayName": "McGill McMedHacks",
      "userId": "14621413533534576587"
     },
     "user_tz": 240
    },
    "id": "ArriUo1clhzL",
    "outputId": "1695e4ab-7e64-48df-df36-a9baf5927f95"
   },
   "outputs": [
    {
     "data": {
      "text/plain": [
       "tensor([[2., 3., 4.],\n",
       "        [5., 6., 7.]])"
      ]
     },
     "execution_count": 12,
     "metadata": {},
     "output_type": "execute_result"
    }
   ],
   "source": [
    "x.add(1) # do not change the value pof x compared to x.add_(1) which is an inplace operation"
   ]
  },
  {
   "cell_type": "code",
   "execution_count": null,
   "metadata": {
    "colab": {
     "base_uri": "https://localhost:8080/"
    },
    "executionInfo": {
     "elapsed": 118,
     "status": "ok",
     "timestamp": 1656514291441,
     "user": {
      "displayName": "McGill McMedHacks",
      "userId": "14621413533534576587"
     },
     "user_tz": 240
    },
    "id": "qs9tUe0uSdyd",
    "outputId": "f6186f95-c8ba-47fc-be20-2c5730bfbead"
   },
   "outputs": [
    {
     "data": {
      "text/plain": [
       "tensor([[0.1667, 0.3333, 0.5000],\n",
       "        [0.6667, 0.8333, 1.0000]])"
      ]
     },
     "execution_count": 13,
     "metadata": {},
     "output_type": "execute_result"
    }
   ],
   "source": [
    "x/6"
   ]
  },
  {
   "cell_type": "code",
   "execution_count": null,
   "metadata": {
    "colab": {
     "base_uri": "https://localhost:8080/"
    },
    "executionInfo": {
     "elapsed": 150,
     "status": "ok",
     "timestamp": 1656514292304,
     "user": {
      "displayName": "McGill McMedHacks",
      "userId": "14621413533534576587"
     },
     "user_tz": 240
    },
    "id": "RYZ0Od2NShWB",
    "outputId": "d8fe433e-7ea9-497a-e837-6df46176724f"
   },
   "outputs": [
    {
     "data": {
      "text/plain": [
       "tensor([[0.1667, 0.3333, 0.5000],\n",
       "        [0.6667, 0.8333, 1.0000]])"
      ]
     },
     "execution_count": 14,
     "metadata": {},
     "output_type": "execute_result"
    }
   ],
   "source": [
    "torch.div(x,6)"
   ]
  },
  {
   "cell_type": "markdown",
   "metadata": {
    "id": "-CA2sGJ_TxEw"
   },
   "source": [
    "It is equivalent to true division in Python (the / operator) and NumPy’s np.true_divide, we can check that the python true division gives the same results : "
   ]
  },
  {
   "cell_type": "code",
   "execution_count": null,
   "metadata": {
    "colab": {
     "base_uri": "https://localhost:8080/"
    },
    "executionInfo": {
     "elapsed": 186,
     "status": "ok",
     "timestamp": 1656514303130,
     "user": {
      "displayName": "McGill McMedHacks",
      "userId": "14621413533534576587"
     },
     "user_tz": 240
    },
    "id": "y5vuKfhtSlJ7",
    "outputId": "9f99d61c-6993-4a7b-8239-deb8ea5a9231"
   },
   "outputs": [
    {
     "data": {
      "text/plain": [
       "tensor([[True, True, True],\n",
       "        [True, True, True]])"
      ]
     },
     "execution_count": 15,
     "metadata": {},
     "output_type": "execute_result"
    }
   ],
   "source": [
    "torch.div(x,6) == x/6"
   ]
  },
  {
   "cell_type": "markdown",
   "metadata": {
    "id": "KZIubIKuT9GR"
   },
   "source": [
    "The == sign will do an element-wise comparison, same as [torch.eq](https://pytorch.org/docs/stable/generated/torch.eq.html?highlight=eq#torch.eq) . You can find all the comparison operators [here](https://pytorch.org/docs/stable/torch.html#comparison-ops)"
   ]
  },
  {
   "cell_type": "code",
   "execution_count": null,
   "metadata": {
    "colab": {
     "base_uri": "https://localhost:8080/"
    },
    "executionInfo": {
     "elapsed": 120,
     "status": "ok",
     "timestamp": 1656514323692,
     "user": {
      "displayName": "McGill McMedHacks",
      "userId": "14621413533534576587"
     },
     "user_tz": 240
    },
    "id": "Vm5BixQqTuR6",
    "outputId": "f462ea77-d1c7-4209-88c4-d636eaf19a2d"
   },
   "outputs": [
    {
     "data": {
      "text/plain": [
       "tensor([[True, True, True],\n",
       "        [True, True, True]])"
      ]
     },
     "execution_count": 16,
     "metadata": {},
     "output_type": "execute_result"
    }
   ],
   "source": [
    "torch.eq(torch.div(x,6), x/6)"
   ]
  },
  {
   "cell_type": "markdown",
   "metadata": {
    "id": "z7F_zrMBT45b"
   },
   "source": [
    "We can also directly compare the tensors with [torch.equal](https://pytorch.org/docs/stable/generated/torch.equal.html?highlight=equal#torch.equal)"
   ]
  },
  {
   "cell_type": "code",
   "execution_count": null,
   "metadata": {
    "colab": {
     "base_uri": "https://localhost:8080/"
    },
    "executionInfo": {
     "elapsed": 114,
     "status": "ok",
     "timestamp": 1656514336599,
     "user": {
      "displayName": "McGill McMedHacks",
      "userId": "14621413533534576587"
     },
     "user_tz": 240
    },
    "id": "dgbdOterTkz0",
    "outputId": "a019dec3-862d-4bba-ac44-2ba31b9199ca"
   },
   "outputs": [
    {
     "data": {
      "text/plain": [
       "True"
      ]
     },
     "execution_count": 17,
     "metadata": {},
     "output_type": "execute_result"
    }
   ],
   "source": [
    "torch.equal(torch.div(x,6), x/6)"
   ]
  },
  {
   "cell_type": "code",
   "execution_count": null,
   "metadata": {
    "colab": {
     "base_uri": "https://localhost:8080/"
    },
    "executionInfo": {
     "elapsed": 118,
     "status": "ok",
     "timestamp": 1656514347004,
     "user": {
      "displayName": "McGill McMedHacks",
      "userId": "14621413533534576587"
     },
     "user_tz": 240
    },
    "id": "ZnqaeKqVVL_x",
    "outputId": "cb65e286-bf15-4168-e677-8e648ac311d2"
   },
   "outputs": [
    {
     "name": "stdout",
     "output_type": "stream",
     "text": [
      "torch.Size([2, 3])\n",
      "torch.Size([2, 3])\n"
     ]
    }
   ],
   "source": [
    "print(x.size())\n",
    "print(x.shape)"
   ]
  },
  {
   "cell_type": "markdown",
   "metadata": {
    "id": "6UW1FMNQS2Bv"
   },
   "source": [
    "If you look at the [description](https://pytorch.org/docs/stable/generated/torch.div.html#torch.div) of the div function you can see that it supports broadcasting to a common shape, type promotion, and integer, float, and complex inputs.  "
   ]
  },
  {
   "cell_type": "code",
   "execution_count": null,
   "metadata": {
    "colab": {
     "base_uri": "https://localhost:8080/"
    },
    "executionInfo": {
     "elapsed": 121,
     "status": "ok",
     "timestamp": 1656514371882,
     "user": {
      "displayName": "McGill McMedHacks",
      "userId": "14621413533534576587"
     },
     "user_tz": 240
    },
    "id": "yP4yKk3yUi_-",
    "outputId": "cc90d195-cf0f-4da4-b4a9-cdafbea2558a"
   },
   "outputs": [
    {
     "name": "stdout",
     "output_type": "stream",
     "text": [
      "Torch will match the dimensions of the operands for the division\n",
      "tensor([[1.0000, 2.0000, 3.0000],\n",
      "        [2.0000, 2.5000, 3.0000]])\n",
      "================================\n",
      "tensor([[1.0000, 1.0000, 1.0000],\n",
      "        [4.0000, 2.5000, 2.0000]])\n"
     ]
    }
   ],
   "source": [
    "print(\"Torch will match the dimensions of the operands for the division\")\n",
    "print(x / torch.tensor([[1],[2]]))\n",
    "print(\"================================\")\n",
    "print(x / torch.tensor([[1,2,3]]))\n"
   ]
  },
  {
   "cell_type": "code",
   "execution_count": null,
   "metadata": {
    "colab": {
     "base_uri": "https://localhost:8080/"
    },
    "executionInfo": {
     "elapsed": 114,
     "status": "ok",
     "timestamp": 1656514477113,
     "user": {
      "displayName": "McGill McMedHacks",
      "userId": "14621413533534576587"
     },
     "user_tz": 240
    },
    "id": "R6PmlrzTZX5o",
    "outputId": "ab126f65-5f1b-4500-abe6-50e0e195b414"
   },
   "outputs": [
    {
     "name": "stdout",
     "output_type": "stream",
     "text": [
      "You can flatten as with numpy :  tensor([1., 2., 3., 4., 5., 6.])\n",
      "================================\n",
      "Reshape as with numpy :  tensor([[1., 2.],\n",
      "        [3., 4.],\n",
      "        [5., 6.]])\n",
      "================================\n",
      "Create similar object as with numpy : \n",
      "With zeros :  tensor([[0., 0., 0.],\n",
      "        [0., 0., 0.]])\n",
      "Random numbers :  tensor([[ 0.8267,  0.6344, -1.1585],\n",
      "        [-0.0357,  1.0337,  0.5032]])\n"
     ]
    }
   ],
   "source": [
    "print(\"You can flatten as with numpy : \", x.flatten())\n",
    "print(\"================================\")\n",
    "print(\"Reshape as with numpy : \", x.reshape((-1,2)))\n",
    "print(\"================================\")\n",
    "print(\"Create similar object as with numpy : \")\n",
    "print(\"With zeros : \", torch.zeros_like(x))\n",
    "print(\"Random numbers : \",torch.randn_like(x))"
   ]
  },
  {
   "cell_type": "code",
   "execution_count": null,
   "metadata": {
    "colab": {
     "base_uri": "https://localhost:8080/"
    },
    "executionInfo": {
     "elapsed": 126,
     "status": "ok",
     "timestamp": 1656514566467,
     "user": {
      "displayName": "McGill McMedHacks",
      "userId": "14621413533534576587"
     },
     "user_tz": 240
    },
    "id": "m6OtTyxZgMp8",
    "outputId": "e82d6c17-b69f-4093-982b-f78bc1291dcc"
   },
   "outputs": [
    {
     "name": "stdout",
     "output_type": "stream",
     "text": [
      "tensor([[ 1.3013,  0.1544,  0.0739],\n",
      "        [-0.5824, -0.6963,  0.0079]])\n",
      "=========================\n",
      "tensor([[ 1.3013, -0.5824],\n",
      "        [ 0.1544, -0.6963],\n",
      "        [ 0.0739,  0.0079]])\n",
      "=========================\n",
      "tensor([[ 1.3013, -0.5824],\n",
      "        [ 0.1544, -0.6963],\n",
      "        [ 0.0739,  0.0079]])\n"
     ]
    }
   ],
   "source": [
    "w = torch.randn(2, 3)\n",
    "print(w)\n",
    "print(\"=========================\")\n",
    "print(w.transpose(0,1)) # you need to pass the dimensions to be transposed because tensors can have more than 2 dimensions!\n",
    "print(\"=========================\")\n",
    "print(w.T) "
   ]
  },
  {
   "cell_type": "code",
   "execution_count": null,
   "metadata": {
    "colab": {
     "base_uri": "https://localhost:8080/"
    },
    "executionInfo": {
     "elapsed": 162,
     "status": "ok",
     "timestamp": 1656514610867,
     "user": {
      "displayName": "McGill McMedHacks",
      "userId": "14621413533534576587"
     },
     "user_tz": 240
    },
    "id": "bOC7Qswmlych",
    "outputId": "797d3c46-4b7d-4030-eb76-d0968d427ea1"
   },
   "outputs": [
    {
     "name": "stdout",
     "output_type": "stream",
     "text": [
      "Matrix multiplication  tensor([[14., 32.],\n",
      "        [32., 77.]])\n",
      "================================\n",
      "Matrix multiplication  tensor([[14., 32.],\n",
      "        [32., 77.]])\n",
      "================================\n",
      "Element wize multiplication  tensor([[ 1.,  4.,  9.],\n",
      "        [16., 25., 36.]])\n",
      "================================\n",
      "Element wize multiplication  tensor([[10., 20., 30.],\n",
      "        [40., 50., 60.]])\n"
     ]
    }
   ],
   "source": [
    "y1 = x @ x.T \n",
    "print(\"Matrix multiplication \" ,y1)\n",
    "print(\"================================\")\n",
    "y2 = x.matmul(x.T) \n",
    "print(\"Matrix multiplication \" , y2)\n",
    "print(\"================================\")\n",
    "y3 = x * x \n",
    "print(\"Element wize multiplication \", y3)\n",
    "print(\"================================\")\n",
    "y4 = x * 10 \n",
    "print(\"Element wize multiplication \", y4)"
   ]
  },
  {
   "cell_type": "code",
   "execution_count": null,
   "metadata": {
    "colab": {
     "base_uri": "https://localhost:8080/"
    },
    "executionInfo": {
     "elapsed": 234,
     "status": "ok",
     "timestamp": 1656514645892,
     "user": {
      "displayName": "McGill McMedHacks",
      "userId": "14621413533534576587"
     },
     "user_tz": 240
    },
    "id": "-cchJaPqca37",
    "outputId": "46a9f4ac-7dfb-4fd3-cb18-d461dda69fae"
   },
   "outputs": [
    {
     "name": "stdout",
     "output_type": "stream",
     "text": [
      "Element wise power operation tensor([[ 1.,  4.,  9.],\n",
      "        [16., 25., 36.]])\n",
      "Element wise power operation tensor([[1.0000e+00, 1.6000e+01, 8.1000e+01],\n",
      "        [2.5600e+02, 6.2500e+02, 1.2960e+03]])\n"
     ]
    }
   ],
   "source": [
    "y = torch.pow(x,2)\n",
    "print(\"Element wise power operation\", y)\n",
    "y = torch.pow(x,4)\n",
    "print(\"Element wise power operation\", y)"
   ]
  },
  {
   "cell_type": "code",
   "execution_count": null,
   "metadata": {
    "colab": {
     "base_uri": "https://localhost:8080/"
    },
    "executionInfo": {
     "elapsed": 126,
     "status": "ok",
     "timestamp": 1656514667223,
     "user": {
      "displayName": "McGill McMedHacks",
      "userId": "14621413533534576587"
     },
     "user_tz": 240
    },
    "id": "GMo2bxOlmg2T",
    "outputId": "f3d2a2fe-05ab-4058-975c-63215ea1d59e"
   },
   "outputs": [
    {
     "name": "stdout",
     "output_type": "stream",
     "text": [
      "It can broadcast for any operation  tensor([[ 6., 12., 18.],\n",
      "        [ 9., 15., 21.]])\n",
      "Or adding element wise  tensor([[ 6.,  7.,  8.],\n",
      "        [ 9., 10., 11.]])\n"
     ]
    }
   ],
   "source": [
    "print(\"It can broadcast for any operation \" , torch.add(x, torch.tensor([[5,10,15]]))) # same as with x + torch.tensor()\n",
    "print(\"Or adding element wise \" , torch.add(x, torch.tensor([5]))) # same as with x + torch.tensor()"
   ]
  },
  {
   "cell_type": "markdown",
   "metadata": {
    "id": "Uo91l4TThtwK"
   },
   "source": [
    "Copying tensors with clone"
   ]
  },
  {
   "cell_type": "code",
   "execution_count": null,
   "metadata": {
    "id": "D-5hihkmLBsK"
   },
   "outputs": [],
   "source": [
    "y = x"
   ]
  },
  {
   "cell_type": "code",
   "execution_count": null,
   "metadata": {
    "colab": {
     "base_uri": "https://localhost:8080/"
    },
    "executionInfo": {
     "elapsed": 139,
     "status": "ok",
     "timestamp": 1656514713195,
     "user": {
      "displayName": "McGill McMedHacks",
      "userId": "14621413533534576587"
     },
     "user_tz": 240
    },
    "id": "RBXlMooZhgxJ",
    "outputId": "4219284b-2745-47f9-b358-61cb1aa19faf"
   },
   "outputs": [
    {
     "data": {
      "text/plain": [
       "tensor([[1., 2., 3.],\n",
       "        [4., 5., 6.]])"
      ]
     },
     "execution_count": 27,
     "metadata": {},
     "output_type": "execute_result"
    }
   ],
   "source": [
    "x.clone()"
   ]
  },
  {
   "cell_type": "markdown",
   "metadata": {
    "id": "FF9CluKqiiqc"
   },
   "source": [
    "[view](https://pytorch.org/docs/stable/generated/torch.Tensor.view.html?highlight=view#torch.Tensor.view) can be used to copy a tensor data but with different shape or data type (be careful with the data type casting of view! If you want to cast use .to() instead)"
   ]
  },
  {
   "cell_type": "code",
   "execution_count": null,
   "metadata": {
    "colab": {
     "base_uri": "https://localhost:8080/"
    },
    "executionInfo": {
     "elapsed": 190,
     "status": "ok",
     "timestamp": 1656514759312,
     "user": {
      "displayName": "McGill McMedHacks",
      "userId": "14621413533534576587"
     },
     "user_tz": 240
    },
    "id": "wo7s1bXYih75",
    "outputId": "1f9d7b57-78b7-4f61-f07d-c902a76d6e26"
   },
   "outputs": [
    {
     "data": {
      "text/plain": [
       "tensor([[1., 2.],\n",
       "        [3., 4.],\n",
       "        [5., 6.]])"
      ]
     },
     "execution_count": 28,
     "metadata": {},
     "output_type": "execute_result"
    }
   ],
   "source": [
    "y = x.view(3,2)\n",
    "y\n"
   ]
  },
  {
   "cell_type": "code",
   "execution_count": null,
   "metadata": {
    "colab": {
     "base_uri": "https://localhost:8080/"
    },
    "executionInfo": {
     "elapsed": 3,
     "status": "ok",
     "timestamp": 1656514759444,
     "user": {
      "displayName": "McGill McMedHacks",
      "userId": "14621413533534576587"
     },
     "user_tz": 240
    },
    "id": "S-yAvGL6kRmJ",
    "outputId": "a47928e3-a2eb-4a61-9949-fad58603391a"
   },
   "outputs": [
    {
     "data": {
      "text/plain": [
       "tensor([[1, 2, 3],\n",
       "        [4, 5, 6]], dtype=torch.int32)"
      ]
     },
     "execution_count": 29,
     "metadata": {},
     "output_type": "execute_result"
    }
   ],
   "source": [
    "x.to(torch.int32)"
   ]
  },
  {
   "cell_type": "code",
   "execution_count": null,
   "metadata": {
    "colab": {
     "base_uri": "https://localhost:8080/"
    },
    "executionInfo": {
     "elapsed": 119,
     "status": "ok",
     "timestamp": 1656514785592,
     "user": {
      "displayName": "McGill McMedHacks",
      "userId": "14621413533534576587"
     },
     "user_tz": 240
    },
    "id": "Y23rmgDKjpx6",
    "outputId": "723c4605-9672-492c-eb1e-dc534a2cc913"
   },
   "outputs": [
    {
     "data": {
      "text/plain": [
       "tensor([[[ 1.,  2.,  3.],\n",
       "         [ 4.,  5.,  6.]],\n",
       "\n",
       "        [[58., 59., 60.],\n",
       "         [ 7.,  7.,  7.]]])"
      ]
     },
     "execution_count": 30,
     "metadata": {},
     "output_type": "execute_result"
    }
   ],
   "source": [
    "z = torch.tensor([[58,59,60],[7,7,7]])\n",
    "torch.stack([x,z])"
   ]
  },
  {
   "cell_type": "markdown",
   "metadata": {
    "id": "ZPffRzlPmhd2"
   },
   "source": [
    "###  Managing device "
   ]
  },
  {
   "cell_type": "markdown",
   "metadata": {
    "id": "_TCx2mQId_-4"
   },
   "source": [
    "Why would we need other devices for our python programs ? Deep Learning computations can be accelerated with the use of GPUs (Graphics Proces Units). Generally CUDA-capable GPUs will provide a speed gain in computations. You might not see a very big difference over a single computation but as Neural Network training are done with loops, the speed gain will quickly get huge. "
   ]
  },
  {
   "cell_type": "markdown",
   "metadata": {
    "id": "K_s27zAAcFC_"
   },
   "source": [
    "**What is CUDA ?**  \\\n",
    "CUDA® is a parallel computing platform and programming model that enables dramatic increases in computing performance by harnessing the power of the graphics processing unit (GPU). See this link for more [resources on CUDA](https://developer.nvidia.com/cuda-faq)"
   ]
  },
  {
   "cell_type": "markdown",
   "metadata": {
    "id": "kNqXJ5nx1Jc6"
   },
   "source": [
    "![image.png](data:image/png;base64,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)"
   ]
  },
  {
   "cell_type": "markdown",
   "metadata": {
    "id": "NVXZ2fQRxfhv"
   },
   "source": [
    "Other hardware accelerators can be used like [TPUs](https://cloud.google.com/tpu/docs/tpus?hl=en) but I will only cover the most common accelerators that are CUDA GPUs."
   ]
  },
  {
   "cell_type": "markdown",
   "metadata": {
    "id": "juiIPPRYaA7E"
   },
   "source": [
    "To make your code work with CPU or GPU you can just have a .to(device) call on every tensor you use for your computations and set device value at the beginning of your script."
   ]
  },
  {
   "cell_type": "code",
   "execution_count": null,
   "metadata": {
    "colab": {
     "base_uri": "https://localhost:8080/"
    },
    "executionInfo": {
     "elapsed": 144,
     "status": "ok",
     "timestamp": 1656515011725,
     "user": {
      "displayName": "McGill McMedHacks",
      "userId": "14621413533534576587"
     },
     "user_tz": 240
    },
    "id": "IbILO75Ai3Sp",
    "outputId": "422bb5b6-4331-46b7-93c5-ee073ef87f56"
   },
   "outputs": [
    {
     "name": "stdout",
     "output_type": "stream",
     "text": [
      "We are using a GPU in this notebook.\n"
     ]
    }
   ],
   "source": [
    "IhaveGPU = torch.cuda.is_available()\n",
    "if IhaveGPU:\n",
    "  print(\"We are using a GPU in this notebook.\")\n",
    "  device = \"cuda\"\n",
    "else : \n",
    "  print(\"We are running this notebook with a CPU.\")\n",
    "  device = \"cpu\"\n",
    "\n",
    "#device = torch.device(\"cuda\" if torch.cuda.is_available() else \"cpu\") # one line version"
   ]
  },
  {
   "cell_type": "code",
   "execution_count": null,
   "metadata": {
    "colab": {
     "base_uri": "https://localhost:8080/"
    },
    "executionInfo": {
     "elapsed": 133,
     "status": "ok",
     "timestamp": 1656515125056,
     "user": {
      "displayName": "McGill McMedHacks",
      "userId": "14621413533534576587"
     },
     "user_tz": 240
    },
    "id": "wmAs85XkwYMc",
    "outputId": "37187e00-97a3-4b89-f468-03b96979e166"
   },
   "outputs": [
    {
     "name": "stdout",
     "output_type": "stream",
     "text": [
      "Wed Jun 29 15:05:24 2022       \n",
      "+-----------------------------------------------------------------------------+\n",
      "| NVIDIA-SMI 460.32.03    Driver Version: 460.32.03    CUDA Version: 11.2     |\n",
      "|-------------------------------+----------------------+----------------------+\n",
      "| GPU  Name        Persistence-M| Bus-Id        Disp.A | Volatile Uncorr. ECC |\n",
      "| Fan  Temp  Perf  Pwr:Usage/Cap|         Memory-Usage | GPU-Util  Compute M. |\n",
      "|                               |                      |               MIG M. |\n",
      "|===============================+======================+======================|\n",
      "|   0  Tesla T4            Off  | 00000000:00:04.0 Off |                    0 |\n",
      "| N/A   37C    P8    10W /  70W |      3MiB / 15109MiB |      0%      Default |\n",
      "|                               |                      |                  N/A |\n",
      "+-------------------------------+----------------------+----------------------+\n",
      "                                                                               \n",
      "+-----------------------------------------------------------------------------+\n",
      "| Processes:                                                                  |\n",
      "|  GPU   GI   CI        PID   Type   Process name                  GPU Memory |\n",
      "|        ID   ID                                                   Usage      |\n",
      "|=============================================================================|\n",
      "|  No running processes found                                                 |\n",
      "+-----------------------------------------------------------------------------+\n"
     ]
    }
   ],
   "source": [
    "!nvidia-smi"
   ]
  },
  {
   "cell_type": "code",
   "execution_count": null,
   "metadata": {
    "colab": {
     "base_uri": "https://localhost:8080/"
    },
    "executionInfo": {
     "elapsed": 11863,
     "status": "ok",
     "timestamp": 1656515181613,
     "user": {
      "displayName": "McGill McMedHacks",
      "userId": "14621413533534576587"
     },
     "user_tz": 240
    },
    "id": "1PZjTXlMdj8j",
    "outputId": "bc872dec-0aba-4d28-95f0-9058564b21b6"
   },
   "outputs": [
    {
     "name": "stdout",
     "output_type": "stream",
     "text": [
      "My tensor is located in  cuda:0\n"
     ]
    }
   ],
   "source": [
    "tsr = torch.ones([2, 4], dtype=torch.float64, device=device)\n",
    "print(\"My tensor is located in \" , tsr.device)"
   ]
  },
  {
   "cell_type": "code",
   "execution_count": null,
   "metadata": {
    "colab": {
     "base_uri": "https://localhost:8080/",
     "height": 237
    },
    "executionInfo": {
     "elapsed": 277,
     "status": "error",
     "timestamp": 1656515214356,
     "user": {
      "displayName": "McGill McMedHacks",
      "userId": "14621413533534576587"
     },
     "user_tz": 240
    },
    "id": "EN3frYnZmj1x",
    "outputId": "c12c004b-400b-4c43-8b19-65b4c2b4a762"
   },
   "outputs": [
    {
     "name": "stdout",
     "output_type": "stream",
     "text": [
      "I am summing two tensors from different devices\n"
     ]
    },
    {
     "ename": "RuntimeError",
     "evalue": "ignored",
     "output_type": "error",
     "traceback": [
      "\u001b[0;31m---------------------------------------------------------------------------\u001b[0m",
      "\u001b[0;31mRuntimeError\u001b[0m                              Traceback (most recent call last)",
      "\u001b[0;32m<ipython-input-34-5cd2551b4767>\u001b[0m in \u001b[0;36m<module>\u001b[0;34m()\u001b[0m\n\u001b[1;32m      4\u001b[0m   \u001b[0mtsr_cpu\u001b[0m \u001b[0;34m=\u001b[0m \u001b[0mtorch\u001b[0m\u001b[0;34m.\u001b[0m\u001b[0mones\u001b[0m\u001b[0;34m(\u001b[0m\u001b[0;34m[\u001b[0m\u001b[0;36m2\u001b[0m\u001b[0;34m,\u001b[0m \u001b[0;36m4\u001b[0m\u001b[0;34m]\u001b[0m\u001b[0;34m,\u001b[0m \u001b[0mdtype\u001b[0m\u001b[0;34m=\u001b[0m\u001b[0mtorch\u001b[0m\u001b[0;34m.\u001b[0m\u001b[0mfloat64\u001b[0m\u001b[0;34m,\u001b[0m \u001b[0mdevice\u001b[0m\u001b[0;34m=\u001b[0m\u001b[0;34m\"cpu\"\u001b[0m\u001b[0;34m)\u001b[0m\u001b[0;34m\u001b[0m\u001b[0;34m\u001b[0m\u001b[0m\n\u001b[1;32m      5\u001b[0m   \u001b[0mprint\u001b[0m\u001b[0;34m(\u001b[0m\u001b[0;34m\"I am summing two tensors from different devices\"\u001b[0m\u001b[0;34m)\u001b[0m\u001b[0;34m\u001b[0m\u001b[0;34m\u001b[0m\u001b[0m\n\u001b[0;32m----> 6\u001b[0;31m   \u001b[0mres\u001b[0m \u001b[0;34m=\u001b[0m \u001b[0mtsr_gpu\u001b[0m \u001b[0;34m+\u001b[0m \u001b[0mtsr_cpu\u001b[0m\u001b[0;34m\u001b[0m\u001b[0;34m\u001b[0m\u001b[0m\n\u001b[0m\u001b[1;32m      7\u001b[0m   \u001b[0mprint\u001b[0m\u001b[0;34m(\u001b[0m\u001b[0;34m\"The result is going to be stored in \"\u001b[0m\u001b[0;34m,\u001b[0m \u001b[0mres\u001b[0m\u001b[0;34m.\u001b[0m\u001b[0mdevice\u001b[0m\u001b[0;34m)\u001b[0m\u001b[0;34m\u001b[0m\u001b[0;34m\u001b[0m\u001b[0m\n",
      "\u001b[0;31mRuntimeError\u001b[0m: Expected all tensors to be on the same device, but found at least two devices, cuda:0 and cpu!"
     ]
    }
   ],
   "source": [
    "if IhaveGPU : \n",
    "  cuda0 = torch.device('cuda:0')\n",
    "  tsr_gpu = torch.ones([2, 4], dtype=torch.float64, device=cuda0)\n",
    "  tsr_cpu = torch.ones([2, 4], dtype=torch.float64, device=\"cpu\")\n",
    "  print(\"I am summing two tensors from different devices\")\n",
    "  res = tsr_gpu + tsr_cpu\n",
    "  print(\"The result is going to be stored in \", res.device)\n"
   ]
  },
  {
   "cell_type": "markdown",
   "metadata": {
    "id": "jQNU-C52Tf3Y"
   },
   "source": [
    "Learn more about tensors operations on different devices on this forum [discussion](https://discuss.pytorch.org/t/can-tensors-on-different-devices-add-together/146221)."
   ]
  },
  {
   "cell_type": "markdown",
   "metadata": {
    "id": "N59Tacq5ogAS"
   },
   "source": [
    "When moving a tensor between device, as explained [here](https://discuss.pytorch.org/t/moving-tensor-to-cuda/39318) nn.modules don't need reassignment but tensors do."
   ]
  },
  {
   "cell_type": "code",
   "execution_count": null,
   "metadata": {
    "colab": {
     "base_uri": "https://localhost:8080/"
    },
    "executionInfo": {
     "elapsed": 158,
     "status": "ok",
     "timestamp": 1656515350738,
     "user": {
      "displayName": "McGill McMedHacks",
      "userId": "14621413533534576587"
     },
     "user_tz": 240
    },
    "id": "meezqAZlQYfp",
    "outputId": "81785d6f-28eb-4756-953a-927573c92f8d"
   },
   "outputs": [
    {
     "data": {
      "text/plain": [
       "device(type='cuda', index=0)"
      ]
     },
     "execution_count": 35,
     "metadata": {},
     "output_type": "execute_result"
    }
   ],
   "source": [
    "tsr.cpu() # is equivalent to tsr.to(\"cpu\")\n",
    "tsr.device"
   ]
  },
  {
   "cell_type": "code",
   "execution_count": null,
   "metadata": {
    "colab": {
     "base_uri": "https://localhost:8080/"
    },
    "executionInfo": {
     "elapsed": 169,
     "status": "ok",
     "timestamp": 1656515352143,
     "user": {
      "displayName": "McGill McMedHacks",
      "userId": "14621413533534576587"
     },
     "user_tz": 240
    },
    "id": "nr0pdVZ8XdKE",
    "outputId": "b80f138c-7e2d-4497-e56c-114d05d4e659"
   },
   "outputs": [
    {
     "name": "stdout",
     "output_type": "stream",
     "text": [
      "cpu\n",
      "cuda:0\n"
     ]
    }
   ],
   "source": [
    "tsr = tsr.cpu() # is equivalent to tsr.to(\"cpu\")\n",
    "print(tsr.device)\n",
    "if IhaveGPU :\n",
    "  tsr = tsr.cuda() # is equivalent to tsr.to(\"cuda0\")\n",
    "  print(tsr.device)"
   ]
  },
  {
   "cell_type": "markdown",
   "metadata": {
    "id": "3IZtwYiaptD1"
   },
   "source": [
    "Use torch.Tensor.item() to get a Python number from a tensor containing a single value. Warning : it moves the data to the cpu."
   ]
  },
  {
   "cell_type": "code",
   "execution_count": null,
   "metadata": {
    "colab": {
     "base_uri": "https://localhost:8080/"
    },
    "executionInfo": {
     "elapsed": 460,
     "status": "ok",
     "timestamp": 1656023759605,
     "user": {
      "displayName": "Quetin Sébastien",
      "userId": "12489844009542586180"
     },
     "user_tz": 240
    },
    "id": "hY6Vv3I1pubT",
    "outputId": "e6fbcdf2-20f2-4df2-dd51-8ef929171817"
   },
   "outputs": [
    {
     "data": {
      "text/plain": [
       "1.0"
      ]
     },
     "execution_count": 34,
     "metadata": {},
     "output_type": "execute_result"
    }
   ],
   "source": [
    "tsr[1,3].item()"
   ]
  },
  {
   "cell_type": "markdown",
   "metadata": {
    "id": "ukTwfX5EjbqS"
   },
   "source": [
    "In Pytorch [CUDA documentation](https://pytorch.org/docs/stable/notes/cuda.html) it is explained that, *PyTorch automatically performs necessary synchronization when copying data between CPU and GPU or between two GPUs. Hence, computation will proceed as if every operation was executed synchronously.* So one should be aware when transferring data to other device with .item(), .cpu()."
   ]
  },
  {
   "cell_type": "markdown",
   "metadata": {
    "id": "WIY8fQ8Wzinm"
   },
   "source": [
    "When timing you training loops, you should  synchronize before and after your loop and before stopping time."
   ]
  },
  {
   "cell_type": "markdown",
   "metadata": {
    "id": "fz7d6orhj2wB"
   },
   "source": [
    "[Example](https://colab.research.google.com/notebooks/gpu.ipynb) of how to use GPU on google colab and small demo of a GPU training speed improvment."
   ]
  },
  {
   "cell_type": "markdown",
   "metadata": {
    "id": "93_laW00sk7I"
   },
   "source": [
    "If you look at the [Pytorch documentation](https://pytorch.org/docs/stable/generated/torch.tensor.html#torch.tensor) you will see that there are four arguments : dtype, device, requires_grad and pin_memory. \n",
    "\n",
    "*   dtype : see above\n",
    "*   device: see below\n",
    "*   requires_grad : see Autograd part \n",
    "*   pin memory avoids an implicit CPU to CPU copy of the tensors and allows for a faster transfer to GPU. As explained in [NVIDIA documentation](https://developer.nvidia.com/blog/how-optimize-data-transfers-cuda-cc/) *GPUs* cannot access CPU data from the paged memory.\n",
    "\n",
    "\n"
   ]
  },
  {
   "cell_type": "markdown",
   "metadata": {
    "id": "OSL8G2-HYiOo"
   },
   "source": [
    "Pytorch [dataloader class](https://pytorch.org/docs/stable/data.html?highlight=dataloader#torch.utils.data.DataLoader) implements this memory pinning process."
   ]
  },
  {
   "cell_type": "markdown",
   "metadata": {
    "id": "nFJ38SNvjz2O"
   },
   "source": [
    "## Autograd \n",
    "\n"
   ]
  },
  {
   "cell_type": "markdown",
   "metadata": {
    "id": "84E8o5Gbjghj"
   },
   "source": [
    "A [tensor](https://pytorch.org/docs/stable/generated/torch.tensor.html#torch.tensor) can be created with requires_grad=True so that torch.autograd records operations on them for automatic differentiation."
   ]
  },
  {
   "cell_type": "markdown",
   "metadata": {
    "id": "JFwOxAgTiBoW"
   },
   "source": [
    "### What is Autograd ?\n",
    "\n",
    "[torch.autograd](https://pytorch.org/docs/stable/autograd.html) provides classes and functions implementing automatic differentiation of arbitrary scalar valued functions. It requires minimal changes to the existing code - you only need to declare Tensor s for which gradients should be computed with the requires_grad=True keyword. As of now, we only support autograd for floating point Tensor types ( half, float, double and bfloat16) and complex Tensor types (cfloat, cdouble)."
   ]
  },
  {
   "cell_type": "markdown",
   "metadata": {
    "id": "UHy5CHSfwYf-"
   },
   "source": [
    "You can still use it but and you will probably find some piece of codes using it but the class [Variable](https://pytorch.org/docs/stable/autograd.html#variable-deprecated) is deprecated. Please use torch.tensor instead.\n",
    "\n"
   ]
  },
  {
   "cell_type": "code",
   "execution_count": null,
   "metadata": {
    "colab": {
     "base_uri": "https://localhost:8080/"
    },
    "executionInfo": {
     "elapsed": 181,
     "status": "ok",
     "timestamp": 1656515918149,
     "user": {
      "displayName": "McGill McMedHacks",
      "userId": "14621413533534576587"
     },
     "user_tz": 240
    },
    "id": "WUFxOP9zwTm2",
    "outputId": "f0b0be52-4a61-450e-e81a-b2dea151e474"
   },
   "outputs": [
    {
     "name": "stdout",
     "output_type": "stream",
     "text": [
      "tensor([[1., 1., 1., 1.],\n",
      "        [1., 1., 1., 1.],\n",
      "        [1., 1., 1., 1.]], requires_grad=True)\n"
     ]
    }
   ],
   "source": [
    "from torch.autograd import Variable\n",
    "\n",
    "x = Variable(torch.ones(3, 4), requires_grad=True)\n",
    "print(x)"
   ]
  },
  {
   "cell_type": "markdown",
   "metadata": {
    "id": "1NDBd_NbsFiZ"
   },
   "source": [
    "Now all parameters in the model, except the parameters of model.fc, are frozen. The only parameters that compute gradients are the weights and bias of model.fc.\n"
   ]
  },
  {
   "cell_type": "code",
   "execution_count": null,
   "metadata": {
    "colab": {
     "base_uri": "https://localhost:8080/"
    },
    "executionInfo": {
     "elapsed": 152,
     "status": "ok",
     "timestamp": 1656516740560,
     "user": {
      "displayName": "McGill McMedHacks",
      "userId": "14621413533534576587"
     },
     "user_tz": 240
    },
    "id": "VDJJNWxmv5zx",
    "outputId": "91405c57-b850-426d-f7c9-10eb33e40bfe"
   },
   "outputs": [
    {
     "name": "stdout",
     "output_type": "stream",
     "text": [
      "Gradients need floating points data!\n",
      "tensor([[5.]], requires_grad=True)\n",
      "Do I require gradients ?  True\n"
     ]
    }
   ],
   "source": [
    "try : \n",
    "  x = torch.tensor([[5]], requires_grad=True)\n",
    "  print(\"I managed to create a tensor of integers which will keep track of the gradients\")\n",
    "  print(x)\n",
    "  print(\"Do I require gradients ? \", x.requires_grad)\n",
    "except :\n",
    "  x = torch.tensor([[5]], dtype=torch.float32, requires_grad=True)\n",
    "  print(\"Gradients need floating points data!\")\n",
    "  print(x)\n",
    "  print(\"Do I require gradients ? \", x.requires_grad)\n"
   ]
  },
  {
   "cell_type": "code",
   "execution_count": null,
   "metadata": {
    "colab": {
     "base_uri": "https://localhost:8080/"
    },
    "executionInfo": {
     "elapsed": 3,
     "status": "ok",
     "timestamp": 1656516740741,
     "user": {
      "displayName": "McGill McMedHacks",
      "userId": "14621413533534576587"
     },
     "user_tz": 240
    },
    "id": "Zx22CJmC1wXl",
    "outputId": "8930332c-a196-4b7b-daee-0279848c8f68"
   },
   "outputs": [
    {
     "name": "stdout",
     "output_type": "stream",
     "text": [
      "Do I require gradients for this tensor ?  False\n",
      "==========================\n",
      "After function call ?  True\n"
     ]
    }
   ],
   "source": [
    "non_grad_tsr = torch.tensor([[50,60],[80,90]], dtype=torch.float32)\n",
    "print(\"Do I require gradients for this tensor ? \", non_grad_tsr.requires_grad)\n",
    "print(\"==========================\")\n",
    "non_grad_tsr.requires_grad_(True)\n",
    "print(\"After function call ? \", non_grad_tsr.requires_grad)"
   ]
  },
  {
   "cell_type": "code",
   "execution_count": null,
   "metadata": {
    "colab": {
     "base_uri": "https://localhost:8080/"
    },
    "executionInfo": {
     "elapsed": 4,
     "status": "ok",
     "timestamp": 1656516741077,
     "user": {
      "displayName": "McGill McMedHacks",
      "userId": "14621413533534576587"
     },
     "user_tz": 240
    },
    "id": "4pJRwctxv7la",
    "outputId": "b94ce83b-4c4b-4ffa-f218-561d5bfe349d"
   },
   "outputs": [
    {
     "name": "stdout",
     "output_type": "stream",
     "text": [
      " y : tensor([[7.]], grad_fn=<AddBackward0>)\n",
      "==========================\n",
      "Do I require gradients for this created tensor ?  True\n",
      "==========================\n",
      "Afer creation of a new variable inside the context manager?  False\n"
     ]
    }
   ],
   "source": [
    "y = x + 2  #  with we would not get the gradient of x since y would become the root of the graph\n",
    "#y = torch.tensor(x + 2 , requires_grad=True) \n",
    "#y = torch.tensor(x + 2 , requires_grad=True)\n",
    "print(\" y :\" , y)\n",
    "\n",
    "print(\"==========================\")\n",
    "print(\"Do I require gradients for this created tensor ? \", y.requires_grad)\n",
    "print(\"==========================\")\n",
    "with torch.set_grad_enabled(False):\n",
    "  y2 = x + 3\n",
    "  print(\"Afer creation of a new variable inside the context manager? \", y2.requires_grad)"
   ]
  },
  {
   "cell_type": "code",
   "execution_count": null,
   "metadata": {
    "colab": {
     "base_uri": "https://localhost:8080/"
    },
    "executionInfo": {
     "elapsed": 132,
     "status": "ok",
     "timestamp": 1656516741359,
     "user": {
      "displayName": "McGill McMedHacks",
      "userId": "14621413533534576587"
     },
     "user_tz": 240
    },
    "id": "3qpwK1l0v7o8",
    "outputId": "646e220d-ab0b-4619-e4d2-17bc421d0aa0"
   },
   "outputs": [
    {
     "name": "stdout",
     "output_type": "stream",
     "text": [
      "<AddBackward0 object at 0x7fc9ec0803d0>\n"
     ]
    }
   ],
   "source": [
    "print(y.grad_fn)\n"
   ]
  },
  {
   "cell_type": "code",
   "execution_count": null,
   "metadata": {
    "colab": {
     "base_uri": "https://localhost:8080/"
    },
    "executionInfo": {
     "elapsed": 2,
     "status": "ok",
     "timestamp": 1656516741730,
     "user": {
      "displayName": "McGill McMedHacks",
      "userId": "14621413533534576587"
     },
     "user_tz": 240
    },
    "id": "Ca54JL3Rv9X5",
    "outputId": "15646633-2722-4723-9ef5-b321095b673a"
   },
   "outputs": [
    {
     "data": {
      "text/plain": [
       "tensor([[23.]], grad_fn=<AddBackward0>)"
      ]
     },
     "execution_count": 60,
     "metadata": {},
     "output_type": "execute_result"
    }
   ],
   "source": [
    "w = torch.tensor([2], dtype= torch.float32, requires_grad=True)\n",
    "out = y * 3 + w\n",
    "out"
   ]
  },
  {
   "cell_type": "markdown",
   "metadata": {
    "id": "9CjBSOblEt2-"
   },
   "source": [
    "As decribed in the torch autograd [tutorial](https://pytorch.org/tutorials/beginner/blitz/autograd_tutorial.html),  Autograd then calculates and stores the gradients for each model parameter in the parameter’s .grad attribute"
   ]
  },
  {
   "cell_type": "code",
   "execution_count": null,
   "metadata": {
    "colab": {
     "base_uri": "https://localhost:8080/"
    },
    "executionInfo": {
     "elapsed": 140,
     "status": "ok",
     "timestamp": 1656516742936,
     "user": {
      "displayName": "McGill McMedHacks",
      "userId": "14621413533534576587"
     },
     "user_tz": 240
    },
    "id": "mhkDbxgHv9dB",
    "outputId": "d0e3da67-3829-4dac-dc4f-d4a6e39c5307"
   },
   "outputs": [
    {
     "name": "stdout",
     "output_type": "stream",
     "text": [
      "Before calling .backward() we don't have gradients.\n",
      "w gradients with respect to output :  None\n",
      "x gradients with respect to output :  None\n",
      "=========================\n"
     ]
    }
   ],
   "source": [
    "print(\"Before calling .backward() we don't have gradients.\")\n",
    "print(\"w gradients with respect to output : \", w.grad)\n",
    "print(\"x gradients with respect to output : \", x.grad)\n",
    "print(\"=========================\")\n"
   ]
  },
  {
   "cell_type": "code",
   "execution_count": null,
   "metadata": {
    "colab": {
     "base_uri": "https://localhost:8080/"
    },
    "executionInfo": {
     "elapsed": 2,
     "status": "ok",
     "timestamp": 1656516743343,
     "user": {
      "displayName": "McGill McMedHacks",
      "userId": "14621413533534576587"
     },
     "user_tz": 240
    },
    "id": "yje3u3ZgcB89",
    "outputId": "d8114a7f-17b4-4db3-846c-803a44c14abd"
   },
   "outputs": [
    {
     "name": "stdout",
     "output_type": "stream",
     "text": [
      "After calling .backward() we do have gradients.\n",
      "w gradients with respect to output :  tensor([1.])\n",
      "x gradients with respect to output :  tensor([[3.]])\n"
     ]
    }
   ],
   "source": [
    "out.backward() # This operation backpropagate the output to the computes all the gradient \n",
    "print(\"After calling .backward() we do have gradients.\")\n",
    "print(\"w gradients with respect to output : \", w.grad)\n",
    "print(\"x gradients with respect to output : \", x.grad)"
   ]
  },
  {
   "cell_type": "markdown",
   "metadata": {
    "id": "RfndI6m3LWVx"
   },
   "source": [
    "$ out = w + (x + 2) *3 = w +  x*3 + 6 $ \\\n",
    "$\\frac{\\partial out}{\\partial x} = 3$ \\\n",
    "\n",
    "$\\frac{\\partial out}{\\partial w} = 1$\n"
   ]
  },
  {
   "cell_type": "markdown",
   "metadata": {
    "id": "IZRc4gEnLmwH"
   },
   "source": [
    "$ out = w + y * 3  $ \\\n",
    "\n",
    "$\\frac{\\partial out}{\\partial y} = 3$ \\\n"
   ]
  },
  {
   "cell_type": "code",
   "execution_count": null,
   "metadata": {
    "colab": {
     "base_uri": "https://localhost:8080/"
    },
    "executionInfo": {
     "elapsed": 136,
     "status": "ok",
     "timestamp": 1656516753783,
     "user": {
      "displayName": "McGill McMedHacks",
      "userId": "14621413533534576587"
     },
     "user_tz": 240
    },
    "id": "zVvr0i73v9f9",
    "outputId": "ba6bbd32-47cb-475d-f936-e89ff183ee28"
   },
   "outputs": [
    {
     "name": "stdout",
     "output_type": "stream",
     "text": [
      "None\n"
     ]
    },
    {
     "name": "stderr",
     "output_type": "stream",
     "text": [
      "/usr/local/lib/python3.7/dist-packages/torch/_tensor.py:1104: UserWarning: The .grad attribute of a Tensor that is not a leaf Tensor is being accessed. Its .grad attribute won't be populated during autograd.backward(). If you indeed want the .grad field to be populated for a non-leaf Tensor, use .retain_grad() on the non-leaf Tensor. If you access the non-leaf Tensor by mistake, make sure you access the leaf Tensor instead. See github.com/pytorch/pytorch/pull/30531 for more informations. (Triggered internally at  aten/src/ATen/core/TensorBody.h:475.)\n",
      "  return self._grad\n"
     ]
    }
   ],
   "source": [
    "print(y.grad)"
   ]
  },
  {
   "cell_type": "code",
   "execution_count": null,
   "metadata": {
    "colab": {
     "base_uri": "https://localhost:8080/"
    },
    "executionInfo": {
     "elapsed": 150,
     "status": "ok",
     "timestamp": 1656516754994,
     "user": {
      "displayName": "McGill McMedHacks",
      "userId": "14621413533534576587"
     },
     "user_tz": 240
    },
    "id": "bBI4UNrRGRb7",
    "outputId": "86d9c70d-3159-462d-98da-eacf93b9c24d"
   },
   "outputs": [
    {
     "name": "stdout",
     "output_type": "stream",
     "text": [
      "None\n"
     ]
    },
    {
     "name": "stderr",
     "output_type": "stream",
     "text": [
      "/usr/local/lib/python3.7/dist-packages/torch/_tensor.py:1104: UserWarning: The .grad attribute of a Tensor that is not a leaf Tensor is being accessed. Its .grad attribute won't be populated during autograd.backward(). If you indeed want the .grad field to be populated for a non-leaf Tensor, use .retain_grad() on the non-leaf Tensor. If you access the non-leaf Tensor by mistake, make sure you access the leaf Tensor instead. See github.com/pytorch/pytorch/pull/30531 for more informations. (Triggered internally at  aten/src/ATen/core/TensorBody.h:475.)\n",
      "  return self._grad\n"
     ]
    }
   ],
   "source": [
    "print(out.grad)"
   ]
  },
  {
   "cell_type": "markdown",
   "metadata": {
    "id": "Jg-GtSU_L6TX"
   },
   "source": [
    "No point in computing $\\frac{\\partial out}{\\partial out}$"
   ]
  },
  {
   "cell_type": "markdown",
   "metadata": {
    "id": "LAsG7iByov0Y"
   },
   "source": [
    "### Computational graph"
   ]
  },
  {
   "cell_type": "code",
   "execution_count": null,
   "metadata": {
    "colab": {
     "base_uri": "https://localhost:8080/",
     "height": 472
    },
    "executionInfo": {
     "elapsed": 197,
     "status": "ok",
     "timestamp": 1656516756762,
     "user": {
      "displayName": "McGill McMedHacks",
      "userId": "14621413533534576587"
     },
     "user_tz": 240
    },
    "id": "8a4L3eBZx6nE",
    "outputId": "2ae988d0-c314-4c5f-b6e4-e851270d2498"
   },
   "outputs": [
    {
     "data": {
      "image/svg+xml": [
       "<?xml version=\"1.0\" encoding=\"UTF-8\" standalone=\"no\"?>\n",
       "<!DOCTYPE svg PUBLIC \"-//W3C//DTD SVG 1.1//EN\"\n",
       " \"http://www.w3.org/Graphics/SVG/1.1/DTD/svg11.dtd\">\n",
       "<!-- Generated by graphviz version 2.40.1 (20161225.0304)\n",
       " -->\n",
       "<!-- Title: %3 Pages: 1 -->\n",
       "<svg width=\"222pt\" height=\"338pt\"\n",
       " viewBox=\"0.00 0.00 222.00 338.00\" xmlns=\"http://www.w3.org/2000/svg\" xmlns:xlink=\"http://www.w3.org/1999/xlink\">\n",
       "<g id=\"graph0\" class=\"graph\" transform=\"scale(1 1) rotate(0) translate(4 334)\">\n",
       "<title>%3</title>\n",
       "<polygon fill=\"#ffffff\" stroke=\"transparent\" points=\"-4,4 -4,-334 218,-334 218,4 -4,4\"/>\n",
       "<!-- 140505233979536 -->\n",
       "<g id=\"node1\" class=\"node\">\n",
       "<title>140505233979536</title>\n",
       "<polygon fill=\"#caff70\" stroke=\"#000000\" points=\"136,-31 77,-31 77,0 136,0 136,-31\"/>\n",
       "<text text-anchor=\"middle\" x=\"106.5\" y=\"-7\" font-family=\"monospace\" font-size=\"10.00\" fill=\"#000000\"> (1, 1)</text>\n",
       "</g>\n",
       "<!-- 140505233993168 -->\n",
       "<g id=\"node2\" class=\"node\">\n",
       "<title>140505233993168</title>\n",
       "<polygon fill=\"#d3d3d3\" stroke=\"#000000\" points=\"151,-86 62,-86 62,-67 151,-67 151,-86\"/>\n",
       "<text text-anchor=\"middle\" x=\"106.5\" y=\"-74\" font-family=\"monospace\" font-size=\"10.00\" fill=\"#000000\">AddBackward0</text>\n",
       "</g>\n",
       "<!-- 140505233993168&#45;&gt;140505233979536 -->\n",
       "<g id=\"edge7\" class=\"edge\">\n",
       "<title>140505233993168&#45;&gt;140505233979536</title>\n",
       "<path fill=\"none\" stroke=\"#000000\" d=\"M106.5,-66.9688C106.5,-60.1289 106.5,-50.5621 106.5,-41.5298\"/>\n",
       "<polygon fill=\"#000000\" stroke=\"#000000\" points=\"110.0001,-41.3678 106.5,-31.3678 103.0001,-41.3678 110.0001,-41.3678\"/>\n",
       "</g>\n",
       "<!-- 140505233993040 -->\n",
       "<g id=\"node3\" class=\"node\">\n",
       "<title>140505233993040</title>\n",
       "<polygon fill=\"#d3d3d3\" stroke=\"#000000\" points=\"95,-141 6,-141 6,-122 95,-122 95,-141\"/>\n",
       "<text text-anchor=\"middle\" x=\"50.5\" y=\"-129\" font-family=\"monospace\" font-size=\"10.00\" fill=\"#000000\">MulBackward0</text>\n",
       "</g>\n",
       "<!-- 140505233993040&#45;&gt;140505233993168 -->\n",
       "<g id=\"edge1\" class=\"edge\">\n",
       "<title>140505233993040&#45;&gt;140505233993168</title>\n",
       "<path fill=\"none\" stroke=\"#000000\" d=\"M60.2545,-121.9197C68.1865,-114.1293 79.5788,-102.9405 89.0712,-93.6176\"/>\n",
       "<polygon fill=\"#000000\" stroke=\"#000000\" points=\"91.7982,-95.845 96.4802,-86.3408 86.8932,-90.8509 91.7982,-95.845\"/>\n",
       "</g>\n",
       "<!-- 140505225111504 -->\n",
       "<g id=\"node4\" class=\"node\">\n",
       "<title>140505225111504</title>\n",
       "<polygon fill=\"#d3d3d3\" stroke=\"#000000\" points=\"95,-202 6,-202 6,-183 95,-183 95,-202\"/>\n",
       "<text text-anchor=\"middle\" x=\"50.5\" y=\"-190\" font-family=\"monospace\" font-size=\"10.00\" fill=\"#000000\">AddBackward0</text>\n",
       "</g>\n",
       "<!-- 140505225111504&#45;&gt;140505233993040 -->\n",
       "<g id=\"edge2\" class=\"edge\">\n",
       "<title>140505225111504&#45;&gt;140505233993040</title>\n",
       "<path fill=\"none\" stroke=\"#000000\" d=\"M50.5,-182.9688C50.5,-174.5131 50.5,-161.8901 50.5,-151.2615\"/>\n",
       "<polygon fill=\"#000000\" stroke=\"#000000\" points=\"54.0001,-151.1656 50.5,-141.1656 47.0001,-151.1657 54.0001,-151.1656\"/>\n",
       "</g>\n",
       "<!-- 140505225109840 -->\n",
       "<g id=\"node5\" class=\"node\">\n",
       "<title>140505225109840</title>\n",
       "<polygon fill=\"#d3d3d3\" stroke=\"#000000\" points=\"101,-263 0,-263 0,-244 101,-244 101,-263\"/>\n",
       "<text text-anchor=\"middle\" x=\"50.5\" y=\"-251\" font-family=\"monospace\" font-size=\"10.00\" fill=\"#000000\">AccumulateGrad</text>\n",
       "</g>\n",
       "<!-- 140505225109840&#45;&gt;140505225111504 -->\n",
       "<g id=\"edge3\" class=\"edge\">\n",
       "<title>140505225109840&#45;&gt;140505225111504</title>\n",
       "<path fill=\"none\" stroke=\"#000000\" d=\"M50.5,-243.9688C50.5,-235.5131 50.5,-222.8901 50.5,-212.2615\"/>\n",
       "<polygon fill=\"#000000\" stroke=\"#000000\" points=\"54.0001,-212.1656 50.5,-202.1656 47.0001,-212.1657 54.0001,-212.1656\"/>\n",
       "</g>\n",
       "<!-- 140505345188016 -->\n",
       "<g id=\"node6\" class=\"node\">\n",
       "<title>140505345188016</title>\n",
       "<polygon fill=\"#add8e6\" stroke=\"#000000\" points=\"80,-330 21,-330 21,-299 80,-299 80,-330\"/>\n",
       "<text text-anchor=\"middle\" x=\"50.5\" y=\"-306\" font-family=\"monospace\" font-size=\"10.00\" fill=\"#000000\"> (1, 1)</text>\n",
       "</g>\n",
       "<!-- 140505345188016&#45;&gt;140505225109840 -->\n",
       "<g id=\"edge4\" class=\"edge\">\n",
       "<title>140505345188016&#45;&gt;140505225109840</title>\n",
       "<path fill=\"none\" stroke=\"#000000\" d=\"M50.5,-298.791C50.5,-291.0249 50.5,-281.5706 50.5,-273.3129\"/>\n",
       "<polygon fill=\"#000000\" stroke=\"#000000\" points=\"54.0001,-273.0647 50.5,-263.0648 47.0001,-273.0648 54.0001,-273.0647\"/>\n",
       "</g>\n",
       "<!-- 140505225111568 -->\n",
       "<g id=\"node7\" class=\"node\">\n",
       "<title>140505225111568</title>\n",
       "<polygon fill=\"#d3d3d3\" stroke=\"#000000\" points=\"214,-141 113,-141 113,-122 214,-122 214,-141\"/>\n",
       "<text text-anchor=\"middle\" x=\"163.5\" y=\"-129\" font-family=\"monospace\" font-size=\"10.00\" fill=\"#000000\">AccumulateGrad</text>\n",
       "</g>\n",
       "<!-- 140505225111568&#45;&gt;140505233993168 -->\n",
       "<g id=\"edge5\" class=\"edge\">\n",
       "<title>140505225111568&#45;&gt;140505233993168</title>\n",
       "<path fill=\"none\" stroke=\"#000000\" d=\"M153.5714,-121.9197C145.4169,-114.0514 133.6697,-102.7164 123.9508,-93.3385\"/>\n",
       "<polygon fill=\"#000000\" stroke=\"#000000\" points=\"126.3252,-90.7659 116.6987,-86.3408 121.4646,-95.8032 126.3252,-90.7659\"/>\n",
       "</g>\n",
       "<!-- 140505233978672 -->\n",
       "<g id=\"node8\" class=\"node\">\n",
       "<title>140505233978672</title>\n",
       "<polygon fill=\"#add8e6\" stroke=\"#000000\" points=\"190.5,-208 136.5,-208 136.5,-177 190.5,-177 190.5,-208\"/>\n",
       "<text text-anchor=\"middle\" x=\"163.5\" y=\"-184\" font-family=\"monospace\" font-size=\"10.00\" fill=\"#000000\"> (1)</text>\n",
       "</g>\n",
       "<!-- 140505233978672&#45;&gt;140505225111568 -->\n",
       "<g id=\"edge6\" class=\"edge\">\n",
       "<title>140505233978672&#45;&gt;140505225111568</title>\n",
       "<path fill=\"none\" stroke=\"#000000\" d=\"M163.5,-176.791C163.5,-169.0249 163.5,-159.5706 163.5,-151.3129\"/>\n",
       "<polygon fill=\"#000000\" stroke=\"#000000\" points=\"167.0001,-151.0647 163.5,-141.0648 160.0001,-151.0648 167.0001,-151.0647\"/>\n",
       "</g>\n",
       "</g>\n",
       "</svg>\n"
      ],
      "text/plain": [
       "<graphviz.dot.Digraph at 0x7fc9ec082650>"
      ]
     },
     "execution_count": 65,
     "metadata": {},
     "output_type": "execute_result"
    }
   ],
   "source": [
    "from torchviz import make_dot\n",
    "make_dot(out)printing\n"
   ]
  },
  {
   "cell_type": "markdown",
   "metadata": {
    "id": "lbTec4eAo8XL"
   },
   "source": [
    "### Disabling gradient traking "
   ]
  },
  {
   "cell_type": "code",
   "execution_count": null,
   "metadata": {
    "colab": {
     "base_uri": "https://localhost:8080/",
     "height": 73
    },
    "executionInfo": {
     "elapsed": 155,
     "status": "ok",
     "timestamp": 1656516857843,
     "user": {
      "displayName": "McGill McMedHacks",
      "userId": "14621413533534576587"
     },
     "user_tz": 240
    },
    "id": "35t3F1X6yqsq",
    "outputId": "d38640e7-fcf0-4115-aa97-f09577594861"
   },
   "outputs": [
    {
     "data": {
      "image/svg+xml": [
       "<?xml version=\"1.0\" encoding=\"UTF-8\" standalone=\"no\"?>\n",
       "<!DOCTYPE svg PUBLIC \"-//W3C//DTD SVG 1.1//EN\"\n",
       " \"http://www.w3.org/Graphics/SVG/1.1/DTD/svg11.dtd\">\n",
       "<!-- Generated by graphviz version 2.40.1 (20161225.0304)\n",
       " -->\n",
       "<!-- Title: %3 Pages: 1 -->\n",
       "<svg width=\"67pt\" height=\"39pt\"\n",
       " viewBox=\"0.00 0.00 67.00 39.00\" xmlns=\"http://www.w3.org/2000/svg\" xmlns:xlink=\"http://www.w3.org/1999/xlink\">\n",
       "<g id=\"graph0\" class=\"graph\" transform=\"scale(1 1) rotate(0) translate(4 35)\">\n",
       "<title>%3</title>\n",
       "<polygon fill=\"#ffffff\" stroke=\"transparent\" points=\"-4,4 -4,-35 63,-35 63,4 -4,4\"/>\n",
       "<!-- 140505225171696 -->\n",
       "<g id=\"node1\" class=\"node\">\n",
       "<title>140505225171696</title>\n",
       "<polygon fill=\"#caff70\" stroke=\"#000000\" points=\"59,-31 0,-31 0,0 59,0 59,-31\"/>\n",
       "<text text-anchor=\"middle\" x=\"29.5\" y=\"-7\" font-family=\"monospace\" font-size=\"10.00\" fill=\"#000000\"> (1, 1)</text>\n",
       "</g>\n",
       "</g>\n",
       "</svg>\n"
      ],
      "text/plain": [
       "<graphviz.dot.Digraph at 0x7fc9f3367590>"
      ]
     },
     "execution_count": 66,
     "metadata": {},
     "output_type": "execute_result"
    }
   ],
   "source": [
    "g2 = make_dot(out.detach())\n",
    "g2"
   ]
  },
  {
   "cell_type": "code",
   "execution_count": null,
   "metadata": {
    "colab": {
     "base_uri": "https://localhost:8080/"
    },
    "executionInfo": {
     "elapsed": 827,
     "status": "ok",
     "timestamp": 1656389043996,
     "user": {
      "displayName": "Manon Petitjean",
      "userId": "03887899202017477358"
     },
     "user_tz": 240
    },
    "id": "msFgFCp1Q47h",
    "outputId": "3f124ac8-3b3f-4c08-af4e-3598191f7b66"
   },
   "outputs": [
    {
     "name": "stdout",
     "output_type": "stream",
     "text": [
      " z :  tensor([[23.]], grad_fn=<AddBackward0>)\n",
      "===========================\n",
      "Copy of z  tensor([[23.]], grad_fn=<CloneBackward0>)\n",
      "===========================\n",
      "Detached copy of z  tensor([[23.]])\n"
     ]
    }
   ],
   "source": [
    "data_tsr = z.detach().clone()\n",
    "copy_tsr = z.clone()\n",
    "print(\" z : \" , z )\n",
    "print(\"===========================\")\n",
    "print(\"Copy of z \" , copy_tsr)\n",
    "print(\"===========================\")\n",
    "print(\"Detached copy of z \" , data_tsr)"
   ]
  },
  {
   "cell_type": "markdown",
   "metadata": {
    "id": "UqHvBb2pR2RN"
   },
   "source": [
    "Think about detaching your loss if you want to monitor it during training.  .numpy() would also work but .detach() has the big advantage of not moving the tensor between devices."
   ]
  },
  {
   "cell_type": "markdown",
   "metadata": {
    "id": "WksfOXHbiUh2"
   },
   "source": [
    "### Autograd For Deep Learning"
   ]
  },
  {
   "cell_type": "markdown",
   "metadata": {
    "id": "FV3mnwp2R8dF"
   },
   "source": [
    "Pytorch provides a link to this very well done [youtube video](https://www.youtube.com/watch?v=tIeHLnjs5U8) by 3Blue1Brown with animations to exlpain backpropagation. "
   ]
  },
  {
   "cell_type": "markdown",
   "metadata": {
    "id": "mWuGd5u2bZRG"
   },
   "source": [
    "#### Reminder"
   ]
  },
  {
   "cell_type": "markdown",
   "metadata": {
    "id": "NngNrYVgTJL2"
   },
   "source": [
    "Example from Pytorch autograd [tutorial](https://pytorch.org/tutorials/beginner/blitz/autograd_tutorial.html)"
   ]
  },
  {
   "cell_type": "code",
   "execution_count": null,
   "metadata": {
    "id": "qe5NeJBRnoJ_"
   },
   "outputs": [],
   "source": [
    "a = torch.tensor([2., 3.], requires_grad=True)\n",
    "b = torch.tensor([6., 4.], requires_grad=True)"
   ]
  },
  {
   "cell_type": "markdown",
   "metadata": {
    "id": "ROPrFN-2YGnT"
   },
   "source": [
    "Your computation is $ Q = 3*a^3 -b^2$ \\"
   ]
  },
  {
   "cell_type": "code",
   "execution_count": null,
   "metadata": {
    "id": "RAagHcKYnqAm"
   },
   "outputs": [],
   "source": [
    "Q = 3*a**3 - b**2"
   ]
  },
  {
   "cell_type": "code",
   "execution_count": null,
   "metadata": {
    "id": "F-d125ANnr6_"
   },
   "outputs": [],
   "source": [
    "external_grad = torch.tensor([1., 1.])\n",
    "Q.backward(gradient=external_grad) # equivalent to Q.sum().backward()"
   ]
  },
  {
   "cell_type": "markdown",
   "metadata": {
    "id": "0OdrfJceYYJ0"
   },
   "source": [
    "We have :    \n",
    "$\\frac{\\partial Q}{\\partial a} = 9 * a^2$ \\\n",
    "and \\\n",
    "$\\frac{\\partial Q}{\\partial a} = -2 * b$ \n"
   ]
  },
  {
   "cell_type": "code",
   "execution_count": null,
   "metadata": {
    "colab": {
     "base_uri": "https://localhost:8080/"
    },
    "executionInfo": {
     "elapsed": 170,
     "status": "ok",
     "timestamp": 1656517539451,
     "user": {
      "displayName": "McGill McMedHacks",
      "userId": "14621413533534576587"
     },
     "user_tz": 240
    },
    "id": "4G2sdducnuEn",
    "outputId": "f61f58d3-6a52-442b-82e2-ca2b44d5b561"
   },
   "outputs": [
    {
     "name": "stdout",
     "output_type": "stream",
     "text": [
      "tensor([True, True])\n",
      "tensor([True, True])\n"
     ]
    }
   ],
   "source": [
    "print(9*a**2 == a.grad)\n",
    "print(-2*b == b.grad)"
   ]
  },
  {
   "cell_type": "code",
   "execution_count": null,
   "metadata": {
    "colab": {
     "base_uri": "https://localhost:8080/"
    },
    "executionInfo": {
     "elapsed": 2,
     "status": "ok",
     "timestamp": 1656390258536,
     "user": {
      "displayName": "Manon Petitjean",
      "userId": "03887899202017477358"
     },
     "user_tz": 240
    },
    "id": "Uzhm_74OYCtk",
    "outputId": "e830b44b-957c-4d87-ae86-6171ec8179f8"
   },
   "outputs": [
    {
     "name": "stdout",
     "output_type": "stream",
     "text": [
      "tensor([36., 81.])\n",
      "tensor([-12.,  -8.])\n"
     ]
    }
   ],
   "source": [
    "print(a.grad)\n",
    "print(b.grad)"
   ]
  },
  {
   "cell_type": "code",
   "execution_count": null,
   "metadata": {
    "colab": {
     "base_uri": "https://localhost:8080/",
     "height": 472
    },
    "executionInfo": {
     "elapsed": 771,
     "status": "ok",
     "timestamp": 1656390269253,
     "user": {
      "displayName": "Manon Petitjean",
      "userId": "03887899202017477358"
     },
     "user_tz": 240
    },
    "id": "QhhNudWtYzXd",
    "outputId": "03936910-f26d-4b14-c4a1-d3d051a67d94"
   },
   "outputs": [
    {
     "data": {
      "image/svg+xml": [
       "<?xml version=\"1.0\" encoding=\"UTF-8\" standalone=\"no\"?>\n",
       "<!DOCTYPE svg PUBLIC \"-//W3C//DTD SVG 1.1//EN\"\n",
       " \"http://www.w3.org/Graphics/SVG/1.1/DTD/svg11.dtd\">\n",
       "<!-- Generated by graphviz version 2.40.1 (20161225.0304)\n",
       " -->\n",
       "<!-- Title: %3 Pages: 1 -->\n",
       "<svg width=\"222pt\" height=\"338pt\"\n",
       " viewBox=\"0.00 0.00 222.00 338.00\" xmlns=\"http://www.w3.org/2000/svg\" xmlns:xlink=\"http://www.w3.org/1999/xlink\">\n",
       "<g id=\"graph0\" class=\"graph\" transform=\"scale(1 1) rotate(0) translate(4 334)\">\n",
       "<title>%3</title>\n",
       "<polygon fill=\"#ffffff\" stroke=\"transparent\" points=\"-4,4 -4,-334 218,-334 218,4 -4,4\"/>\n",
       "<!-- 139843452986288 -->\n",
       "<g id=\"node1\" class=\"node\">\n",
       "<title>139843452986288</title>\n",
       "<polygon fill=\"#caff70\" stroke=\"#000000\" points=\"133.5,-31 79.5,-31 79.5,0 133.5,0 133.5,-31\"/>\n",
       "<text text-anchor=\"middle\" x=\"106.5\" y=\"-7\" font-family=\"monospace\" font-size=\"10.00\" fill=\"#000000\"> (2)</text>\n",
       "</g>\n",
       "<!-- 139843452952208 -->\n",
       "<g id=\"node2\" class=\"node\">\n",
       "<title>139843452952208</title>\n",
       "<polygon fill=\"#d3d3d3\" stroke=\"#000000\" points=\"151,-86 62,-86 62,-67 151,-67 151,-86\"/>\n",
       "<text text-anchor=\"middle\" x=\"106.5\" y=\"-74\" font-family=\"monospace\" font-size=\"10.00\" fill=\"#000000\">SubBackward0</text>\n",
       "</g>\n",
       "<!-- 139843452952208&#45;&gt;139843452986288 -->\n",
       "<g id=\"edge8\" class=\"edge\">\n",
       "<title>139843452952208&#45;&gt;139843452986288</title>\n",
       "<path fill=\"none\" stroke=\"#000000\" d=\"M106.5,-66.9688C106.5,-60.1289 106.5,-50.5621 106.5,-41.5298\"/>\n",
       "<polygon fill=\"#000000\" stroke=\"#000000\" points=\"110.0001,-41.3678 106.5,-31.3678 103.0001,-41.3678 110.0001,-41.3678\"/>\n",
       "</g>\n",
       "<!-- 139843527032720 -->\n",
       "<g id=\"node3\" class=\"node\">\n",
       "<title>139843527032720</title>\n",
       "<polygon fill=\"#d3d3d3\" stroke=\"#000000\" points=\"98,-141 9,-141 9,-122 98,-122 98,-141\"/>\n",
       "<text text-anchor=\"middle\" x=\"53.5\" y=\"-129\" font-family=\"monospace\" font-size=\"10.00\" fill=\"#000000\">MulBackward0</text>\n",
       "</g>\n",
       "<!-- 139843527032720&#45;&gt;139843452952208 -->\n",
       "<g id=\"edge1\" class=\"edge\">\n",
       "<title>139843527032720&#45;&gt;139843452952208</title>\n",
       "<path fill=\"none\" stroke=\"#000000\" d=\"M62.7319,-121.9197C70.2391,-114.1293 81.021,-102.9405 90.0049,-93.6176\"/>\n",
       "<polygon fill=\"#000000\" stroke=\"#000000\" points=\"92.5983,-95.9703 97.017,-86.3408 87.5578,-91.113 92.5983,-95.9703\"/>\n",
       "</g>\n",
       "<!-- 139843452948624 -->\n",
       "<g id=\"node4\" class=\"node\">\n",
       "<title>139843452948624</title>\n",
       "<polygon fill=\"#d3d3d3\" stroke=\"#000000\" points=\"95,-196 6,-196 6,-177 95,-177 95,-196\"/>\n",
       "<text text-anchor=\"middle\" x=\"50.5\" y=\"-184\" font-family=\"monospace\" font-size=\"10.00\" fill=\"#000000\">PowBackward0</text>\n",
       "</g>\n",
       "<!-- 139843452948624&#45;&gt;139843527032720 -->\n",
       "<g id=\"edge2\" class=\"edge\">\n",
       "<title>139843452948624&#45;&gt;139843527032720</title>\n",
       "<path fill=\"none\" stroke=\"#000000\" d=\"M51.0226,-176.9197C51.405,-169.9083 51.9376,-160.1442 52.411,-151.4652\"/>\n",
       "<polygon fill=\"#000000\" stroke=\"#000000\" points=\"55.9133,-151.5166 52.9632,-141.3408 48.9237,-151.1353 55.9133,-151.5166\"/>\n",
       "</g>\n",
       "<!-- 139843453001168 -->\n",
       "<g id=\"node5\" class=\"node\">\n",
       "<title>139843453001168</title>\n",
       "<polygon fill=\"#d3d3d3\" stroke=\"#000000\" points=\"101,-257 0,-257 0,-238 101,-238 101,-257\"/>\n",
       "<text text-anchor=\"middle\" x=\"50.5\" y=\"-245\" font-family=\"monospace\" font-size=\"10.00\" fill=\"#000000\">AccumulateGrad</text>\n",
       "</g>\n",
       "<!-- 139843453001168&#45;&gt;139843452948624 -->\n",
       "<g id=\"edge3\" class=\"edge\">\n",
       "<title>139843453001168&#45;&gt;139843452948624</title>\n",
       "<path fill=\"none\" stroke=\"#000000\" d=\"M50.5,-237.9688C50.5,-229.5131 50.5,-216.8901 50.5,-206.2615\"/>\n",
       "<polygon fill=\"#000000\" stroke=\"#000000\" points=\"54.0001,-206.1656 50.5,-196.1656 47.0001,-206.1657 54.0001,-206.1656\"/>\n",
       "</g>\n",
       "<!-- 139843453035536 -->\n",
       "<g id=\"node6\" class=\"node\">\n",
       "<title>139843453035536</title>\n",
       "<polygon fill=\"#add8e6\" stroke=\"#000000\" points=\"77.5,-330 23.5,-330 23.5,-299 77.5,-299 77.5,-330\"/>\n",
       "<text text-anchor=\"middle\" x=\"50.5\" y=\"-306\" font-family=\"monospace\" font-size=\"10.00\" fill=\"#000000\"> (2)</text>\n",
       "</g>\n",
       "<!-- 139843453035536&#45;&gt;139843453001168 -->\n",
       "<g id=\"edge4\" class=\"edge\">\n",
       "<title>139843453035536&#45;&gt;139843453001168</title>\n",
       "<path fill=\"none\" stroke=\"#000000\" d=\"M50.5,-298.9604C50.5,-289.6356 50.5,-277.6748 50.5,-267.6317\"/>\n",
       "<polygon fill=\"#000000\" stroke=\"#000000\" points=\"54.0001,-267.35 50.5,-257.3501 47.0001,-267.3501 54.0001,-267.35\"/>\n",
       "</g>\n",
       "<!-- 139843452948880 -->\n",
       "<g id=\"node7\" class=\"node\">\n",
       "<title>139843452948880</title>\n",
       "<polygon fill=\"#d3d3d3\" stroke=\"#000000\" points=\"206,-141 117,-141 117,-122 206,-122 206,-141\"/>\n",
       "<text text-anchor=\"middle\" x=\"161.5\" y=\"-129\" font-family=\"monospace\" font-size=\"10.00\" fill=\"#000000\">PowBackward0</text>\n",
       "</g>\n",
       "<!-- 139843452948880&#45;&gt;139843452952208 -->\n",
       "<g id=\"edge5\" class=\"edge\">\n",
       "<title>139843452948880&#45;&gt;139843452952208</title>\n",
       "<path fill=\"none\" stroke=\"#000000\" d=\"M151.9197,-121.9197C144.1293,-114.1293 132.9405,-102.9405 123.6176,-93.6176\"/>\n",
       "<polygon fill=\"#000000\" stroke=\"#000000\" points=\"125.8868,-90.937 116.3408,-86.3408 120.937,-95.8868 125.8868,-90.937\"/>\n",
       "</g>\n",
       "<!-- 139843452998992 -->\n",
       "<g id=\"node8\" class=\"node\">\n",
       "<title>139843452998992</title>\n",
       "<polygon fill=\"#d3d3d3\" stroke=\"#000000\" points=\"214,-196 113,-196 113,-177 214,-177 214,-196\"/>\n",
       "<text text-anchor=\"middle\" x=\"163.5\" y=\"-184\" font-family=\"monospace\" font-size=\"10.00\" fill=\"#000000\">AccumulateGrad</text>\n",
       "</g>\n",
       "<!-- 139843452998992&#45;&gt;139843452948880 -->\n",
       "<g id=\"edge6\" class=\"edge\">\n",
       "<title>139843452998992&#45;&gt;139843452948880</title>\n",
       "<path fill=\"none\" stroke=\"#000000\" d=\"M163.1516,-176.9197C162.8967,-169.9083 162.5416,-160.1442 162.226,-151.4652\"/>\n",
       "<polygon fill=\"#000000\" stroke=\"#000000\" points=\"165.719,-151.207 161.8578,-141.3408 158.7237,-151.4614 165.719,-151.207\"/>\n",
       "</g>\n",
       "<!-- 139843453036208 -->\n",
       "<g id=\"node9\" class=\"node\">\n",
       "<title>139843453036208</title>\n",
       "<polygon fill=\"#add8e6\" stroke=\"#000000\" points=\"190.5,-263 136.5,-263 136.5,-232 190.5,-232 190.5,-263\"/>\n",
       "<text text-anchor=\"middle\" x=\"163.5\" y=\"-239\" font-family=\"monospace\" font-size=\"10.00\" fill=\"#000000\"> (2)</text>\n",
       "</g>\n",
       "<!-- 139843453036208&#45;&gt;139843452998992 -->\n",
       "<g id=\"edge7\" class=\"edge\">\n",
       "<title>139843453036208&#45;&gt;139843452998992</title>\n",
       "<path fill=\"none\" stroke=\"#000000\" d=\"M163.5,-231.791C163.5,-224.0249 163.5,-214.5706 163.5,-206.3129\"/>\n",
       "<polygon fill=\"#000000\" stroke=\"#000000\" points=\"167.0001,-206.0647 163.5,-196.0648 160.0001,-206.0648 167.0001,-206.0647\"/>\n",
       "</g>\n",
       "</g>\n",
       "</svg>\n"
      ],
      "text/plain": [
       "<graphviz.dot.Digraph at 0x7f2fd7565dd0>"
      ]
     },
     "execution_count": 84,
     "metadata": {},
     "output_type": "execute_result"
    }
   ],
   "source": [
    "make_dot(Q)"
   ]
  },
  {
   "cell_type": "markdown",
   "metadata": {
    "id": "IJ8rYdUlbblE"
   },
   "source": [
    "#### Linear Layer"
   ]
  },
  {
   "cell_type": "markdown",
   "metadata": {
    "id": "chQqpx7BCuJq"
   },
   "source": [
    "In a [linear](https://pytorch.org/docs/stable/generated/torch.nn.Linear.html) layer, we have $Y = f(u) = f(A * W + B)$. \\\n",
    "We want to update the weights and bias some we want to compute their gradients.\n",
    "$\\frac{\\partial Y}{\\partial W} $ and $\\frac{\\partial Y}{\\partial B} $ \\\n",
    "$\\frac{\\partial Y}{\\partial W} =  \\frac{\\partial Y}{\\partial u} * \\frac{\\partial u}{\\partial W}$\n"
   ]
  },
  {
   "cell_type": "code",
   "execution_count": null,
   "metadata": {
    "colab": {
     "base_uri": "https://localhost:8080/"
    },
    "executionInfo": {
     "elapsed": 140,
     "status": "ok",
     "timestamp": 1656517655202,
     "user": {
      "displayName": "McGill McMedHacks",
      "userId": "14621413533534576587"
     },
     "user_tz": 240
    },
    "id": "OAAOxXJo_KA7",
    "outputId": "18229cc3-fea9-474f-e353-c6db2143282b"
   },
   "outputs": [
    {
     "name": "stdout",
     "output_type": "stream",
     "text": [
      "This is the weight matrix of my Linear layer : \n",
      " Parameter containing:\n",
      "tensor([[0.9998]], requires_grad=True)\n",
      "===========================\n",
      "This is the bias of my Linear layer : \n",
      " Parameter containing:\n",
      "tensor([-0.8596], requires_grad=True)\n"
     ]
    }
   ],
   "source": [
    "lin_layer = torch.nn.Linear(1,1) # size of input is 1 as well as size of output \n",
    "print(\"This is the weight matrix of my Linear layer : \\n\", lin_layer.weight)\n",
    "print(\"===========================\")\n",
    "print(\"This is the bias of my Linear layer : \\n\", lin_layer.bias)\n"
   ]
  },
  {
   "cell_type": "code",
   "execution_count": null,
   "metadata": {
    "colab": {
     "base_uri": "https://localhost:8080/"
    },
    "executionInfo": {
     "elapsed": 166,
     "status": "ok",
     "timestamp": 1656517675326,
     "user": {
      "displayName": "McGill McMedHacks",
      "userId": "14621413533534576587"
     },
     "user_tz": 240
    },
    "id": "-vpdcKojFjSY",
    "outputId": "4220b23a-1918-4c85-ea98-7d5fa71cb7cf"
   },
   "outputs": [
    {
     "name": "stdout",
     "output_type": "stream",
     "text": [
      "This is the weight matrix of my Linear layer : \n",
      " Parameter containing:\n",
      "tensor([[0.5000]], requires_grad=True)\n",
      "===========================\n",
      "This is the bias of my Linear layer : \n",
      " Parameter containing:\n",
      "tensor([0.2500], requires_grad=True)\n"
     ]
    },
    {
     "data": {
      "text/plain": [
       "tensor([0.3000])"
      ]
     },
     "execution_count": 73,
     "metadata": {},
     "output_type": "execute_result"
    }
   ],
   "source": [
    "lin_layer.weight.data = torch.tensor([[0.5]], dtype= torch.float32)\n",
    "lin_layer.bias.data = torch.tensor([0.25], dtype= torch.float32)\n",
    "print(\"This is the weight matrix of my Linear layer : \\n\", lin_layer.weight)\n",
    "print(\"===========================\")\n",
    "print(\"This is the bias of my Linear layer : \\n\", lin_layer.bias)\n",
    "A = torch.tensor([0.3], dtype=torch.float32) \n",
    "A"
   ]
  },
  {
   "cell_type": "markdown",
   "metadata": {
    "id": "EVC5fuNxmlTZ"
   },
   "source": [
    "Let's pick a [tanh](https://pytorch.org/docs/stable/generated/torch.nn.Tanh.html#tanh) activation function."
   ]
  },
  {
   "cell_type": "code",
   "execution_count": null,
   "metadata": {
    "colab": {
     "base_uri": "https://localhost:8080/"
    },
    "executionInfo": {
     "elapsed": 130,
     "status": "ok",
     "timestamp": 1656517726875,
     "user": {
      "displayName": "McGill McMedHacks",
      "userId": "14621413533534576587"
     },
     "user_tz": 240
    },
    "id": "iy3WZuDG_YQj",
    "outputId": "e29ea7d7-0273-45b3-b8d4-7280e6bd656d"
   },
   "outputs": [
    {
     "data": {
      "text/plain": [
       "tensor([0.3799], grad_fn=<TanhBackward0>)"
      ]
     },
     "execution_count": 74,
     "metadata": {},
     "output_type": "execute_result"
    }
   ],
   "source": [
    "y1 = lin_layer(A)\n",
    "my_activation = torch.nn.Tanh()\n",
    "Y = my_activation(y1)\n",
    "Y"
   ]
  },
  {
   "cell_type": "code",
   "execution_count": null,
   "metadata": {
    "colab": {
     "base_uri": "https://localhost:8080/"
    },
    "executionInfo": {
     "elapsed": 169,
     "status": "ok",
     "timestamp": 1656517789444,
     "user": {
      "displayName": "McGill McMedHacks",
      "userId": "14621413533534576587"
     },
     "user_tz": 240
    },
    "id": "4U2LfvyDGCaP",
    "outputId": "14ce1c41-029e-4df4-dab6-0ca233668437"
   },
   "outputs": [
    {
     "name": "stdout",
     "output_type": "stream",
     "text": [
      "Before Backward propagation\n",
      "Gradients of the weights of the conv layer : None\n",
      "Gradient of the bias of the conv layer : None\n"
     ]
    }
   ],
   "source": [
    "print(\"Before Backward propagation\")\n",
    "print(\"Gradients of the weights of the conv layer :\", lin_layer.weight.grad)\n",
    "print(\"Gradient of the bias of the conv layer :\", lin_layer.bias.grad)"
   ]
  },
  {
   "cell_type": "code",
   "execution_count": null,
   "metadata": {
    "id": "efaArc0gAEDi"
   },
   "outputs": [],
   "source": [
    "Y.backward()"
   ]
  },
  {
   "cell_type": "code",
   "execution_count": null,
   "metadata": {
    "colab": {
     "base_uri": "https://localhost:8080/"
    },
    "executionInfo": {
     "elapsed": 127,
     "status": "ok",
     "timestamp": 1656517798728,
     "user": {
      "displayName": "McGill McMedHacks",
      "userId": "14621413533534576587"
     },
     "user_tz": 240
    },
    "id": "V-XqYND5AF6Y",
    "outputId": "2ea4794c-7355-4253-9c02-0a96b47696a9"
   },
   "outputs": [
    {
     "name": "stdout",
     "output_type": "stream",
     "text": [
      "Gradients of the weights of the conv layer : tensor([[0.2567]])\n",
      "Gradient of the bias of the conv layer : tensor([0.8556])\n"
     ]
    }
   ],
   "source": [
    "print(\"Gradients of the weights of the conv layer :\", lin_layer.weight.grad)\n",
    "print(\"Gradient of the bias of the conv layer :\", lin_layer.bias.grad)"
   ]
  },
  {
   "cell_type": "markdown",
   "metadata": {
    "id": "PM5p_bIOkZlf"
   },
   "source": [
    "This results could have been recomputed [manually](https://socratic.org/questions/what-is-the-derivative-of-tanh-x) :\n",
    "\\\n",
    "My fucntion is $Y = f(u) = f(A * W + B) = tanh(A * W + B)$ \\\n",
    " $\\frac{\\partial Y}{\\partial W} =  \\frac{\\partial Y}{\\partial u} * \\frac{\\partial u}{\\partial W}$ = $ f'(u) *u' = f'(A*W +B) *A $ where \\\n",
    "$tanh'(x) = 1 - \\frac{(e^x - e^{-x})^2}{(e^x + e^{-x})^2}$ \\\n",
    " but here this is the most basic case with only one dimension and one layer!"
   ]
  },
  {
   "cell_type": "code",
   "execution_count": null,
   "metadata": {
    "colab": {
     "base_uri": "https://localhost:8080/"
    },
    "executionInfo": {
     "elapsed": 135,
     "status": "ok",
     "timestamp": 1656517860542,
     "user": {
      "displayName": "McGill McMedHacks",
      "userId": "14621413533534576587"
     },
     "user_tz": 240
    },
    "id": "ziONPgloGJXL",
    "outputId": "5fad647f-2c30-4231-badb-d00ce03a3b7e"
   },
   "outputs": [
    {
     "name": "stdout",
     "output_type": "stream",
     "text": [
      "tensor([0.2567])\n",
      "tensor([0.8556])\n"
     ]
    }
   ],
   "source": [
    "manual_gradients_W = A *(1 -  (torch.exp(y1.detach()) - torch.exp(-y1.detach())).pow(2)/(torch.exp(y1.detach()) + torch.exp(-y1.detach())).pow(2) )\n",
    "manual_gradients_B = (1 -  (torch.exp(y1.detach()) - torch.exp(-y1.detach())).pow(2)/(torch.exp(y1.detach()) + torch.exp(-y1.detach())).pow(2) )\n",
    "print(manual_gradients_W)\n",
    "print(manual_gradients_B)"
   ]
  },
  {
   "cell_type": "markdown",
   "metadata": {
    "id": "9YVNsU_Eq-iT"
   },
   "source": [
    "#### Connected layers"
   ]
  },
  {
   "cell_type": "markdown",
   "metadata": {
    "id": "p4tT1vAqnoFf"
   },
   "source": [
    "Let's compose with two layers and [Sigmoid](https://pytorch.org/docs/stable/generated/torch.nn.Sigmoid.html?highlight=sigmoid#torch.nn.Sigmoid) activation function.  \n",
    "We have $Y = f(u) = f_2(A_2 * W_2 + B_2) = f_2(f_1(A_1 * W_1 +B_1) *W_2 +B_2)$ \n",
    "\\\n",
    "where $f_1$ and $ f_2$ are equal to $\\sigma (x) = \\frac{1}{1+e^{-x}}$"
   ]
  },
  {
   "cell_type": "code",
   "execution_count": null,
   "metadata": {
    "colab": {
     "base_uri": "https://localhost:8080/",
     "height": 1000
    },
    "executionInfo": {
     "elapsed": 146,
     "status": "ok",
     "timestamp": 1656517946305,
     "user": {
      "displayName": "McGill McMedHacks",
      "userId": "14621413533534576587"
     },
     "user_tz": 240
    },
    "id": "kT39TwE6AnuJ",
    "outputId": "25558eb9-d3f6-4bb0-a454-141374070353"
   },
   "outputs": [
    {
     "name": "stdout",
     "output_type": "stream",
     "text": [
      "Gradients of the weights of the first linear layer : tensor([[0.0069]])\n",
      "Gradient of the bias of the first linear layer : tensor([0.0229])\n",
      "Gradients of the weights of the second linear layer : tensor([[0.1427]])\n",
      "Gradient of the bias of the second linear layer : tensor([0.2383])\n"
     ]
    },
    {
     "data": {
      "image/svg+xml": [
       "<?xml version=\"1.0\" encoding=\"UTF-8\" standalone=\"no\"?>\n",
       "<!DOCTYPE svg PUBLIC \"-//W3C//DTD SVG 1.1//EN\"\n",
       " \"http://www.w3.org/Graphics/SVG/1.1/DTD/svg11.dtd\">\n",
       "<!-- Generated by graphviz version 2.40.1 (20161225.0304)\n",
       " -->\n",
       "<!-- Title: %3 Pages: 1 -->\n",
       "<svg width=\"364pt\" height=\"747pt\"\n",
       " viewBox=\"0.00 0.00 364.00 747.00\" xmlns=\"http://www.w3.org/2000/svg\" xmlns:xlink=\"http://www.w3.org/1999/xlink\">\n",
       "<g id=\"graph0\" class=\"graph\" transform=\"scale(1 1) rotate(0) translate(4 743)\">\n",
       "<title>%3</title>\n",
       "<polygon fill=\"#ffffff\" stroke=\"transparent\" points=\"-4,4 -4,-743 360,-743 360,4 -4,4\"/>\n",
       "<!-- 140505225005872 -->\n",
       "<g id=\"node1\" class=\"node\">\n",
       "<title>140505225005872</title>\n",
       "<polygon fill=\"#caff70\" stroke=\"#000000\" points=\"269.5,-31 215.5,-31 215.5,0 269.5,0 269.5,-31\"/>\n",
       "<text text-anchor=\"middle\" x=\"242.5\" y=\"-7\" font-family=\"monospace\" font-size=\"10.00\" fill=\"#000000\"> (1)</text>\n",
       "</g>\n",
       "<!-- 140505345383184 -->\n",
       "<g id=\"node2\" class=\"node\">\n",
       "<title>140505345383184</title>\n",
       "<polygon fill=\"#d3d3d3\" stroke=\"#000000\" points=\"299,-86 186,-86 186,-67 299,-67 299,-86\"/>\n",
       "<text text-anchor=\"middle\" x=\"242.5\" y=\"-74\" font-family=\"monospace\" font-size=\"10.00\" fill=\"#000000\">SigmoidBackward0</text>\n",
       "</g>\n",
       "<!-- 140505345383184&#45;&gt;140505225005872 -->\n",
       "<g id=\"edge19\" class=\"edge\">\n",
       "<title>140505345383184&#45;&gt;140505225005872</title>\n",
       "<path fill=\"none\" stroke=\"#000000\" d=\"M242.5,-66.9688C242.5,-60.1289 242.5,-50.5621 242.5,-41.5298\"/>\n",
       "<polygon fill=\"#000000\" stroke=\"#000000\" points=\"246.0001,-41.3678 242.5,-31.3678 239.0001,-41.3678 246.0001,-41.3678\"/>\n",
       "</g>\n",
       "<!-- 140505345382992 -->\n",
       "<g id=\"node3\" class=\"node\">\n",
       "<title>140505345382992</title>\n",
       "<polygon fill=\"#d3d3d3\" stroke=\"#000000\" points=\"287,-141 198,-141 198,-122 287,-122 287,-141\"/>\n",
       "<text text-anchor=\"middle\" x=\"242.5\" y=\"-129\" font-family=\"monospace\" font-size=\"10.00\" fill=\"#000000\">AddBackward0</text>\n",
       "</g>\n",
       "<!-- 140505345382992&#45;&gt;140505345383184 -->\n",
       "<g id=\"edge1\" class=\"edge\">\n",
       "<title>140505345382992&#45;&gt;140505345383184</title>\n",
       "<path fill=\"none\" stroke=\"#000000\" d=\"M242.5,-121.9197C242.5,-114.9083 242.5,-105.1442 242.5,-96.4652\"/>\n",
       "<polygon fill=\"#000000\" stroke=\"#000000\" points=\"246.0001,-96.3408 242.5,-86.3408 239.0001,-96.3409 246.0001,-96.3408\"/>\n",
       "</g>\n",
       "<!-- 140505224962704 -->\n",
       "<g id=\"node4\" class=\"node\">\n",
       "<title>140505224962704</title>\n",
       "<polygon fill=\"#d3d3d3\" stroke=\"#000000\" points=\"237,-196 124,-196 124,-177 237,-177 237,-196\"/>\n",
       "<text text-anchor=\"middle\" x=\"180.5\" y=\"-184\" font-family=\"monospace\" font-size=\"10.00\" fill=\"#000000\">SqueezeBackward3</text>\n",
       "</g>\n",
       "<!-- 140505224962704&#45;&gt;140505345382992 -->\n",
       "<g id=\"edge2\" class=\"edge\">\n",
       "<title>140505224962704&#45;&gt;140505345382992</title>\n",
       "<path fill=\"none\" stroke=\"#000000\" d=\"M191.2996,-176.9197C200.2572,-168.9735 213.2004,-157.4916 223.8318,-148.0605\"/>\n",
       "<polygon fill=\"#000000\" stroke=\"#000000\" points=\"226.2486,-150.5953 231.4067,-141.3408 221.6033,-145.3587 226.2486,-150.5953\"/>\n",
       "</g>\n",
       "<!-- 140505224962896 -->\n",
       "<g id=\"node5\" class=\"node\">\n",
       "<title>140505224962896</title>\n",
       "<polygon fill=\"#d3d3d3\" stroke=\"#000000\" points=\"222,-257 139,-257 139,-238 222,-238 222,-257\"/>\n",
       "<text text-anchor=\"middle\" x=\"180.5\" y=\"-245\" font-family=\"monospace\" font-size=\"10.00\" fill=\"#000000\">MmBackward0</text>\n",
       "</g>\n",
       "<!-- 140505224962896&#45;&gt;140505224962704 -->\n",
       "<g id=\"edge3\" class=\"edge\">\n",
       "<title>140505224962896&#45;&gt;140505224962704</title>\n",
       "<path fill=\"none\" stroke=\"#000000\" d=\"M180.5,-237.9688C180.5,-229.5131 180.5,-216.8901 180.5,-206.2615\"/>\n",
       "<polygon fill=\"#000000\" stroke=\"#000000\" points=\"184.0001,-206.1656 180.5,-196.1656 177.0001,-206.1657 184.0001,-206.1656\"/>\n",
       "</g>\n",
       "<!-- 140505224963216 -->\n",
       "<g id=\"node6\" class=\"node\">\n",
       "<title>140505224963216</title>\n",
       "<polygon fill=\"#d3d3d3\" stroke=\"#000000\" points=\"184,-318 59,-318 59,-299 184,-299 184,-318\"/>\n",
       "<text text-anchor=\"middle\" x=\"121.5\" y=\"-306\" font-family=\"monospace\" font-size=\"10.00\" fill=\"#000000\">UnsqueezeBackward0</text>\n",
       "</g>\n",
       "<!-- 140505224963216&#45;&gt;140505224962896 -->\n",
       "<g id=\"edge4\" class=\"edge\">\n",
       "<title>140505224963216&#45;&gt;140505224962896</title>\n",
       "<path fill=\"none\" stroke=\"#000000\" d=\"M130.7188,-298.9688C139.5858,-289.8011 153.1912,-275.7346 163.9389,-264.6225\"/>\n",
       "<polygon fill=\"#000000\" stroke=\"#000000\" points=\"166.7148,-266.7869 171.1513,-257.1656 161.6832,-261.9203 166.7148,-266.7869\"/>\n",
       "</g>\n",
       "<!-- 140505224963344 -->\n",
       "<g id=\"node7\" class=\"node\">\n",
       "<title>140505224963344</title>\n",
       "<polygon fill=\"#d3d3d3\" stroke=\"#000000\" points=\"175,-373 62,-373 62,-354 175,-354 175,-373\"/>\n",
       "<text text-anchor=\"middle\" x=\"118.5\" y=\"-361\" font-family=\"monospace\" font-size=\"10.00\" fill=\"#000000\">SigmoidBackward0</text>\n",
       "</g>\n",
       "<!-- 140505224963344&#45;&gt;140505224963216 -->\n",
       "<g id=\"edge5\" class=\"edge\">\n",
       "<title>140505224963344&#45;&gt;140505224963216</title>\n",
       "<path fill=\"none\" stroke=\"#000000\" d=\"M119.0226,-353.9197C119.405,-346.9083 119.9376,-337.1442 120.411,-328.4652\"/>\n",
       "<polygon fill=\"#000000\" stroke=\"#000000\" points=\"123.9133,-328.5166 120.9632,-318.3408 116.9237,-328.1353 123.9133,-328.5166\"/>\n",
       "</g>\n",
       "<!-- 140505224963152 -->\n",
       "<g id=\"node8\" class=\"node\">\n",
       "<title>140505224963152</title>\n",
       "<polygon fill=\"#d3d3d3\" stroke=\"#000000\" points=\"163,-434 74,-434 74,-415 163,-415 163,-434\"/>\n",
       "<text text-anchor=\"middle\" x=\"118.5\" y=\"-422\" font-family=\"monospace\" font-size=\"10.00\" fill=\"#000000\">AddBackward0</text>\n",
       "</g>\n",
       "<!-- 140505224963152&#45;&gt;140505224963344 -->\n",
       "<g id=\"edge6\" class=\"edge\">\n",
       "<title>140505224963152&#45;&gt;140505224963344</title>\n",
       "<path fill=\"none\" stroke=\"#000000\" d=\"M118.5,-414.9688C118.5,-406.5131 118.5,-393.8901 118.5,-383.2615\"/>\n",
       "<polygon fill=\"#000000\" stroke=\"#000000\" points=\"122.0001,-383.1656 118.5,-373.1656 115.0001,-383.1657 122.0001,-383.1656\"/>\n",
       "</g>\n",
       "<!-- 140505224963600 -->\n",
       "<g id=\"node9\" class=\"node\">\n",
       "<title>140505224963600</title>\n",
       "<polygon fill=\"#d3d3d3\" stroke=\"#000000\" points=\"113,-495 0,-495 0,-476 113,-476 113,-495\"/>\n",
       "<text text-anchor=\"middle\" x=\"56.5\" y=\"-483\" font-family=\"monospace\" font-size=\"10.00\" fill=\"#000000\">SqueezeBackward3</text>\n",
       "</g>\n",
       "<!-- 140505224963600&#45;&gt;140505224963152 -->\n",
       "<g id=\"edge7\" class=\"edge\">\n",
       "<title>140505224963600&#45;&gt;140505224963152</title>\n",
       "<path fill=\"none\" stroke=\"#000000\" d=\"M66.1875,-475.9688C75.5959,-466.7121 90.0807,-452.461 101.4249,-441.2997\"/>\n",
       "<polygon fill=\"#000000\" stroke=\"#000000\" points=\"104.0022,-443.6739 108.6759,-434.1656 99.0929,-438.6841 104.0022,-443.6739\"/>\n",
       "</g>\n",
       "<!-- 140505224963728 -->\n",
       "<g id=\"node10\" class=\"node\">\n",
       "<title>140505224963728</title>\n",
       "<polygon fill=\"#d3d3d3\" stroke=\"#000000\" points=\"98,-556 15,-556 15,-537 98,-537 98,-556\"/>\n",
       "<text text-anchor=\"middle\" x=\"56.5\" y=\"-544\" font-family=\"monospace\" font-size=\"10.00\" fill=\"#000000\">MmBackward0</text>\n",
       "</g>\n",
       "<!-- 140505224963728&#45;&gt;140505224963600 -->\n",
       "<g id=\"edge8\" class=\"edge\">\n",
       "<title>140505224963728&#45;&gt;140505224963600</title>\n",
       "<path fill=\"none\" stroke=\"#000000\" d=\"M56.5,-536.9688C56.5,-528.5131 56.5,-515.8901 56.5,-505.2615\"/>\n",
       "<polygon fill=\"#000000\" stroke=\"#000000\" points=\"60.0001,-505.1656 56.5,-495.1656 53.0001,-505.1657 60.0001,-505.1656\"/>\n",
       "</g>\n",
       "<!-- 140505224963920 -->\n",
       "<g id=\"node11\" class=\"node\">\n",
       "<title>140505224963920</title>\n",
       "<polygon fill=\"#d3d3d3\" stroke=\"#000000\" points=\"95,-617 18,-617 18,-598 95,-598 95,-617\"/>\n",
       "<text text-anchor=\"middle\" x=\"56.5\" y=\"-605\" font-family=\"monospace\" font-size=\"10.00\" fill=\"#000000\">TBackward0</text>\n",
       "</g>\n",
       "<!-- 140505224963920&#45;&gt;140505224963728 -->\n",
       "<g id=\"edge9\" class=\"edge\">\n",
       "<title>140505224963920&#45;&gt;140505224963728</title>\n",
       "<path fill=\"none\" stroke=\"#000000\" d=\"M56.5,-597.9688C56.5,-589.5131 56.5,-576.8901 56.5,-566.2615\"/>\n",
       "<polygon fill=\"#000000\" stroke=\"#000000\" points=\"60.0001,-566.1656 56.5,-556.1656 53.0001,-566.1657 60.0001,-566.1656\"/>\n",
       "</g>\n",
       "<!-- 140505224964112 -->\n",
       "<g id=\"node12\" class=\"node\">\n",
       "<title>140505224964112</title>\n",
       "<polygon fill=\"#d3d3d3\" stroke=\"#000000\" points=\"107,-672 6,-672 6,-653 107,-653 107,-672\"/>\n",
       "<text text-anchor=\"middle\" x=\"56.5\" y=\"-660\" font-family=\"monospace\" font-size=\"10.00\" fill=\"#000000\">AccumulateGrad</text>\n",
       "</g>\n",
       "<!-- 140505224964112&#45;&gt;140505224963920 -->\n",
       "<g id=\"edge10\" class=\"edge\">\n",
       "<title>140505224964112&#45;&gt;140505224963920</title>\n",
       "<path fill=\"none\" stroke=\"#000000\" d=\"M56.5,-652.9197C56.5,-645.9083 56.5,-636.1442 56.5,-627.4652\"/>\n",
       "<polygon fill=\"#000000\" stroke=\"#000000\" points=\"60.0001,-627.3408 56.5,-617.3408 53.0001,-627.3409 60.0001,-627.3408\"/>\n",
       "</g>\n",
       "<!-- 140505233978096 -->\n",
       "<g id=\"node13\" class=\"node\">\n",
       "<title>140505233978096</title>\n",
       "<polygon fill=\"#add8e6\" stroke=\"#000000\" points=\"86,-739 27,-739 27,-708 86,-708 86,-739\"/>\n",
       "<text text-anchor=\"middle\" x=\"56.5\" y=\"-715\" font-family=\"monospace\" font-size=\"10.00\" fill=\"#000000\"> (1, 1)</text>\n",
       "</g>\n",
       "<!-- 140505233978096&#45;&gt;140505224964112 -->\n",
       "<g id=\"edge11\" class=\"edge\">\n",
       "<title>140505233978096&#45;&gt;140505224964112</title>\n",
       "<path fill=\"none\" stroke=\"#000000\" d=\"M56.5,-707.791C56.5,-700.0249 56.5,-690.5706 56.5,-682.3129\"/>\n",
       "<polygon fill=\"#000000\" stroke=\"#000000\" points=\"60.0001,-682.0647 56.5,-672.0648 53.0001,-682.0648 60.0001,-682.0647\"/>\n",
       "</g>\n",
       "<!-- 140505224963856 -->\n",
       "<g id=\"node14\" class=\"node\">\n",
       "<title>140505224963856</title>\n",
       "<polygon fill=\"#d3d3d3\" stroke=\"#000000\" points=\"232,-495 131,-495 131,-476 232,-476 232,-495\"/>\n",
       "<text text-anchor=\"middle\" x=\"181.5\" y=\"-483\" font-family=\"monospace\" font-size=\"10.00\" fill=\"#000000\">AccumulateGrad</text>\n",
       "</g>\n",
       "<!-- 140505224963856&#45;&gt;140505224963152 -->\n",
       "<g id=\"edge12\" class=\"edge\">\n",
       "<title>140505224963856&#45;&gt;140505224963152</title>\n",
       "<path fill=\"none\" stroke=\"#000000\" d=\"M171.6563,-475.9688C162.0961,-466.7121 147.3777,-452.461 135.8505,-441.2997\"/>\n",
       "<polygon fill=\"#000000\" stroke=\"#000000\" points=\"138.1014,-438.6073 128.4825,-434.1656 133.2321,-443.6362 138.1014,-438.6073\"/>\n",
       "</g>\n",
       "<!-- 140505345408080 -->\n",
       "<g id=\"node15\" class=\"node\">\n",
       "<title>140505345408080</title>\n",
       "<polygon fill=\"#add8e6\" stroke=\"#000000\" points=\"208.5,-562 154.5,-562 154.5,-531 208.5,-531 208.5,-562\"/>\n",
       "<text text-anchor=\"middle\" x=\"181.5\" y=\"-538\" font-family=\"monospace\" font-size=\"10.00\" fill=\"#000000\"> (1)</text>\n",
       "</g>\n",
       "<!-- 140505345408080&#45;&gt;140505224963856 -->\n",
       "<g id=\"edge13\" class=\"edge\">\n",
       "<title>140505345408080&#45;&gt;140505224963856</title>\n",
       "<path fill=\"none\" stroke=\"#000000\" d=\"M181.5,-530.791C181.5,-523.0249 181.5,-513.5706 181.5,-505.3129\"/>\n",
       "<polygon fill=\"#000000\" stroke=\"#000000\" points=\"185.0001,-505.0647 181.5,-495.0648 178.0001,-505.0648 185.0001,-505.0647\"/>\n",
       "</g>\n",
       "<!-- 140505224963472 -->\n",
       "<g id=\"node16\" class=\"node\">\n",
       "<title>140505224963472</title>\n",
       "<polygon fill=\"#d3d3d3\" stroke=\"#000000\" points=\"280,-318 203,-318 203,-299 280,-299 280,-318\"/>\n",
       "<text text-anchor=\"middle\" x=\"241.5\" y=\"-306\" font-family=\"monospace\" font-size=\"10.00\" fill=\"#000000\">TBackward0</text>\n",
       "</g>\n",
       "<!-- 140505224963472&#45;&gt;140505224962896 -->\n",
       "<g id=\"edge14\" class=\"edge\">\n",
       "<title>140505224963472&#45;&gt;140505224962896</title>\n",
       "<path fill=\"none\" stroke=\"#000000\" d=\"M231.9688,-298.9688C222.7121,-289.7121 208.461,-275.461 197.2997,-264.2997\"/>\n",
       "<polygon fill=\"#000000\" stroke=\"#000000\" points=\"199.7116,-261.7618 190.1656,-257.1656 194.7618,-266.7116 199.7116,-261.7618\"/>\n",
       "</g>\n",
       "<!-- 140505224963536 -->\n",
       "<g id=\"node17\" class=\"node\">\n",
       "<title>140505224963536</title>\n",
       "<polygon fill=\"#d3d3d3\" stroke=\"#000000\" points=\"294,-373 193,-373 193,-354 294,-354 294,-373\"/>\n",
       "<text text-anchor=\"middle\" x=\"243.5\" y=\"-361\" font-family=\"monospace\" font-size=\"10.00\" fill=\"#000000\">AccumulateGrad</text>\n",
       "</g>\n",
       "<!-- 140505224963536&#45;&gt;140505224963472 -->\n",
       "<g id=\"edge15\" class=\"edge\">\n",
       "<title>140505224963536&#45;&gt;140505224963472</title>\n",
       "<path fill=\"none\" stroke=\"#000000\" d=\"M243.1516,-353.9197C242.8967,-346.9083 242.5416,-337.1442 242.226,-328.4652\"/>\n",
       "<polygon fill=\"#000000\" stroke=\"#000000\" points=\"245.719,-328.207 241.8578,-318.3408 238.7237,-328.4614 245.719,-328.207\"/>\n",
       "</g>\n",
       "<!-- 140505345859408 -->\n",
       "<g id=\"node18\" class=\"node\">\n",
       "<title>140505345859408</title>\n",
       "<polygon fill=\"#add8e6\" stroke=\"#000000\" points=\"273,-440 214,-440 214,-409 273,-409 273,-440\"/>\n",
       "<text text-anchor=\"middle\" x=\"243.5\" y=\"-416\" font-family=\"monospace\" font-size=\"10.00\" fill=\"#000000\"> (1, 1)</text>\n",
       "</g>\n",
       "<!-- 140505345859408&#45;&gt;140505224963536 -->\n",
       "<g id=\"edge16\" class=\"edge\">\n",
       "<title>140505345859408&#45;&gt;140505224963536</title>\n",
       "<path fill=\"none\" stroke=\"#000000\" d=\"M243.5,-408.791C243.5,-401.0249 243.5,-391.5706 243.5,-383.3129\"/>\n",
       "<polygon fill=\"#000000\" stroke=\"#000000\" points=\"247.0001,-383.0647 243.5,-373.0648 240.0001,-383.0648 247.0001,-383.0647\"/>\n",
       "</g>\n",
       "<!-- 140505224963088 -->\n",
       "<g id=\"node19\" class=\"node\">\n",
       "<title>140505224963088</title>\n",
       "<polygon fill=\"#d3d3d3\" stroke=\"#000000\" points=\"356,-196 255,-196 255,-177 356,-177 356,-196\"/>\n",
       "<text text-anchor=\"middle\" x=\"305.5\" y=\"-184\" font-family=\"monospace\" font-size=\"10.00\" fill=\"#000000\">AccumulateGrad</text>\n",
       "</g>\n",
       "<!-- 140505224963088&#45;&gt;140505345382992 -->\n",
       "<g id=\"edge17\" class=\"edge\">\n",
       "<title>140505224963088&#45;&gt;140505345382992</title>\n",
       "<path fill=\"none\" stroke=\"#000000\" d=\"M294.5262,-176.9197C285.4242,-168.9735 272.2721,-157.4916 261.4693,-148.0605\"/>\n",
       "<polygon fill=\"#000000\" stroke=\"#000000\" points=\"263.6072,-145.2808 253.7722,-141.3408 259.0036,-150.5541 263.6072,-145.2808\"/>\n",
       "</g>\n",
       "<!-- 140505225006064 -->\n",
       "<g id=\"node20\" class=\"node\">\n",
       "<title>140505225006064</title>\n",
       "<polygon fill=\"#add8e6\" stroke=\"#000000\" points=\"332.5,-263 278.5,-263 278.5,-232 332.5,-232 332.5,-263\"/>\n",
       "<text text-anchor=\"middle\" x=\"305.5\" y=\"-239\" font-family=\"monospace\" font-size=\"10.00\" fill=\"#000000\"> (1)</text>\n",
       "</g>\n",
       "<!-- 140505225006064&#45;&gt;140505224963088 -->\n",
       "<g id=\"edge18\" class=\"edge\">\n",
       "<title>140505225006064&#45;&gt;140505224963088</title>\n",
       "<path fill=\"none\" stroke=\"#000000\" d=\"M305.5,-231.791C305.5,-224.0249 305.5,-214.5706 305.5,-206.3129\"/>\n",
       "<polygon fill=\"#000000\" stroke=\"#000000\" points=\"309.0001,-206.0647 305.5,-196.0648 302.0001,-206.0648 309.0001,-206.0647\"/>\n",
       "</g>\n",
       "</g>\n",
       "</svg>\n"
      ],
      "text/plain": [
       "<graphviz.dot.Digraph at 0x7fc9ec05e310>"
      ]
     },
     "execution_count": 80,
     "metadata": {},
     "output_type": "execute_result"
    }
   ],
   "source": [
    "lin_layer1 = torch.nn.Linear(1,1)\n",
    "lin_layer1.weight.data = torch.tensor([[0.5]], dtype= torch.float32)\n",
    "lin_layer1.bias.data = torch.tensor([0.25], dtype= torch.float32)\n",
    "lin_layer2 = torch.nn.Linear(1,1)\n",
    "lin_layer2.weight.data = torch.tensor([[0.4]], dtype= torch.float32)\n",
    "lin_layer2.bias.data = torch.tensor([0.2], dtype= torch.float32)\n",
    "\n",
    "act1 = torch.nn.Sigmoid()\n",
    "act2 = torch.nn.Sigmoid()\n",
    "\n",
    "y1 = lin_layer1(A)\n",
    "out1 = act1(y1)\n",
    "y2 = lin_layer2(out1)\n",
    "Y = act2(y2)\n",
    "Y.backward()\n",
    "\n",
    "print(\"Gradients of the weights of the first linear layer :\", lin_layer1.weight.grad)\n",
    "print(\"Gradient of the bias of the first linear layer :\", lin_layer1.bias.grad)\n",
    "print(\"Gradients of the weights of the second linear layer :\", lin_layer2.weight.grad)\n",
    "print(\"Gradient of the bias of the second linear layer :\", lin_layer2.bias.grad)\n",
    "make_dot(Y)"
   ]
  },
  {
   "cell_type": "markdown",
   "metadata": {
    "id": "S47OaclQoXFQ"
   },
   "source": [
    "The [derivative](https://towardsdatascience.com/derivative-of-the-sigmoid-function-536880cf918e) of sigmoid is $\\sigma '(x) = \\sigma(x)(1- \\sigma(x)) $.\n",
    "Using the chain rule we have $ Y = f_2(j) = f_2(f_1(A)) $ , for the first weight matrix/scalar :     \\ $ \\frac{\\partial Y}{\\partial W_1} = f_2'((f_1(A_1 * W_1 +B_1) *W_2 +B_2)) * ((f_1(A_1 * W_1 +B_1) *W_2 +B_2))' = f_2'((f_1(A_1 * W_1 +B_1) *W_2 +B_2)) * (f_1(A_1 * W_1 +B_1)) *W_2 = f_2'((f_1(A_1 * W_1 +B_1) *W_2 +B_2)) * f_1'(A_1 * W_1 +B_1) * A_1 *W_2$\n",
    "for the first bias :    \\\n",
    " $ \\frac{\\partial Y}{\\partial B_1} = f_2'((f_1(A_1 * W_1 +B_1) *W_2 +B_2)) * ((f_1(A_1 * W_1 +B_1) *W_2 +B_2))' = f_2'((f_1(A_1 * W_1 +B_1) *W_2 +B_2)) * (f_1(A_1 * W_1 +B_1)) *W_2 = f_2'((f_1(A_1 * W_1 +B_1) *W_2 +B_2)) * f_1'(A_1 * W_1 +B_1) * 1 *W_2$  \\\n",
    "\n",
    " For the second weight matrix/sacalar :    \\\n",
    "  $ \\frac{\\partial Y}{\\partial W_2} = f_2'((f_1(A_1 * W_1 +B_1) *W_2 +B_2)) * ((f_1(A_1 * W_1 +B_1) *W_2 +B_2))' = f_2'((f_1(A_1 * W_1 +B_1) *W_2 +B_2)) * (f_1(A_1 * W_1 +B_1)) $\n",
    "\\\n",
    " For the second bias  :    \\\n",
    "  $ \\frac{\\partial Y}{\\partial B_2} = f_2'((f_1(A_1 * W_1 +B_1) *W_2 +B_2)) * ((f_1(A_1 * W_1 +B_1) *W_2 +B_2))' = f_2'((f_1(A_1 * W_1 +B_1) *W_2 +B_2)) * 1 $\n",
    "\n",
    "\n",
    "\n"
   ]
  },
  {
   "cell_type": "code",
   "execution_count": null,
   "metadata": {
    "colab": {
     "base_uri": "https://localhost:8080/"
    },
    "executionInfo": {
     "elapsed": 149,
     "status": "ok",
     "timestamp": 1656518009161,
     "user": {
      "displayName": "McGill McMedHacks",
      "userId": "14621413533534576587"
     },
     "user_tz": 240
    },
    "id": "Pk9PzDRntTen",
    "outputId": "a13d8a38-d320-45e0-a4a8-cf1a43c1743e"
   },
   "outputs": [
    {
     "name": "stdout",
     "output_type": "stream",
     "text": [
      "First weight gradient manually computed :  tensor([[0.0069]])\n",
      "First bias gradient manually computed :  tensor([[0.0229]])\n",
      "Second weight gradient manually computed :  tensor([0.1427])\n",
      "Second bias gradient manually computed :  tensor([0.2383])\n"
     ]
    }
   ],
   "source": [
    "def derivative_sig(x):\n",
    "  sig = torch.nn.Sigmoid()\n",
    "  return sig(x) * (1-sig(x))\n",
    "print(\"First weight gradient manually computed : \",derivative_sig(y2.detach()) * derivative_sig(y1.detach()) * lin_layer2.weight.data * A)\n",
    "print(\"First bias gradient manually computed : \",derivative_sig(y2.detach()) * derivative_sig(y1.detach()) * lin_layer2.weight.data )\n",
    "print(\"Second weight gradient manually computed : \",derivative_sig(y2.detach()) * out1.detach() )\n",
    "print(\"Second bias gradient manually computed : \",derivative_sig(y2.detach())  )"
   ]
  },
  {
   "cell_type": "markdown",
   "metadata": {
    "id": "pLQyffo5cPxp"
   },
   "source": [
    "Exercise : Do the same thing with a Convolutional layer? "
   ]
  },
  {
   "cell_type": "markdown",
   "metadata": {
    "id": "DzhAYDavFiej"
   },
   "source": [
    "Typical training loop for a NN from Pytorch classifier [tutorial](https://pytorch.org/tutorials/beginner/blitz/cifar10_tutorial.html):\n",
    "\n",
    "```\n",
    "for epoch in range(2):  # loop over the dataset multiple times\n",
    "\n",
    "    for i, data in enumerate(trainloader, 0): # loop over the samples in the dataset \n",
    "\n",
    "        inputs, ground_truth = data\n",
    "        \n",
    "        # zero the parameter gradients\n",
    "        optimizer.zero_grad()\n",
    "\n",
    "        # forward + backward + optimize\n",
    "        outputs = net(inputs)\n",
    "        loss = criterion(outputs, ground_truth)\n",
    "        loss.backward()\n",
    "        optimizer.step()\n",
    "```\n",
    "\n"
   ]
  },
  {
   "cell_type": "markdown",
   "metadata": {
    "id": "XPlqq2ctq6Lt"
   },
   "source": [
    "##Other resources"
   ]
  },
  {
   "cell_type": "markdown",
   "metadata": {
    "id": "L6eRi2jLS0Ff"
   },
   "source": [
    "#### Fine tuning"
   ]
  },
  {
   "cell_type": "markdown",
   "metadata": {
    "id": "XuSQknrtWVZJ"
   },
   "source": [
    "Commonly used when you want to finetune a model. "
   ]
  },
  {
   "cell_type": "code",
   "execution_count": null,
   "metadata": {
    "colab": {
     "base_uri": "https://localhost:8080/",
     "height": 66,
     "referenced_widgets": [
      "10b6a2461e654e26a846498c967138f5",
      "e68ecbc5d5f64c6aa6d6e4325117a75e",
      "086481ab032e41dcb502dd0e92c6ee63",
      "2ca170e597c64cbba1a72017cac59942",
      "638e3ee62bc94e69b3df50981d9a08f2",
      "27724064ba0b46f5a64a0f79b69ec7a5",
      "5d2cd4af4e6444f5a1ebd4bd924dbd3f",
      "ce56c058ba2f40d49699c6c5e4deb5ef",
      "e913ee17b5364c3aaa6e291e46078439",
      "1bed9893552649978311572cce122253",
      "fc9ef4ba9c6c4c61811d9f6d82850f17"
     ]
    },
    "executionInfo": {
     "elapsed": 3141,
     "status": "ok",
     "timestamp": 1656389265403,
     "user": {
      "displayName": "Manon Petitjean",
      "userId": "03887899202017477358"
     },
     "user_tz": 240
    },
    "id": "qrrI4x18lIfH",
    "outputId": "544db041-bd6a-4ea4-c26f-6ca877b3f69d"
   },
   "outputs": [
    {
     "name": "stderr",
     "output_type": "stream",
     "text": [
      "Downloading: \"https://download.pytorch.org/models/resnet18-f37072fd.pth\" to /root/.cache/torch/hub/checkpoints/resnet18-f37072fd.pth\n"
     ]
    },
    {
     "data": {
      "application/vnd.jupyter.widget-view+json": {
       "model_id": "10b6a2461e654e26a846498c967138f5",
       "version_major": 2,
       "version_minor": 0
      },
      "text/plain": [
       "  0%|          | 0.00/44.7M [00:00<?, ?B/s]"
      ]
     },
     "metadata": {},
     "output_type": "display_data"
    }
   ],
   "source": [
    "import torchvision\n",
    "\n",
    "model = torchvision.models.resnet18(pretrained=True)\n",
    "\n",
    "for param in model.parameters():\n",
    "    param.requires_grad = False"
   ]
  },
  {
   "cell_type": "code",
   "execution_count": null,
   "metadata": {
    "colab": {
     "base_uri": "https://localhost:8080/"
    },
    "executionInfo": {
     "elapsed": 7,
     "status": "ok",
     "timestamp": 1656389276361,
     "user": {
      "displayName": "Manon Petitjean",
      "userId": "03887899202017477358"
     },
     "user_tz": 240
    },
    "id": "f8RNxEhEfZ4b",
    "outputId": "b7c4b528-0c6f-49e2-9941-4bf3ce7c0a4e"
   },
   "outputs": [
    {
     "name": "stdout",
     "output_type": "stream",
     "text": [
      "<class 'torch.nn.parameter.Parameter'>\n"
     ]
    }
   ],
   "source": [
    "for param in model.parameters():\n",
    "  print(type(param))\n",
    "  break"
   ]
  },
  {
   "cell_type": "markdown",
   "metadata": {
    "id": "bWI36PsaZhM9"
   },
   "source": [
    "### Accumulating the gradients "
   ]
  },
  {
   "cell_type": "markdown",
   "metadata": {
    "id": "KIhEVJ5JTXpW"
   },
   "source": [
    "As explained in the Pytorch backward [documentation](https://pytorch.org/docs/stable/generated/torch.autograd.backward.html?highlight=backward#torch.autograd.backward), we can also keep the gradients or zero them depending on our objective."
   ]
  },
  {
   "cell_type": "code",
   "execution_count": null,
   "metadata": {
    "colab": {
     "base_uri": "https://localhost:8080/"
    },
    "executionInfo": {
     "elapsed": 935,
     "status": "ok",
     "timestamp": 1656389347422,
     "user": {
      "displayName": "Manon Petitjean",
      "userId": "03887899202017477358"
     },
     "user_tz": 240
    },
    "id": "BFxONdi8oyAQ",
    "outputId": "220a441c-9451-447f-aa66-710f12c2ee8f"
   },
   "outputs": [
    {
     "name": "stdout",
     "output_type": "stream",
     "text": [
      "diag : \n",
      " tensor([[1., 0., 0.],\n",
      "        [0., 1., 0.],\n",
      "        [0., 0., 1.]], requires_grad=True)\n",
      "===========================\n",
      "First backward pass \n",
      "Gradients : \n",
      " tensor([[4., 2., 2.],\n",
      "        [2., 4., 2.],\n",
      "        [2., 2., 4.]])\n",
      "===========================\n",
      "Second backward pass \n",
      "Gradients : \n",
      " tensor([[8., 4., 4.],\n",
      "        [4., 8., 4.],\n",
      "        [4., 4., 8.]])\n",
      "===========================\n",
      "Backward pass done after zeroing the gradients \n",
      "Gradients : \n",
      " tensor([[4., 2., 2.],\n",
      "        [2., 4., 2.],\n",
      "        [2., 2., 4.]])\n"
     ]
    }
   ],
   "source": [
    "diag = torch.eye(3, requires_grad=True)\n",
    "print(\"diag : \\n\", diag)\n",
    "print(\"===========================\")\n",
    "out = (diag+1).pow(2)\n",
    "out.sum().backward( retain_graph=True) \n",
    "print(\"First backward pass \")\n",
    "print(\"Gradients : \\n\" ,diag.grad)\n",
    "print(\"===========================\")\n",
    "out.sum().backward( retain_graph=True)\n",
    "print(\"Second backward pass \")\n",
    "print(\"Gradients : \\n\" ,diag.grad)\n",
    "print(\"===========================\")\n",
    "diag.grad.zero_()\n",
    "out.sum().backward( retain_graph=True)\n",
    "print(\"Backward pass done after zeroing the gradients \")\n",
    "print(\"Gradients : \\n\" ,diag.grad)"
   ]
  },
  {
   "cell_type": "code",
   "execution_count": null,
   "metadata": {
    "colab": {
     "base_uri": "https://localhost:8080/"
    },
    "executionInfo": {
     "elapsed": 1031,
     "status": "ok",
     "timestamp": 1656389623393,
     "user": {
      "displayName": "Manon Petitjean",
      "userId": "03887899202017477358"
     },
     "user_tz": 240
    },
    "id": "OfszT0asZ58i",
    "outputId": "a6163bf3-94ec-4a94-de40-db34af2be0eb"
   },
   "outputs": [
    {
     "name": "stdout",
     "output_type": "stream",
     "text": [
      "diag : \n",
      " tensor([[1., 0., 0.],\n",
      "        [0., 1., 0.],\n",
      "        [0., 0., 1.]], requires_grad=True)\n",
      "===========================\n",
      "First backward pass\n",
      "Gradients :  \n",
      " tensor([[4., 2., 2.],\n",
      "        [2., 4., 2.],\n",
      "        [2., 2., 4.]])\n",
      "===========================\n",
      "Second backward pass\n",
      "Gradients :  \n",
      " tensor([[18., 14., 14.],\n",
      "        [14., 18., 14.],\n",
      "        [14., 14., 18.]])\n"
     ]
    }
   ],
   "source": [
    "diag = torch.eye(3, requires_grad=True)\n",
    "print(\"diag : \\n\", diag)\n",
    "print(\"===========================\")\n",
    "out = (diag+1).pow(2)\n",
    "out.sum().backward( ) \n",
    "print(\"First backward pass\")\n",
    "print(\"Gradients :  \\n\" ,diag.grad)\n",
    "print(\"===========================\")\n",
    "out = (diag+6).pow(2)\n",
    "out.sum().backward( )\n",
    "print(\"Second backward pass\")\n",
    "print(\"Gradients :  \\n\" ,diag.grad)\n"
   ]
  },
  {
   "cell_type": "code",
   "execution_count": null,
   "metadata": {
    "colab": {
     "base_uri": "https://localhost:8080/"
    },
    "executionInfo": {
     "elapsed": 5,
     "status": "ok",
     "timestamp": 1656389667564,
     "user": {
      "displayName": "Manon Petitjean",
      "userId": "03887899202017477358"
     },
     "user_tz": 240
    },
    "id": "HCHZVVWCataQ",
    "outputId": "d28510b4-151a-4a0c-a068-ad6e23e70f1b"
   },
   "outputs": [
    {
     "name": "stdout",
     "output_type": "stream",
     "text": [
      "Check on intermediate gradients : \n",
      " tensor([[14., 12., 12.],\n",
      "        [12., 14., 12.],\n",
      "        [12., 12., 14.]])\n"
     ]
    }
   ],
   "source": [
    "diag.grad.zero_()\n",
    "out = (diag+6).pow(2)\n",
    "out.sum().backward( )\n",
    "print(\"Check on intermediate gradients : \\n\" ,diag.grad)"
   ]
  },
  {
   "cell_type": "markdown",
   "metadata": {
    "id": "ZXguCV2EY6zX"
   },
   "source": [
    "Learn more about GPU usage in Pytorch [CUDA Documentation](https://pytorch.org/docs/stable/notes/cuda.html)\n",
    "and on this incredibly useful NVIDIA best practices [youtube video](https://www.youtube.com/watch?v=9mS1fIYj1So)"
   ]
  },
  {
   "cell_type": "markdown",
   "metadata": {
    "id": "65P6etxOEhRK"
   },
   "source": [
    "Other resources : \n",
    "\n",
    "\n",
    "\n",
    "*   Rewritting auto grad function by [extending](https://pytorch.org/docs/stable/notes/extending.html#extending-autograd) autograd class.\n",
    "*   Autograd with [complex](https://pytorch.org/docs/stable/notes/autograd.html#complex-autograd-doc) numbers.\n",
    "*   Learn more about GPU usage in Pytorch [CUDA Documentation](https://pytorch.org/docs/stable/notes/cuda.html) and on this incredibly useful NVIDIA best practices [youtube video](https://www.youtube.com/watch?v=9mS1fIYj1So)\n",
    "\n",
    "In general, the Pytorch [documentation](https://pytorch.org/docs/stable/index.html) is incredibly rich. Please search what you need in it and if you don't find what you are looking for, Pytorch [forum](https://discuss.pytorch.org/) is also very useful. Make sure you are using the latest version of Pytorch to match with the documentation."
   ]
  },
  {
   "cell_type": "markdown",
   "metadata": {
    "id": "cP7VASMK0owZ"
   },
   "source": [
    "If you have some time left, introduce Dataloader class\n"
   ]
  },
  {
   "cell_type": "code",
   "execution_count": null,
   "metadata": {
    "id": "4kHBnHcR0rzy"
   },
   "outputs": [],
   "source": []
  }
 ],
 "metadata": {
  "accelerator": "GPU",
  "colab": {
   "collapsed_sections": [],
   "name": "Tensors&Autograd workshop.ipynb",
   "provenance": [],
   "toc_visible": true
  },
  "gpuClass": "standard",
  "kernelspec": {
   "display_name": "Python 3 (ipykernel)",
   "language": "python",
   "name": "python3"
  },
  "language_info": {
   "codemirror_mode": {
    "name": "ipython",
    "version": 3
   },
   "file_extension": ".py",
   "mimetype": "text/x-python",
   "name": "python",
   "nbconvert_exporter": "python",
   "pygments_lexer": "ipython3",
   "version": "3.10.12"
  },
  "widgets": {
   "application/vnd.jupyter.widget-state+json": {
    "086481ab032e41dcb502dd0e92c6ee63": {
     "model_module": "@jupyter-widgets/controls",
     "model_module_version": "1.5.0",
     "model_name": "FloatProgressModel",
     "state": {
      "_dom_classes": [],
      "_model_module": "@jupyter-widgets/controls",
      "_model_module_version": "1.5.0",
      "_model_name": "FloatProgressModel",
      "_view_count": null,
      "_view_module": "@jupyter-widgets/controls",
      "_view_module_version": "1.5.0",
      "_view_name": "ProgressView",
      "bar_style": "success",
      "description": "",
      "description_tooltip": null,
      "layout": "IPY_MODEL_ce56c058ba2f40d49699c6c5e4deb5ef",
      "max": 46830571,
      "min": 0,
      "orientation": "horizontal",
      "style": "IPY_MODEL_e913ee17b5364c3aaa6e291e46078439",
      "value": 46830571
     }
    },
    "10b6a2461e654e26a846498c967138f5": {
     "model_module": "@jupyter-widgets/controls",
     "model_module_version": "1.5.0",
     "model_name": "HBoxModel",
     "state": {
      "_dom_classes": [],
      "_model_module": "@jupyter-widgets/controls",
      "_model_module_version": "1.5.0",
      "_model_name": "HBoxModel",
      "_view_count": null,
      "_view_module": "@jupyter-widgets/controls",
      "_view_module_version": "1.5.0",
      "_view_name": "HBoxView",
      "box_style": "",
      "children": [
       "IPY_MODEL_e68ecbc5d5f64c6aa6d6e4325117a75e",
       "IPY_MODEL_086481ab032e41dcb502dd0e92c6ee63",
       "IPY_MODEL_2ca170e597c64cbba1a72017cac59942"
      ],
      "layout": "IPY_MODEL_638e3ee62bc94e69b3df50981d9a08f2"
     }
    },
    "1bed9893552649978311572cce122253": {
     "model_module": "@jupyter-widgets/base",
     "model_module_version": "1.2.0",
     "model_name": "LayoutModel",
     "state": {
      "_model_module": "@jupyter-widgets/base",
      "_model_module_version": "1.2.0",
      "_model_name": "LayoutModel",
      "_view_count": null,
      "_view_module": "@jupyter-widgets/base",
      "_view_module_version": "1.2.0",
      "_view_name": "LayoutView",
      "align_content": null,
      "align_items": null,
      "align_self": null,
      "border": null,
      "bottom": null,
      "display": null,
      "flex": null,
      "flex_flow": null,
      "grid_area": null,
      "grid_auto_columns": null,
      "grid_auto_flow": null,
      "grid_auto_rows": null,
      "grid_column": null,
      "grid_gap": null,
      "grid_row": null,
      "grid_template_areas": null,
      "grid_template_columns": null,
      "grid_template_rows": null,
      "height": null,
      "justify_content": null,
      "justify_items": null,
      "left": null,
      "margin": null,
      "max_height": null,
      "max_width": null,
      "min_height": null,
      "min_width": null,
      "object_fit": null,
      "object_position": null,
      "order": null,
      "overflow": null,
      "overflow_x": null,
      "overflow_y": null,
      "padding": null,
      "right": null,
      "top": null,
      "visibility": null,
      "width": null
     }
    },
    "27724064ba0b46f5a64a0f79b69ec7a5": {
     "model_module": "@jupyter-widgets/base",
     "model_module_version": "1.2.0",
     "model_name": "LayoutModel",
     "state": {
      "_model_module": "@jupyter-widgets/base",
      "_model_module_version": "1.2.0",
      "_model_name": "LayoutModel",
      "_view_count": null,
      "_view_module": "@jupyter-widgets/base",
      "_view_module_version": "1.2.0",
      "_view_name": "LayoutView",
      "align_content": null,
      "align_items": null,
      "align_self": null,
      "border": null,
      "bottom": null,
      "display": null,
      "flex": null,
      "flex_flow": null,
      "grid_area": null,
      "grid_auto_columns": null,
      "grid_auto_flow": null,
      "grid_auto_rows": null,
      "grid_column": null,
      "grid_gap": null,
      "grid_row": null,
      "grid_template_areas": null,
      "grid_template_columns": null,
      "grid_template_rows": null,
      "height": null,
      "justify_content": null,
      "justify_items": null,
      "left": null,
      "margin": null,
      "max_height": null,
      "max_width": null,
      "min_height": null,
      "min_width": null,
      "object_fit": null,
      "object_position": null,
      "order": null,
      "overflow": null,
      "overflow_x": null,
      "overflow_y": null,
      "padding": null,
      "right": null,
      "top": null,
      "visibility": null,
      "width": null
     }
    },
    "2ca170e597c64cbba1a72017cac59942": {
     "model_module": "@jupyter-widgets/controls",
     "model_module_version": "1.5.0",
     "model_name": "HTMLModel",
     "state": {
      "_dom_classes": [],
      "_model_module": "@jupyter-widgets/controls",
      "_model_module_version": "1.5.0",
      "_model_name": "HTMLModel",
      "_view_count": null,
      "_view_module": "@jupyter-widgets/controls",
      "_view_module_version": "1.5.0",
      "_view_name": "HTMLView",
      "description": "",
      "description_tooltip": null,
      "layout": "IPY_MODEL_1bed9893552649978311572cce122253",
      "placeholder": "​",
      "style": "IPY_MODEL_fc9ef4ba9c6c4c61811d9f6d82850f17",
      "value": " 44.7M/44.7M [00:00&lt;00:00, 75.4MB/s]"
     }
    },
    "5d2cd4af4e6444f5a1ebd4bd924dbd3f": {
     "model_module": "@jupyter-widgets/controls",
     "model_module_version": "1.5.0",
     "model_name": "DescriptionStyleModel",
     "state": {
      "_model_module": "@jupyter-widgets/controls",
      "_model_module_version": "1.5.0",
      "_model_name": "DescriptionStyleModel",
      "_view_count": null,
      "_view_module": "@jupyter-widgets/base",
      "_view_module_version": "1.2.0",
      "_view_name": "StyleView",
      "description_width": ""
     }
    },
    "638e3ee62bc94e69b3df50981d9a08f2": {
     "model_module": "@jupyter-widgets/base",
     "model_module_version": "1.2.0",
     "model_name": "LayoutModel",
     "state": {
      "_model_module": "@jupyter-widgets/base",
      "_model_module_version": "1.2.0",
      "_model_name": "LayoutModel",
      "_view_count": null,
      "_view_module": "@jupyter-widgets/base",
      "_view_module_version": "1.2.0",
      "_view_name": "LayoutView",
      "align_content": null,
      "align_items": null,
      "align_self": null,
      "border": null,
      "bottom": null,
      "display": null,
      "flex": null,
      "flex_flow": null,
      "grid_area": null,
      "grid_auto_columns": null,
      "grid_auto_flow": null,
      "grid_auto_rows": null,
      "grid_column": null,
      "grid_gap": null,
      "grid_row": null,
      "grid_template_areas": null,
      "grid_template_columns": null,
      "grid_template_rows": null,
      "height": null,
      "justify_content": null,
      "justify_items": null,
      "left": null,
      "margin": null,
      "max_height": null,
      "max_width": null,
      "min_height": null,
      "min_width": null,
      "object_fit": null,
      "object_position": null,
      "order": null,
      "overflow": null,
      "overflow_x": null,
      "overflow_y": null,
      "padding": null,
      "right": null,
      "top": null,
      "visibility": null,
      "width": null
     }
    },
    "ce56c058ba2f40d49699c6c5e4deb5ef": {
     "model_module": "@jupyter-widgets/base",
     "model_module_version": "1.2.0",
     "model_name": "LayoutModel",
     "state": {
      "_model_module": "@jupyter-widgets/base",
      "_model_module_version": "1.2.0",
      "_model_name": "LayoutModel",
      "_view_count": null,
      "_view_module": "@jupyter-widgets/base",
      "_view_module_version": "1.2.0",
      "_view_name": "LayoutView",
      "align_content": null,
      "align_items": null,
      "align_self": null,
      "border": null,
      "bottom": null,
      "display": null,
      "flex": null,
      "flex_flow": null,
      "grid_area": null,
      "grid_auto_columns": null,
      "grid_auto_flow": null,
      "grid_auto_rows": null,
      "grid_column": null,
      "grid_gap": null,
      "grid_row": null,
      "grid_template_areas": null,
      "grid_template_columns": null,
      "grid_template_rows": null,
      "height": null,
      "justify_content": null,
      "justify_items": null,
      "left": null,
      "margin": null,
      "max_height": null,
      "max_width": null,
      "min_height": null,
      "min_width": null,
      "object_fit": null,
      "object_position": null,
      "order": null,
      "overflow": null,
      "overflow_x": null,
      "overflow_y": null,
      "padding": null,
      "right": null,
      "top": null,
      "visibility": null,
      "width": null
     }
    },
    "e68ecbc5d5f64c6aa6d6e4325117a75e": {
     "model_module": "@jupyter-widgets/controls",
     "model_module_version": "1.5.0",
     "model_name": "HTMLModel",
     "state": {
      "_dom_classes": [],
      "_model_module": "@jupyter-widgets/controls",
      "_model_module_version": "1.5.0",
      "_model_name": "HTMLModel",
      "_view_count": null,
      "_view_module": "@jupyter-widgets/controls",
      "_view_module_version": "1.5.0",
      "_view_name": "HTMLView",
      "description": "",
      "description_tooltip": null,
      "layout": "IPY_MODEL_27724064ba0b46f5a64a0f79b69ec7a5",
      "placeholder": "​",
      "style": "IPY_MODEL_5d2cd4af4e6444f5a1ebd4bd924dbd3f",
      "value": "100%"
     }
    },
    "e913ee17b5364c3aaa6e291e46078439": {
     "model_module": "@jupyter-widgets/controls",
     "model_module_version": "1.5.0",
     "model_name": "ProgressStyleModel",
     "state": {
      "_model_module": "@jupyter-widgets/controls",
      "_model_module_version": "1.5.0",
      "_model_name": "ProgressStyleModel",
      "_view_count": null,
      "_view_module": "@jupyter-widgets/base",
      "_view_module_version": "1.2.0",
      "_view_name": "StyleView",
      "bar_color": null,
      "description_width": ""
     }
    },
    "fc9ef4ba9c6c4c61811d9f6d82850f17": {
     "model_module": "@jupyter-widgets/controls",
     "model_module_version": "1.5.0",
     "model_name": "DescriptionStyleModel",
     "state": {
      "_model_module": "@jupyter-widgets/controls",
      "_model_module_version": "1.5.0",
      "_model_name": "DescriptionStyleModel",
      "_view_count": null,
      "_view_module": "@jupyter-widgets/base",
      "_view_module_version": "1.2.0",
      "_view_name": "StyleView",
      "description_width": ""
     }
    }
   }
  }
 },
 "nbformat": 4,
 "nbformat_minor": 4
}
