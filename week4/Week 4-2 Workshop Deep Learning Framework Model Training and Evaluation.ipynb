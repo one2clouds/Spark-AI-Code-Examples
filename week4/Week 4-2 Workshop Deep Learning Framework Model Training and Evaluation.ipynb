{
 "cells": [
  {
   "cell_type": "markdown",
   "metadata": {
    "id": "JHEQIXSOwk8e"
   },
   "source": [
    "# **Deep Learning Framework (Model Training and Evaluation)**\n",
    "\n",
    "Instructors: Mohammad Reza Mohebbian"
   ]
  },
  {
   "cell_type": "markdown",
   "metadata": {
    "id": "MI19SRkaw3GB"
   },
   "source": [
    "**What is PyTorch?**\n",
    "\n",
    "PyTorch is an open-source Python library for deep learning developed and maintained by Facebook. The project started in 2016 and quickly became a popular framework among developers and researchers.\n",
    "\n",
    "**What is Torch?**\n",
    "\n",
    "Torch (Torch7) is an open-source project for deep learning written in C and generally used via the Lua interface. It was a precursor project to PyTorch and is no longer actively developed. \n",
    "\n",
    "**How to install pytorch?**\n",
    "\n",
    "[Official website](https://pytorch.org/)"
   ]
  },
  {
   "cell_type": "code",
   "execution_count": null,
   "metadata": {
    "colab": {
     "base_uri": "https://localhost:8080/"
    },
    "executionInfo": {
     "elapsed": 3095,
     "status": "ok",
     "timestamp": 1656859224173,
     "user": {
      "displayName": "MR Mohebian",
      "userId": "11385197283458339832"
     },
     "user_tz": 420
    },
    "id": "qPU2iQ3Ew2T4",
    "outputId": "2e8e7296-5fee-4f00-92ce-424df337c97b"
   },
   "outputs": [
    {
     "name": "stdout",
     "output_type": "stream",
     "text": [
      "Looking in indexes: https://pypi.org/simple, https://us-python.pkg.dev/colab-wheels/public/simple/\n",
      "Requirement already satisfied: torch in /usr/local/lib/python3.7/dist-packages (1.11.0+cu113)\n",
      "Requirement already satisfied: typing-extensions in /usr/local/lib/python3.7/dist-packages (from torch) (4.1.1)\n"
     ]
    }
   ],
   "source": [
    "!pip install torch"
   ]
  },
  {
   "cell_type": "markdown",
   "metadata": {
    "id": "3fIIv7Ww1M4m"
   },
   "source": [
    "Check if it is installed:"
   ]
  },
  {
   "cell_type": "code",
   "execution_count": null,
   "metadata": {
    "colab": {
     "base_uri": "https://localhost:8080/"
    },
    "executionInfo": {
     "elapsed": 186,
     "status": "ok",
     "timestamp": 1656859251661,
     "user": {
      "displayName": "MR Mohebian",
      "userId": "11385197283458339832"
     },
     "user_tz": 420
    },
    "id": "LWh-TdQu07zU",
    "outputId": "81684954-081d-49d8-dd5c-ba309a01e978"
   },
   "outputs": [
    {
     "name": "stdout",
     "output_type": "stream",
     "text": [
      "1.11.0+cu113\n"
     ]
    }
   ],
   "source": [
    "import torch\n",
    "print(torch.__version__)"
   ]
  },
  {
   "cell_type": "markdown",
   "metadata": {
    "id": "urK1B00R1cWC"
   },
   "source": [
    "**Some important context in torch:**\n",
    "\n",
    "**Dataset** : [Documentation](https://pytorch.org/docs/stable/data.html#torch.utils.data.Dataset) "
   ]
  },
  {
   "cell_type": "code",
   "execution_count": null,
   "metadata": {
    "id": "IQ3hQ-PFg6bc"
   },
   "outputs": [],
   "source": []
  },
  {
   "cell_type": "code",
   "execution_count": null,
   "metadata": {
    "id": "Z2fb3UXf1cG1"
   },
   "outputs": [],
   "source": [
    "from torch.utils.data import Dataset\n",
    "from torch.utils.data import random_split\n",
    "from pandas import read_csv\n",
    "# from sklearn.preprocessing import LabelEncoder\n",
    "\n",
    "# dataset definition\n",
    "class CSVDataset(Dataset):\n",
    "    # load the dataset\n",
    "    def __init__(self, path):\n",
    "        # load the csv file as a dataframe\n",
    "        df = read_csv(path, header=None)\n",
    "        # store the inputs and outputs\n",
    "        self.X = df.values[:, :-1]\n",
    "        self.y = df.values[:, -1]\n",
    "        self.X = (self.X-self.X.mean())/self.X.std()\n",
    "        # ensure input data is floats\n",
    "        self.X = self.X.astype('float32')\n",
    "        # label encode target and ensure the values are floats\n",
    "        # self.y = LabelEncoder().fit_transform(self.y)\n",
    "        self.y = self.y.astype('float32')-1\n",
    "        self.y = self.y.reshape((len(self.y), 1))\n",
    " \n",
    "    # number of rows in the dataset\n",
    "    def __len__(self):\n",
    "        return len(self.X)\n",
    " \n",
    "    # get a row at an index\n",
    "    def __getitem__(self, idx):\n",
    "        return [self.X[idx], self.y[idx]]\n",
    " \n",
    "    # get indexes for train and test rows\n",
    "    def get_splits(self, n_test=0.2):\n",
    "        # determine sizes\n",
    "        test_size = round(n_test * len(self.X))\n",
    "        train_size = len(self.X) - test_size\n",
    "        # calculate the split\n",
    "        return random_split(self, [train_size, test_size])"
   ]
  },
  {
   "cell_type": "markdown",
   "metadata": {
    "id": "QuOq3YWuUO32"
   },
   "source": [
    "-------------------------------------------"
   ]
  },
  {
   "cell_type": "markdown",
   "metadata": {
    "id": "WzbCaFEGLVDa"
   },
   "source": [
    "**DataLoader** : [Documentation](https://pytorch.org/docs/stable/data.html) "
   ]
  },
  {
   "cell_type": "code",
   "execution_count": null,
   "metadata": {
    "id": "D5xaCZ2HDGOM"
   },
   "outputs": [],
   "source": [
    "from torch.utils.data import DataLoader\n",
    "\n",
    "# prepare the dataset\n",
    "def prepare_data(path):\n",
    "    # load the dataset\n",
    "    dataset = CSVDataset(path)\n",
    "    # calculate split\n",
    "    train, test = dataset.get_splits()\n",
    "    # prepare data loaders\n",
    "    train_dl = DataLoader(train, batch_size=32, shuffle=True)\n",
    "    test_dl = DataLoader(test, batch_size=1024, shuffle=False)\n",
    "    return train_dl, test_dl"
   ]
  },
  {
   "cell_type": "markdown",
   "metadata": {
    "id": "rinWvh6lUQ6W"
   },
   "source": [
    "---------------------------------------------------"
   ]
  },
  {
   "cell_type": "markdown",
   "metadata": {
    "id": "nEb0KEm7TnH7"
   },
   "source": [
    "**Model** : [Documentation](https://pytorch.org/docs/stable/generated/torch.nn.Module.html)"
   ]
  },
  {
   "cell_type": "code",
   "execution_count": null,
   "metadata": {
    "id": "N8ET67a3C16K"
   },
   "outputs": [],
   "source": [
    "from torch.nn import Linear\n",
    "from torch.nn import ReLU\n",
    "from torch.nn import Sigmoid\n",
    "from torch.nn import Module\n",
    "from torch.nn.init import kaiming_uniform_\n",
    "from torch.nn.init import xavier_uniform_\n",
    "\n",
    "# model definition\n",
    "class MLP(Module):\n",
    "    # define model elements\n",
    "    def __init__(self, n_inputs):\n",
    "        super(MLP, self).__init__()\n",
    "        # input to first hidden layer\n",
    "        self.hidden1 = Linear(n_inputs, 10)\n",
    "        # kaiming_uniform_(self.hidden1.weight, nonlinearity='relu')\n",
    "        self.act1 = ReLU()\n",
    "        # second hidden layer\n",
    "        self.hidden2 = Linear(10, 8)\n",
    "        # kaiming_uniform_(self.hidden2.weight, nonlinearity='relu')\n",
    "        self.act2 = ReLU()\n",
    "        # third hidden layer and output\n",
    "        self.hidden3 = Linear(8, 1)\n",
    "        # xavier_uniform_(self.hidden3.weight)\n",
    "        self.act3 = Sigmoid()\n",
    " \n",
    "    # forward propagate input\n",
    "    def forward(self, X):\n",
    "        # input to first hidden layer\n",
    "        X = self.hidden1(X)\n",
    "        X = self.act1(X)\n",
    "         # second hidden layer\n",
    "        X = self.hidden2(X)\n",
    "        X = self.act2(X)\n",
    "        # third hidden layer and output\n",
    "        X = self.hidden3(X)\n",
    "        X = self.act3(X)\n",
    "        return X"
   ]
  },
  {
   "cell_type": "markdown",
   "metadata": {
    "id": "FxLZGYxDUTLc"
   },
   "source": [
    "------------------------------------------------------------\n"
   ]
  },
  {
   "cell_type": "markdown",
   "metadata": {
    "id": "vwR7QaYRUU7Y"
   },
   "source": [
    "Optimizer and loss : [Documentation](https://pytorch.org/docs/stable/optim.html)"
   ]
  },
  {
   "cell_type": "code",
   "execution_count": null,
   "metadata": {
    "id": "SyeSkPuGUUwH"
   },
   "outputs": [],
   "source": [
    "from torch.optim import SGD, Adam\n",
    "from torch.nn import BCELoss,KLDivLoss\n",
    "import numpy as np\n",
    "\n",
    "# train the model\n",
    "trajecotry_epchs=[]\n",
    "def train_model(train_dl, model):\n",
    "    # define the optimization\n",
    "    criterion = BCELoss()\n",
    "    #optimizer = SGD(model.parameters(), lr=0.01, momentum=0.9)\n",
    "    optimizer= Adam(model.parameters(),lr=0.01)\n",
    "    # enumerate epochs\n",
    "    for epoch in range(1000):\n",
    "        trajecotry_loss=[]\n",
    "        # enumerate mini batches\n",
    "        for i, (inputs, targets) in enumerate(train_dl):\n",
    "            # clear the gradients\n",
    "            optimizer.zero_grad()\n",
    "            # compute the model output\n",
    "            yhat = model(inputs)\n",
    "            # calculate loss\n",
    "            loss = criterion(yhat, targets)\n",
    "            trajecotry_loss.append(loss.item())\n",
    "            # credit assignment\n",
    "            loss.backward()\n",
    "            # update model weights\n",
    "            optimizer.step()\n",
    "        trajecotry_epchs.append(np.mean(trajecotry_loss))\n",
    "    return trajecotry_epchs"
   ]
  },
  {
   "cell_type": "code",
   "execution_count": null,
   "metadata": {
    "id": "ZXtYBQjSmFWU"
   },
   "outputs": [],
   "source": [
    "from numpy import vstack\n",
    "from sklearn.metrics import accuracy_score, f1_score, roc_auc_score\n",
    "from torch import Tensor\n",
    "\n",
    "# make a class prediction for one row of data\n",
    "def predict(row, model):\n",
    "    # convert row to data\n",
    "    row = Tensor([row])\n",
    "    # make prediction\n",
    "    yhat = model(row)\n",
    "    # retrieve numpy array\n",
    "    yhat = yhat.detach().numpy()\n",
    "    return yhat\n",
    "\n",
    "# evaluate the model\n",
    "def evaluate_model(test_dl, model):\n",
    "    predictions, actuals = list(), list()\n",
    "    for i, (inputs, targets) in enumerate(test_dl):\n",
    "        # evaluate the model on the test set\n",
    "        yhat = model(inputs)\n",
    "        # retrieve numpy array\n",
    "        yhat = yhat.detach().numpy()\n",
    "        actual = targets.numpy()\n",
    "        actual = actual.reshape((len(actual), 1))\n",
    "        # round to class values\n",
    "        yhat = yhat.round()\n",
    "        # store\n",
    "        predictions.append(yhat)\n",
    "        actuals.append(actual)\n",
    "    predictions, actuals = vstack(predictions), vstack(actuals)\n",
    "    # calculate accuracy\n",
    "    acc = accuracy_score(actuals, predictions)\n",
    "    f1 = f1_score(actuals, predictions)\n",
    "    auc= roc_auc_score(actuals,predictions)\n",
    "    return acc, f1, auc"
   ]
  },
  {
   "cell_type": "markdown",
   "metadata": {
    "id": "Ntyg09-GnDE8"
   },
   "source": [
    "Main pipeline"
   ]
  },
  {
   "cell_type": "code",
   "execution_count": null,
   "metadata": {
    "colab": {
     "base_uri": "https://localhost:8080/"
    },
    "executionInfo": {
     "elapsed": 16696,
     "status": "ok",
     "timestamp": 1656865144248,
     "user": {
      "displayName": "MR Mohebian",
      "userId": "11385197283458339832"
     },
     "user_tz": 420
    },
    "id": "d4poo-hemYXu",
    "outputId": "12facf68-1693-4e29-f8ba-0febd7e33e47"
   },
   "outputs": [
    {
     "name": "stdout",
     "output_type": "stream",
     "text": [
      "276 69\n",
      "Accuracy: 0.696\n",
      "F1_score: 0.747\n",
      "AUC: 0.682\n",
      "Predicted: 1.000 (class=1)\n"
     ]
    }
   ],
   "source": [
    "# prepare the data\n",
    "# https://archive.ics.uci.edu/ml/datasets/Liver+Disorders\n",
    "path = 'https://archive.ics.uci.edu/ml/machine-learning-databases/liver-disorders/bupa.data'\n",
    "train_dl, test_dl = prepare_data(path)\n",
    "print(len(train_dl.dataset), len(test_dl.dataset))\n",
    "# define the network\n",
    "model = MLP(6)\n",
    "# train the model\n",
    "trajectory_epochs = train_model(train_dl, model)\n",
    "# evaluate the model\n",
    "acc, f1 , auc = evaluate_model(test_dl, model)\n",
    "print('Accuracy: %.3f' % acc)\n",
    "print('F1_score: %.3f' % f1)\n",
    "print('AUC: %.3f' % auc)\n",
    "# make a single prediction (expect class=1)\n",
    "row = [94,65,38,27,17,0]\n",
    "yhat = predict(row, model)\n",
    "print('Predicted: %.3f (class=%d)' % (yhat, yhat.round()))"
   ]
  },
  {
   "cell_type": "code",
   "execution_count": null,
   "metadata": {
    "colab": {
     "base_uri": "https://localhost:8080/",
     "height": 282
    },
    "executionInfo": {
     "elapsed": 689,
     "status": "ok",
     "timestamp": 1656865792307,
     "user": {
      "displayName": "MR Mohebian",
      "userId": "11385197283458339832"
     },
     "user_tz": 420
    },
    "id": "mQHjtcqo25Rb",
    "outputId": "6e19495e-d564-4974-f9e5-d085dbd403e6"
   },
   "outputs": [
    {
     "data": {
      "text/plain": [
       "[<matplotlib.lines.Line2D at 0x7faabadd4f50>]"
      ]
     },
     "execution_count": 94,
     "metadata": {},
     "output_type": "execute_result"
    },
    {
     "data": {
      "image/png": "[encoded data removed]",
      "text/plain": [
       "<Figure size 432x288 with 1 Axes>"
      ]
     },
     "metadata": {
      "needs_background": "light"
     },
     "output_type": "display_data"
    }
   ],
   "source": [
    "import matplotlib.pyplot as plt\n",
    "\n",
    "plt.plot(trajectory_epochs)"
   ]
  },
  {
   "cell_type": "markdown",
   "metadata": {
    "id": "r81E3jWVQih1"
   },
   "source": [
    "**How we can improve it?**"
   ]
  },
  {
   "cell_type": "markdown",
   "metadata": {
    "id": "Ex0CieixQmVt"
   },
   "source": [
    "\n",
    "\n",
    "*   Normalization\n",
    "*   Feature Engineering\n",
    "*   Learning rate\n",
    "*   Epoch\n",
    "*   Loss\n",
    "  * KL\n",
    "  * Weighted loss\n",
    "*   Optimizer\n",
    "  * Adam\n",
    "  * AdamW\n",
    "*   Regularization\n",
    "  * optimizer = torch.optim.Adam(model.parameters(), lr=1e-4, weight_decay=1e-5)\n",
    "\n"
   ]
  },
  {
   "cell_type": "markdown",
   "metadata": {
    "id": "urnOKSedRStF"
   },
   "source": []
  }
 ],
 "metadata": {
  "colab": {
   "provenance": [
    {
     "file_id": "1vMv7oj5ifFdZJAvER2ou-N8u3yviZtzP",
     "timestamp": 1657025485124
    }
   ]
  },
  "kernelspec": {
   "display_name": "Python 3 (ipykernel)",
   "language": "python",
   "name": "python3"
  },
  "language_info": {
   "codemirror_mode": {
    "name": "ipython",
    "version": 3
   },
   "file_extension": ".py",
   "mimetype": "text/x-python",
   "name": "python",
   "nbconvert_exporter": "python",
   "pygments_lexer": "ipython3",
   "version": "3.10.12"
  }
 },
 "nbformat": 4,
 "nbformat_minor": 4
}
